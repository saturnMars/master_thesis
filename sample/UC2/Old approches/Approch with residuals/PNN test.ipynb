{
 "cells": [
  {
   "cell_type": "code",
   "execution_count": 6,
   "metadata": {
    "collapsed": false
   },
   "outputs": [
    {
     "name": "stderr",
     "output_type": "stream",
     "text": []
    },
    {
     "data": {
      "text/plain": [
       "0.9888888888888889"
      ]
     },
     "execution_count": 6,
     "metadata": {},
     "output_type": "execute_result"
    }
   ],
   "source": [
    "import numpy as np\n",
    "\n",
    "from sklearn import datasets, metrics\n",
    "from sklearn.model_selection import train_test_split\n",
    "from neupy import algorithms\n",
    "\n",
    "dataset = datasets.load_digits()\n",
    "x_train, x_test, y_train, y_test = train_test_split(dataset.data, dataset.target, test_size=0.3)\n",
    "\n",
    "pnn = algorithms.PNN(std=10, verbose=False)\n",
    "pnn.train(x_train, y_train)\n",
    "\n",
    "y_predicted = pnn.predict(x_test)\n",
    "metrics.accuracy_score(y_test, y_predicted)"
   ]
  },
  {
   "cell_type": "code",
   "execution_count": 16,
   "metadata": {
    "collapsed": false
   },
   "outputs": [
    {
     "name": "stdout",
     "output_type": "stream",
     "text": [
      "<class 'numpy.ndarray'>\n",
      "<class 'numpy.ndarray'>\n",
      "> Start classify iris dataset\n",
      "Test #1 : Guessed 15 out of 15\n",
      "Test #2 : Guessed 14 out of 15\n",
      "Test #3 : Guessed 15 out of 15\n",
      "Test #4 : Guessed 14 out of 15\n",
      "Test #5 : Guessed 13 out of 15\n",
      "Test #6 : Guessed 15 out of 15\n",
      "Test #7 : Guessed 13 out of 15\n",
      "Test #8 : Guessed 15 out of 15\n",
      "Test #9 : Guessed 15 out of 15\n",
      "Test #10: Guessed 15 out of 15\n"
     ]
    }
   ],
   "source": [
    "import numpy as np\n",
    "from sklearn import datasets\n",
    "from sklearn.model_selection import StratifiedKFold\n",
    "\n",
    "from neupy.algorithms import PNN\n",
    "\n",
    "\n",
    "dataset = datasets.load_iris()\n",
    "print(dataset.data.__class__)\n",
    "print(dataset.target.__class__)\n",
    "data, target = dataset.data, dataset.target\n",
    "\n",
    "print(\"> Start classify iris dataset\")\n",
    "skfold = StratifiedKFold(n_splits=10)\n",
    "\n",
    "for i, (train, test) in enumerate(skfold.split(data, target), start=1):\n",
    "    x_train, x_test = data[train], data[test]\n",
    "    y_train, y_test = target[train], target[test]\n",
    "\n",
    "    pnn_network = PNN(std=0.1, verbose=False)\n",
    "    pnn_network.train(x_train, y_train)\n",
    "    result = pnn_network.predict(x_test)\n",
    "\n",
    "    n_predicted_correctly = np.sum(result == y_test)\n",
    "    n_test_samples = test.size\n",
    "\n",
    "    print(\"Test #{:<2}: Guessed {} out of {}\".format(\n",
    "        i, n_predicted_correctly, n_test_samples))"
   ]
  },
  {
   "cell_type": "code",
   "execution_count": null,
   "metadata": {
    "collapsed": true
   },
   "outputs": [],
   "source": []
  },
  {
   "cell_type": "code",
   "execution_count": null,
   "metadata": {
    "collapsed": true
   },
   "outputs": [],
   "source": []
  }
 ],
 "metadata": {
  "anaconda-cloud": {},
  "kernelspec": {
   "display_name": "Python [conda env:sample]",
   "language": "python",
   "name": "conda-env-sample-py"
  },
  "language_info": {
   "codemirror_mode": {
    "name": "ipython",
    "version": 3
   },
   "file_extension": ".py",
   "mimetype": "text/x-python",
   "name": "python",
   "nbconvert_exporter": "python",
   "pygments_lexer": "ipython3",
   "version": "3.8.5"
  }
 },
 "nbformat": 4,
 "nbformat_minor": 1
}
