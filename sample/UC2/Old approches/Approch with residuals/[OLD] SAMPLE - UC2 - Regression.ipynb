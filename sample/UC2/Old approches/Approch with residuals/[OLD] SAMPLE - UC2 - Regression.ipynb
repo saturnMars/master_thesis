{
 "cells": [
  {
   "cell_type": "code",
   "execution_count": null,
   "metadata": {
    "collapsed": true
   },
   "outputs": [],
   "source": [
    "from sys import path\n",
    "if '..' not in path:\n",
    "    path.insert(0, '..')"
   ]
  },
  {
   "cell_type": "code",
   "execution_count": null,
   "metadata": {
    "collapsed": false
   },
   "outputs": [],
   "source": [
    "from _library.utils import SYSTEM_NAMES, SUBFOLDERS, load_datasets\n",
    "from collections import defaultdict\n",
    "import _library.uc2_interpolation as interpolation_utils\n",
    "import _library.som_pre_utils as pre_utils\n",
    "import numpy as np\n",
    "from mpl_toolkits.mplot3d import Axes3D\n",
    "import pandas as pd"
   ]
  },
  {
   "cell_type": "code",
   "execution_count": null,
   "metadata": {
    "collapsed": false
   },
   "outputs": [],
   "source": [
    "%cd /mnt/data/vieri/projects/SAMPLE/"
   ]
  },
  {
   "cell_type": "markdown",
   "metadata": {},
   "source": [
    "# The photovoltaic systems"
   ]
  },
  {
   "cell_type": "code",
   "execution_count": null,
   "metadata": {
    "collapsed": false
   },
   "outputs": [],
   "source": [
    "print(SYSTEM_NAMES, \"\\nSUBFOLDERS: -->\", SUBFOLDERS)\n",
    "# --- 0 ---------- 1 ---------- 2 --------- 3 ---------- 4 -------"
   ]
  },
  {
   "cell_type": "markdown",
   "metadata": {},
   "source": [
    "## A) Selecting the PV system"
   ]
  },
  {
   "cell_type": "code",
   "execution_count": null,
   "metadata": {
    "collapsed": false
   },
   "outputs": [],
   "source": [
    "system_name = SYSTEM_NAMES[2]\n",
    "print(f\"PV SYSTEM --> {system_name}\")"
   ]
  },
  {
   "cell_type": "markdown",
   "metadata": {},
   "source": [
    "## b) Selecting the dataset type\n",
    "- 1-hour sampling\n",
    "- 1-hour averaged sampling"
   ]
  },
  {
   "cell_type": "code",
   "execution_count": null,
   "metadata": {
    "collapsed": true
   },
   "outputs": [],
   "source": [
    "dataset_name = \"1-hour averaged sampling\""
   ]
  },
  {
   "cell_type": "markdown",
   "metadata": {},
   "source": [
    "## c) Loading the dataset"
   ]
  },
  {
   "cell_type": "code",
   "execution_count": null,
   "metadata": {
    "collapsed": false
   },
   "outputs": [],
   "source": [
    "system_path, inv_data, inv_names, *_ = load_datasets(system_name, subfolder = dataset_name)"
   ]
  },
  {
   "cell_type": "markdown",
   "metadata": {},
   "source": [
    "# Pre-processing"
   ]
  },
  {
   "cell_type": "code",
   "execution_count": null,
   "metadata": {
    "collapsed": false,
    "scrolled": true
   },
   "outputs": [],
   "source": [
    "relevant_columns = ['Cc 1 (A)', 'Vcc 1 (V)', 'Irradiance (W/mq)', 'Amb. Temp (°C)']\n",
    "for inv_name in inv_names:\n",
    "    print(\"\\n\" + 30 * \"-\", inv_name, 30 * \"-\")\n",
    "    df = inv_data[inv_name]\n",
    "    display(df[relevant_columns].describe())\n",
    "    \n",
    "    if 'Date/Time' in df.columns:\n",
    "        df.index = df['Date/Time']\n",
    "        df.drop(columns = 'Date/Time', inplace=True)\n",
    "        print(\"a) The timetamps are now used as index\")"
   ]
  },
  {
   "cell_type": "code",
   "execution_count": null,
   "metadata": {
    "collapsed": true
   },
   "outputs": [],
   "source": [
    "clean_with_reg = True"
   ]
  },
  {
   "cell_type": "code",
   "execution_count": null,
   "metadata": {
    "collapsed": false,
    "scrolled": true
   },
   "outputs": [],
   "source": [
    "if clean_with_reg:\n",
    "    inv_linear_model = dict()\n",
    "    perc_error_threhsold = 3\n",
    "    for inv_name in inv_names:\n",
    "        print(40 * \"-\" + f\" {inv_name}: TRAIN \" + 40 * \"-\")\n",
    "        df = inv_data[inv_name]\n",
    "\n",
    "        # Find outliers using a linear regression: Pac = f(Irr, Amb. Temp, [humidity])\n",
    "        num_features = 2\n",
    "        idk_potential_outliers, linear_model = pre_utils.find_pac_outliers_lin_reg(df, num_features, perc_error_threhsold,\n",
    "                                                                                   verbose=True)\n",
    "        inv_linear_model[inv_name] = linear_model\n",
    "\n",
    "        # Drop the observations identified as outliers \n",
    "        # (i.e., the AC power generated is out of range considering the ambiental conditons)\n",
    "        df.drop(index = idk_potential_outliers, inplace=True)"
   ]
  },
  {
   "cell_type": "markdown",
   "metadata": {},
   "source": [
    "# Find maxiumum voltages/currents for all possible ambiental conditions\n",
    "- Ambiental temperature (°C)\n",
    "- Solar irradiance (w/mq)\n",
    "- Maximum voltage (V) \n",
    "- Maximum current (A)"
   ]
  },
  {
   "cell_type": "code",
   "execution_count": null,
   "metadata": {
    "collapsed": true
   },
   "outputs": [],
   "source": [
    "step_ambiental_temp = 0.5\n",
    "step_solar_irradiance = 15"
   ]
  },
  {
   "cell_type": "code",
   "execution_count": null,
   "metadata": {
    "collapsed": true
   },
   "outputs": [],
   "source": [
    "ambiental_temp_values = np.arange(-5, 45, step = step_ambiental_temp)\n",
    "solar_irradiance_values = np.arange(0, 1500, step = step_solar_irradiance)"
   ]
  },
  {
   "cell_type": "code",
   "execution_count": null,
   "metadata": {
    "collapsed": true
   },
   "outputs": [],
   "source": [
    "maximum_voltage = 780\n",
    "maximum_current = 818"
   ]
  },
  {
   "cell_type": "code",
   "execution_count": null,
   "metadata": {
    "collapsed": true
   },
   "outputs": [],
   "source": [
    "verbose = False"
   ]
  },
  {
   "cell_type": "code",
   "execution_count": null,
   "metadata": {
    "collapsed": true
   },
   "outputs": [],
   "source": [
    "merge_data = True"
   ]
  },
  {
   "cell_type": "code",
   "execution_count": null,
   "metadata": {
    "collapsed": false,
    "scrolled": true
   },
   "outputs": [],
   "source": [
    "amb_col_name = 'Amb. Temp (°C)'\n",
    "irr_col_name = 'Irradiance (W/mq)'\n",
    "\n",
    "inv_pairs = defaultdict(list)\n",
    "inv_missing_pairs = defaultdict(list)\n",
    "\n",
    "for inv_name in inv_names:\n",
    "    print(\"\\n\" + 40 * \"-\", inv_name, 40 * \"-\")\n",
    "    \n",
    "    # Retrieve data of the inverter\n",
    "    if merge_data:\n",
    "        all_data = [inv_data[key] for key in ('INV1', 'INV2', 'INV3', 'INV4')]\n",
    "        df = pd.concat(all_data)\n",
    "        df.sort_index(inplace=True)\n",
    "        print(f\"--> Merging the inverter data (TOTAL: {len(df)} obs --> \"\\\n",
    "              f\"{', '.join([inv_name + ': ' + str(len(inv_data)) for inv_name, inv_data in inv_data.items()])})\", \n",
    "              \"-\" * 20)\n",
    "        inv_names = inv_names[:1]\n",
    "        inv_names = ['All inverter data']\n",
    "        inv_name = inv_names[0]\n",
    "    else:\n",
    "        df = inv_data[inv_name]  \n",
    "    \n",
    "    j = 1\n",
    "    max_params_amb_cond = []\n",
    "    num_obs_counter = []\n",
    "    print(\"\\n--> Computing the tuples (amb_cond, max_current, max_voltage)...\\n\")\n",
    "    for ambiental_temp in ambiental_temp_values:\n",
    "        for solar_irradiance in solar_irradiance_values:\n",
    "            \n",
    "            # Interval (value: value + step)\n",
    "            interval_amb_temp = (ambiental_temp, ambiental_temp + step_ambiental_temp)\n",
    "            interval_solar_irradiance = (solar_irradiance, solar_irradiance + step_solar_irradiance)\n",
    "            \n",
    "            # Conditions for retriving the condition for these values of ambiental conditions\n",
    "            amb_temp_condition = df[amb_col_name].between(interval_amb_temp[0], interval_amb_temp[1],\n",
    "                                                          inclusive = 'left')\n",
    "            irr_condition = df[irr_col_name].between(interval_solar_irradiance[0], interval_solar_irradiance[1], \n",
    "                                                     inclusive = 'left')\n",
    "            \n",
    "            # Filtering the dataset for this ambiental condition\n",
    "            amb_condition_df = df[amb_temp_condition & irr_condition]\n",
    "            num_obs = len(amb_condition_df)\n",
    "            num_obs_counter.append(num_obs)\n",
    "            \n",
    "            if num_obs > 0:   \n",
    "                strat_num = 0\n",
    "                \n",
    "                # Find the maxium values\n",
    "                if strat_num == 0:\n",
    "                    max_voltage = amb_condition_df['Vcc 1 (V)'].max()\n",
    "                    max_current = amb_condition_df['Cc 1 (A)'].max()\n",
    "                \n",
    "                # Second maxiumum values\n",
    "                if strat_num == 1:\n",
    "                    max_voltage = amb_condition_df['Vcc 1 (V)'].nlargest(2).iloc[-1]\n",
    "                    max_current = amb_condition_df['Cc 1 (A)'].nlargest(2).iloc[-1]\n",
    "                    \n",
    "                # Average value between the second and third maxiumum values\n",
    "                if strat_num == 2:\n",
    "                    #obs_to_skip = 1 if num_obs > 1 else 0\n",
    "                    obs_to_skip = 0\n",
    "                    obs_to_select = (2 + obs_to_skip) if (num_obs + obs_to_skip) >= 2 else num_obs\n",
    "                    \n",
    "                    max_voltage = amb_condition_df['Vcc 1 (V)'].nlargest(obs_to_select).iloc[obs_to_skip:].mean()\n",
    "                    max_current = amb_condition_df['Cc 1 (A)'].nlargest(obs_to_select).iloc[obs_to_skip:].mean()\n",
    "   \n",
    "                if max_current > maximum_current:\n",
    "                    print(f\"[ISSUE - MAXIMUM CURRENT REACHED] Hey, What the hell are you doing? \"\\\n",
    "                          f\"({ambiental_temp}°C, {solar_irradiance} w/mq)\")\n",
    "                    max_current = maximum_current\n",
    "                if max_voltage > maximum_voltage:\n",
    "                    print(f\"[ISSUE - MAXIMUM VOLTAGE REACHED] Hey, What the hell are you doing? \"\\\n",
    "                          f\"({ambiental_temp}°C, {solar_irradiance} w/mq)\")\n",
    "                    max_voltage = maximum_voltage\n",
    "                \n",
    "                # Save this pair\n",
    "                inv_pairs[inv_name].append({\n",
    "                        'amb_temp': round(ambiental_temp, 1),\n",
    "                        'solar_irr': solar_irradiance,\n",
    "                        'max_voltage': max_voltage,\n",
    "                        'max_current': max_current\n",
    "                    })\n",
    "                                           \n",
    "                if verbose:\n",
    "                    print(\"\\n\" + \"-\"* 50)\n",
    "                    print(f\"AMBIENTAL CONDITION ({j}/{len(ambiental_temp_values) * len(solar_irradiance_values)}): \"\\\n",
    "                          f\"{round(interval_amb_temp[0], 2)}:{round(interval_amb_temp[1], 2)} °C || \"\\\n",
    "                          f\"{interval_solar_irradiance[0]}:{interval_solar_irradiance[1]} w/mq\")\n",
    "                    print(f\"NUM OBSERVATIONS FOUND: {num_obs}\")\n",
    "                    print(f\"[MAX] Voltage: {max_voltage} V || [MAX] Current: {max_current} A\")\n",
    "                    print(\"-\"* 50)\n",
    "                    #print(amb_condition_df[relevant_columns])\n",
    "            else:\n",
    "                inv_missing_pairs[inv_name].append((ambiental_temp, solar_irradiance))\n",
    "                    \n",
    "            # Increment the counter of the loops\n",
    "            j += 1 \n",
    "           \n",
    "    # Save the pairs for each inverter\n",
    "    print(f\"--> Tuples available: {len(inv_pairs[inv_name])}/{len(ambiental_temp_values) * len(solar_irradiance_values)} \"\\\n",
    "         f\"({round((len(inv_pairs[inv_name])/(len(ambiental_temp_values) * len(solar_irradiance_values)))*100, 2)} %)\")\n",
    "    print(f\"--> [STRAT {strat_num}] Average number of observations in each pair of ambiental conditions:\", int(round(np.mean(num_obs_counter), 0)))"
   ]
  },
  {
   "cell_type": "markdown",
   "metadata": {},
   "source": [
    "# Interpolation"
   ]
  },
  {
   "cell_type": "code",
   "execution_count": null,
   "metadata": {
    "collapsed": false
   },
   "outputs": [],
   "source": [
    "from matplotlib import pyplot as plt\n",
    "        \n",
    "def generate_sub_graph(fig, idk_plot, inputs, target_values, predicted_values, var_name, pov_elev = 5, pov_angle = -30,\n",
    "                       visualize_actual_points = False):   \n",
    "    main_ax = fig.add_subplot(1, 2, idk_plot + 1, projection='3d')\n",
    "    \n",
    "    x_values = inputs[:, 0]\n",
    "    y_values = inputs[:, 1]\n",
    "    \n",
    "   \n",
    "    # Graph\n",
    "    surf = main_ax.plot_trisurf(x_values, y_values, predicted_values, label = f\"Predicted values\",\n",
    "                                cmap = 'cividis', shade = True, linewidth = 1, edgecolor = 'none')\n",
    "    \n",
    "    # Fix a library bug\n",
    "    surf._facecolors2d = surf._facecolor3d\n",
    "    surf._edgecolors2d = surf._edgecolor3d\n",
    "    \n",
    "    # 3D: Point of view\n",
    "    main_ax.view_init(elev=pov_elev, azim=pov_angle)\n",
    "    \n",
    "    \n",
    "    if visualize_actual_points:\n",
    "        main_ax.scatter(x_values, y_values, target_values, label = f\"Target values\", \n",
    "                        alpha = 0.5, marker = \"x\", s=20, color = \"grey\")\n",
    "   \n",
    "    # Graphical parameters\n",
    "    #main_ax.set_title(var_name, fontsize = 30) #y = 1.2 * np.log10(pov_elev)\n",
    "    main_ax.set_xlabel('Temperature (°C)', fontsize = 20, labelpad = 10)\n",
    "    main_ax.set_ylabel('Solar irradiance (w/mq)', fontsize = 20, labelpad = 10)\n",
    "    main_ax.set_zlabel(var_name, fontsize = 20, labelpad = 10)\n",
    "    \n",
    "    #main_ax.invert_yaxis()\n",
    "    #main_ax.invert_xaxis()"
   ]
  },
  {
   "cell_type": "code",
   "execution_count": null,
   "metadata": {
    "collapsed": false,
    "scrolled": true
   },
   "outputs": [],
   "source": [
    "inv_reg_model = dict()\n",
    "for inv_name in inv_names:\n",
    "    print(\"\\n\" + 40 * \"-\", inv_name, 40 * \"-\")\n",
    "    \n",
    "    # Retrieve the tuples\n",
    "    amb_cond_tuples = inv_pairs[inv_name]\n",
    "    \n",
    "    # Retrieve list of values\n",
    "    amb_conditions = []\n",
    "    voltage_values = []\n",
    "    current_values = []\n",
    "    for item in amb_cond_tuples:\n",
    "        amb_conditions.append((item['amb_temp'], item['solar_irr']))\n",
    "        voltage_values.append(item['max_voltage'])\n",
    "        current_values.append(item['max_current'])\n",
    "    \n",
    "    # Data\n",
    "    all_inputs = np.array(amb_conditions)    \n",
    "    outputs = [np.array(np.array(voltage_values)), np.array(np.array(current_values))]\n",
    "    output_labels = ['Voltage (V)', 'Current (A)']\n",
    "    \n",
    "    # Create the visual panel\n",
    "    fig = plt.figure(figsize=(20, 20))\n",
    "    fig.suptitle(f\"[{inv_name}] Interpolation\", size = 40, y = 0.7)\n",
    "    \n",
    "    best_models = []\n",
    "    for idk, output in enumerate(outputs):\n",
    "        print(\"\\n\" + \"-\" * 80)\n",
    "        print(f\"FUNCTION ({idk + 1}): {output_labels[idk]} = F(Amb. temperature, solar irradiance)\")\n",
    "        print(\"-\" * 80)\n",
    "        \n",
    "        # A.0) Split the data\n",
    "        train_x_data, train_y_data, test_x_data, test_y_data = interpolation_utils.split_data(x_data = all_inputs, \n",
    "                                                                                              y_data = output, \n",
    "                                                                                              test_dim = 0.2)\n",
    "        # A.1) Fit the model\n",
    "        best_model, best_degree = interpolation_utils.fit_best_polynomial_model(train_x_data, train_y_data, \n",
    "                                                                                test_x_data, test_y_data, \n",
    "                                                                                force_non_negative_values = False,\n",
    "                                                                                verbose = True)\n",
    "        best_models.append(best_model)\n",
    "        \n",
    "        # B) Using the fitted model predict all the data\n",
    "        all_pred_values = best_model.predict(all_inputs, force_non_negative_values = True)\n",
    "        \n",
    "        # B.1) Generate the 3-dimensional subplot\n",
    "        pov_elev = 10\n",
    "        if idk == 0:\n",
    "            pov_angle = -40\n",
    "        elif idk == 1:\n",
    "            pov_angle = -140\n",
    "        generate_sub_graph(fig, idk, all_inputs, output, all_pred_values, output_labels[idk], \n",
    "                           pov_elev, pov_angle, visualize_actual_points = True)\n",
    "        \n",
    "    inv_reg_model[inv_name] = {'voltage': best_models[0], 'current': best_models[1]}\n",
    "    \n",
    "    # Visualize the graphical panel\n",
    "    fig.tight_layout(pad = 4)\n",
    "    plt.legend(loc = 'best', fontsize=15, markerscale = 2, shadow=True)   \n",
    "    print(\"\\n\", \"-\" * 50, \"Visualize the outcome\", \"-\" * 50)\n",
    "    plt.show()"
   ]
  },
  {
   "cell_type": "markdown",
   "metadata": {},
   "source": [
    "# Fill up the missing  ambiental conditions "
   ]
  },
  {
   "cell_type": "code",
   "execution_count": null,
   "metadata": {
    "collapsed": false,
    "scrolled": true
   },
   "outputs": [],
   "source": [
    "for inv_name in inv_names:\n",
    "    \n",
    "    # Retrieve the tuples\n",
    "    amb_cond_tuples = inv_pairs[inv_name]\n",
    "    print(f\"[{inv_name}] CONDITIONS AVAILABLE:\", len(amb_cond_tuples))\n",
    "    \n",
    "    # Missing pairs\n",
    "    missing_conditions = inv_missing_pairs[inv_name]\n",
    "    print(\"MISSING CONDITIONS:\", len(missing_conditions))\n",
    "    \n",
    "    # Regression model \n",
    "    voltage_reg_model = inv_reg_model[inv_name]['voltage']\n",
    "    current_reg_model = inv_reg_model[inv_name]['current']\n",
    "    \n",
    "    # Predicted max values\n",
    "    predicted_max_voltage = voltage_reg_model.predict(missing_conditions, force_non_negative_values = False)\n",
    "    predicted_max_current = current_reg_model.predict(missing_conditions, force_non_negative_values = False)\n",
    "    \n",
    "    # Fix negative values\n",
    "    predicted_max_current[predicted_max_current < 0] = 0\n",
    "    predicted_max_voltage[predicted_max_voltage < 0] = 0\n",
    "    \n",
    "    for idk, (ambiental_temp, solar_irradiance) in enumerate(missing_conditions):\n",
    "        print(f\"\\nAMB. CONDITION {idk + 1}/{len(missing_conditions)}: {ambiental_temp}°C || \"\\\n",
    "              f\"{solar_irradiance} w/mq\\n\" + \"-\" * 40)\n",
    "        \n",
    "        # Find the respective predictcted max voltage/current\n",
    "        max_voltage = predicted_max_voltage[idk]\n",
    "        max_current = predicted_max_current[idk]\n",
    "        \n",
    "        # Fix thierpotential issues  (i.e., values exceeding their theorethical maximum)\n",
    "        if max_current > maximum_current:\n",
    "            print(f\"\\n\\t[ISSUE - MAXIMUM CURRENT REACHED]\\n\\tHey, what the hell are you doing? \"\\\n",
    "                  f\"\\n\\t--> THEORETICAL MAX: {maximum_current} A || PREDICTED: {round(max_current, 2)} A \\n\")\n",
    "            max_current = maximum_current\n",
    "        if max_voltage > maximum_voltage:\n",
    "            print(f\"\\n\\t[ISSUE - MAXIMUM VOLTAGE REACHED]\\n\\tHey, what the hell are you doing? \"\\\n",
    "                  f\"\\n\\t--> THEORETICAL MAX: {maximum_voltage} V || PREDICTED: {round(max_voltage, 2)} V\\n\")\n",
    "            max_voltage = maximum_voltage\n",
    "            \n",
    "        if max_voltage >= 700:\n",
    "            print(\"HEY2\")\n",
    "        \n",
    "        # Visualize the new values\n",
    "        print(f\"[PREDICTED] MAX VOLTAGE: {round(max_voltage, 2)} V\")\n",
    "        print(f\"[PREDICTED] MAX CURRENT: {round(max_current, 2)} A\")\n",
    "        \n",
    "        # Save the new tuple\n",
    "        amb_cond_tuples.append({\n",
    "            'amb_temp': round(ambiental_temp, 1),\n",
    "            'solar_irr': solar_irradiance,\n",
    "            'max_voltage': max_voltage,\n",
    "            'max_current': max_current\n",
    "        })\n",
    "        \n",
    "    # Save the new lists \n",
    "    inv_pairs[inv_name] = sorted(amb_cond_tuples, key = lambda cond: (cond['amb_temp'], cond['solar_irr']))"
   ]
  },
  {
   "cell_type": "markdown",
   "metadata": {},
   "source": [
    "## Visualize the new filled space"
   ]
  },
  {
   "cell_type": "code",
   "execution_count": null,
   "metadata": {
    "collapsed": false,
    "scrolled": false
   },
   "outputs": [],
   "source": [
    "for inv_name in inv_names:\n",
    "    print(\"-\" * 35, f\"[{inv_name}] CONDITIONS AVAILABLE: {len(amb_cond_tuples)}\", \"-\" * 35)\n",
    "    \n",
    "    # 0) Load the conditions\n",
    "    amb_cond_tuples = inv_pairs[inv_name]\n",
    "    \n",
    "    # 0.1) Retrieve list of values\n",
    "    amb_conditions = []\n",
    "    voltage_values = []\n",
    "    current_values = []\n",
    "    for item in amb_cond_tuples:\n",
    "        amb_conditions.append((item['amb_temp'], item['solar_irr']))\n",
    "        voltage_values.append(item['max_voltage'])\n",
    "        current_values.append(item['max_current'])\n",
    "\n",
    "    amb_conditions = np.array(amb_conditions)\n",
    "    voltage_values = np.array(voltage_values)\n",
    "    current_values = np.array(current_values)\n",
    "    \n",
    "    # 1) Create the visual panel\n",
    "    fig = plt.figure(figsize=(20, 20))\n",
    "    fig.suptitle(f\"[{inv_name}] Interpolation\", size = 40, y = 0.7)\n",
    "    \n",
    "    # 1.1) [VOLTAGE] Generate the 3-dimensional subplot\n",
    "    generate_sub_graph(fig, 0, amb_conditions, None, voltage_values, 'Voltage (V)', \n",
    "                       pov_elev = 30, pov_angle = 20, visualize_actual_points = False)\n",
    "    \n",
    "    # 1.2) [CURRENT] Generate the 3-dimensional subplot\n",
    "    generate_sub_graph(fig, 1, amb_conditions, None, current_values, 'Current (A)', \n",
    "                       pov_elev = 30, pov_angle = 20, visualize_actual_points = False)\n",
    "    \n",
    "    # Visualize the graphical panel\n",
    "    fig.tight_layout(pad = 4)\n",
    "    plt.legend(loc = 'best', fontsize=15, markerscale = 2, shadow=True)   \n",
    "    plt.show()"
   ]
  },
  {
   "cell_type": "code",
   "execution_count": null,
   "metadata": {
    "collapsed": true
   },
   "outputs": [],
   "source": []
  },
  {
   "cell_type": "code",
   "execution_count": null,
   "metadata": {
    "collapsed": true
   },
   "outputs": [],
   "source": []
  }
 ],
 "metadata": {
  "anaconda-cloud": {},
  "kernelspec": {
   "display_name": "Python [conda env:sample]",
   "language": "python",
   "name": "conda-env-sample-py"
  },
  "language_info": {
   "codemirror_mode": {
    "name": "ipython",
    "version": 3
   },
   "file_extension": ".py",
   "mimetype": "text/x-python",
   "name": "python",
   "nbconvert_exporter": "python",
   "pygments_lexer": "ipython3",
   "version": "3.8.5"
  }
 },
 "nbformat": 4,
 "nbformat_minor": 1
}
