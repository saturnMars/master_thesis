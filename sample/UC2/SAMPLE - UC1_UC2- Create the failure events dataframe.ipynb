{
 "cells": [
  {
   "cell_type": "code",
   "execution_count": 1,
   "metadata": {
    "collapsed": true
   },
   "outputs": [],
   "source": [
    "from sys import path\n",
    "if '..' not in path:\n",
    "    path.insert(0, '..')"
   ]
  },
  {
   "cell_type": "code",
   "execution_count": 2,
   "metadata": {
    "collapsed": true
   },
   "outputs": [],
   "source": [
    "import pandas as pd\n",
    "import re"
   ]
  },
  {
   "cell_type": "code",
   "execution_count": 3,
   "metadata": {
    "collapsed": false
   },
   "outputs": [],
   "source": [
    "from _library.utils import SYSTEM_NAMES, SUBFOLDERS\n",
    "from _library.fault_utils import load_faults\n",
    "from dateutil.parser import ParserError\n",
    "from os import path, makedirs"
   ]
  },
  {
   "cell_type": "code",
   "execution_count": 4,
   "metadata": {
    "collapsed": false
   },
   "outputs": [
    {
     "name": "stdout",
     "output_type": "stream",
     "text": [
      "/mnt/data/vieri/projects/SAMPLE\n"
     ]
    }
   ],
   "source": [
    "%cd /mnt/data/vieri/projects/SAMPLE/"
   ]
  },
  {
   "cell_type": "markdown",
   "metadata": {},
   "source": [
    "# A) The photovoltaic systems"
   ]
  },
  {
   "cell_type": "code",
   "execution_count": 5,
   "metadata": {
    "collapsed": false
   },
   "outputs": [
    {
     "name": "stdout",
     "output_type": "stream",
     "text": [
      "['Binetto 1', 'Binetto 2', 'Soleto 1', 'Soleto 2', 'Galatina'] \n",
      "SUBFOLDERS: --> ['Cleaned', '1-hour sampling', '1-hour averaged sampling', 'Residuals', 'Residuals_analytical', 'Failure events', None]\n"
     ]
    }
   ],
   "source": [
    "print(SYSTEM_NAMES, \"\\nSUBFOLDERS: -->\", SUBFOLDERS)\n",
    "# --- 0 ---------- 1 ---------- 2 --------- 3 ---------- 4 -------"
   ]
  },
  {
   "cell_type": "markdown",
   "metadata": {},
   "source": [
    "## A.1) Selecting the PV system"
   ]
  },
  {
   "cell_type": "code",
   "execution_count": 6,
   "metadata": {
    "collapsed": false
   },
   "outputs": [
    {
     "name": "stdout",
     "output_type": "stream",
     "text": [
      "PV SYSTEM --> Soleto 1\n"
     ]
    }
   ],
   "source": [
    "system_name = SYSTEM_NAMES[2]\n",
    "print(f\"PV SYSTEM --> {system_name}\")"
   ]
  },
  {
   "cell_type": "markdown",
   "metadata": {},
   "source": [
    "# B) Retrieve *failure events* \n",
    "Possible priority values for the *alarm logs*: \n",
    "- \"High\"\n",
    "- \"Medium\"\n",
    "- \"Low\""
   ]
  },
  {
   "cell_type": "markdown",
   "metadata": {},
   "source": [
    "## B.1) alarm priorities selection"
   ]
  },
  {
   "cell_type": "code",
   "execution_count": 7,
   "metadata": {
    "collapsed": true
   },
   "outputs": [],
   "source": [
    "#fault_priorities = [\"High\",\"Medium\"]\n",
    "fault_priorities = [\"Medium\"]"
   ]
  },
  {
   "cell_type": "markdown",
   "metadata": {},
   "source": [
    "## B.2) Select which data to load\n",
    "- **Alarm** logs (True/False)\n",
    "- **String Box alarm** logs (True/False)\n",
    "- **Included anonimous faults**: (True/False"
   ]
  },
  {
   "cell_type": "code",
   "execution_count": 8,
   "metadata": {
    "collapsed": false
   },
   "outputs": [],
   "source": [
    "to_load = {\n",
    "    'faults': False, \n",
    "    'inv_alarms': False, \n",
    "    'stringBox_alarms': True\n",
    "}\n",
    "include_faults_notRelatedToInverters = False"
   ]
  },
  {
   "cell_type": "markdown",
   "metadata": {},
   "source": [
    "## B.3) Load the failure events"
   ]
  },
  {
   "cell_type": "code",
   "execution_count": 9,
   "metadata": {
    "collapsed": false,
    "scrolled": false
   },
   "outputs": [
    {
     "name": "stdout",
     "output_type": "stream",
     "text": [
      "----------------------------------------------------------------------------------------------------\n",
      "\t\t\t\t\tFAULTS: Soleto 1\n",
      "\t\t\t\tPRIORITIES: Medium \n",
      "----------------------------------------------------------------------------------------------------\n",
      "--> [A) General faults skipped]\n",
      "--> [B) Inverter logs have been skipped (0)]\n",
      "--> C) String-box logs loaded (INV1: 68975, INV2: 37800, INV3: 26483, INV4: 8399)\n",
      "\n",
      "Loading completed!\n",
      "\n",
      "FAUL CAUSES (2):\n",
      "--------------------\n",
      "1) Allarme string-box\n",
      "2) String-box con produzione anomala\n",
      "<class 'pandas.core.frame.DataFrame'>\n",
      "RangeIndex: 132556 entries, 0 to 132555\n",
      "Data columns (total 6 columns):\n",
      " #   Column             Non-Null Count   Dtype         \n",
      "---  ------             --------------   -----         \n",
      " 0   Causa Guasto       132556 non-null  object        \n",
      " 1   Componente Guasto  132556 non-null  object        \n",
      " 2   Inizio             132556 non-null  datetime64[ns]\n",
      " 3   Fine               132556 non-null  object        \n",
      " 4   Inverter           132556 non-null  int64         \n",
      " 5   Tipo               132556 non-null  object        \n",
      "dtypes: datetime64[ns](1), int64(1), object(4)\n",
      "memory usage: 6.1+ MB\n",
      "---------------------------------------- DATA AVAILABLE ----------------------------------------\n",
      "TOTAL: 132556 failure events\n"
     ]
    }
   ],
   "source": [
    "# Load the fault dataset: Storico guasti.xlsx (a.k.a., 'General faults') & PV SYSTEM - Storico Allarme.xlsx (a.k.a., Log - X)\n",
    "fault_df = load_faults(system_name, include_faults_notRelatedToInverters, to_load['inv_alarms'], fault_priorities, \n",
    "                       to_load['stringBox_alarms'], to_load['faults'], verbose = False)\n",
    "fault_df.info()\n",
    "\n",
    "print(\"-\" * 40, 'DATA AVAILABLE', \"-\" * 40)\n",
    "print(f\"TOTAL: {len(fault_df)} failure events\")"
   ]
  },
  {
   "cell_type": "code",
   "execution_count": 10,
   "metadata": {
    "collapsed": false
   },
   "outputs": [
    {
     "data": {
      "text/html": [
       "<div>\n",
       "<style scoped>\n",
       "    .dataframe tbody tr th:only-of-type {\n",
       "        vertical-align: middle;\n",
       "    }\n",
       "\n",
       "    .dataframe tbody tr th {\n",
       "        vertical-align: top;\n",
       "    }\n",
       "\n",
       "    .dataframe thead th {\n",
       "        text-align: right;\n",
       "    }\n",
       "</style>\n",
       "<table border=\"1\" class=\"dataframe\">\n",
       "  <thead>\n",
       "    <tr style=\"text-align: right;\">\n",
       "      <th></th>\n",
       "      <th>Causa Guasto</th>\n",
       "      <th>Componente Guasto</th>\n",
       "      <th>Inizio</th>\n",
       "      <th>Fine</th>\n",
       "      <th>Inverter</th>\n",
       "      <th>Tipo</th>\n",
       "    </tr>\n",
       "  </thead>\n",
       "  <tbody>\n",
       "    <tr>\n",
       "      <th>0</th>\n",
       "      <td>Allarme string-box</td>\n",
       "      <td>CSP4.5 V180562 s1: [3] Corrente di stringa fuo...</td>\n",
       "      <td>2018-08-08 10:15:00</td>\n",
       "      <td>2018-08-08 10:36:00</td>\n",
       "      <td>4</td>\n",
       "      <td>Log_stringBox - Medium</td>\n",
       "    </tr>\n",
       "    <tr>\n",
       "      <th>1</th>\n",
       "      <td>Allarme string-box</td>\n",
       "      <td>CSP2.4 V180541 s1: [3] Corrente di stringa fuo...</td>\n",
       "      <td>2018-08-08 10:15:00</td>\n",
       "      <td>2018-08-08 11:52:00</td>\n",
       "      <td>2</td>\n",
       "      <td>Log_stringBox - Medium</td>\n",
       "    </tr>\n",
       "    <tr>\n",
       "      <th>2</th>\n",
       "      <td>Allarme string-box</td>\n",
       "      <td>CSP4.4 V180561 s1: [3] Corrente di stringa fuo...</td>\n",
       "      <td>2018-08-08 10:15:00</td>\n",
       "      <td>2018-08-08 10:59:00</td>\n",
       "      <td>4</td>\n",
       "      <td>Log_stringBox - Medium</td>\n",
       "    </tr>\n",
       "    <tr>\n",
       "      <th>3</th>\n",
       "      <td>Allarme string-box</td>\n",
       "      <td>CSP1.4 V180545 s1: [3] Corrente di stringa fuo...</td>\n",
       "      <td>2018-08-08 10:15:00</td>\n",
       "      <td>2018-08-08 12:02:00</td>\n",
       "      <td>1</td>\n",
       "      <td>Log_stringBox - Medium</td>\n",
       "    </tr>\n",
       "    <tr>\n",
       "      <th>4</th>\n",
       "      <td>Allarme string-box</td>\n",
       "      <td>CSP1.6 V180544 s7: [3] Corrente di stringa fuo...</td>\n",
       "      <td>2018-08-08 10:34:00</td>\n",
       "      <td>2018-08-08 11:52:00</td>\n",
       "      <td>1</td>\n",
       "      <td>Log_stringBox - Medium</td>\n",
       "    </tr>\n",
       "    <tr>\n",
       "      <th>...</th>\n",
       "      <td>...</td>\n",
       "      <td>...</td>\n",
       "      <td>...</td>\n",
       "      <td>...</td>\n",
       "      <td>...</td>\n",
       "      <td>...</td>\n",
       "    </tr>\n",
       "    <tr>\n",
       "      <th>132551</th>\n",
       "      <td>Allarme string-box</td>\n",
       "      <td>CSP2.5 V180542 s4: [3] Corrente di stringa fuo...</td>\n",
       "      <td>2021-09-17 08:46:00</td>\n",
       "      <td>2021-09-17 08:52:00</td>\n",
       "      <td>2</td>\n",
       "      <td>Log_stringBox - Medium</td>\n",
       "    </tr>\n",
       "    <tr>\n",
       "      <th>132552</th>\n",
       "      <td>Allarme string-box</td>\n",
       "      <td>CSP4.6 V180543 s11: [3] Corrente di stringa fu...</td>\n",
       "      <td>2021-09-17 08:46:00</td>\n",
       "      <td>2021-09-17 08:52:00</td>\n",
       "      <td>4</td>\n",
       "      <td>Log_stringBox - Medium</td>\n",
       "    </tr>\n",
       "    <tr>\n",
       "      <th>132553</th>\n",
       "      <td>Allarme string-box</td>\n",
       "      <td>CSP2.5 V180542 s4: [3] Corrente di stringa fuo...</td>\n",
       "      <td>2021-09-17 09:25:00</td>\n",
       "      <td>2021-09-17 09:33:00</td>\n",
       "      <td>2</td>\n",
       "      <td>Log_stringBox - Medium</td>\n",
       "    </tr>\n",
       "    <tr>\n",
       "      <th>132554</th>\n",
       "      <td>Allarme string-box</td>\n",
       "      <td>CSP4.6 V180543 s11: [3] Corrente di stringa fu...</td>\n",
       "      <td>2021-09-17 09:42:00</td>\n",
       "      <td>2021-09-17 09:49:00</td>\n",
       "      <td>4</td>\n",
       "      <td>Log_stringBox - Medium</td>\n",
       "    </tr>\n",
       "    <tr>\n",
       "      <th>132555</th>\n",
       "      <td>Allarme string-box</td>\n",
       "      <td>CSP2.5 V180542 s4: [3] Corrente di stringa fuo...</td>\n",
       "      <td>2021-09-17 09:42:00</td>\n",
       "      <td>2021-09-17 09:49:00</td>\n",
       "      <td>2</td>\n",
       "      <td>Log_stringBox - Medium</td>\n",
       "    </tr>\n",
       "  </tbody>\n",
       "</table>\n",
       "<p>132556 rows × 6 columns</p>\n",
       "</div>"
      ],
      "text/plain": [
       "              Causa Guasto                                  Componente Guasto  \\\n",
       "0       Allarme string-box  CSP4.5 V180562 s1: [3] Corrente di stringa fuo...   \n",
       "1       Allarme string-box  CSP2.4 V180541 s1: [3] Corrente di stringa fuo...   \n",
       "2       Allarme string-box  CSP4.4 V180561 s1: [3] Corrente di stringa fuo...   \n",
       "3       Allarme string-box  CSP1.4 V180545 s1: [3] Corrente di stringa fuo...   \n",
       "4       Allarme string-box  CSP1.6 V180544 s7: [3] Corrente di stringa fuo...   \n",
       "...                    ...                                                ...   \n",
       "132551  Allarme string-box  CSP2.5 V180542 s4: [3] Corrente di stringa fuo...   \n",
       "132552  Allarme string-box  CSP4.6 V180543 s11: [3] Corrente di stringa fu...   \n",
       "132553  Allarme string-box  CSP2.5 V180542 s4: [3] Corrente di stringa fuo...   \n",
       "132554  Allarme string-box  CSP4.6 V180543 s11: [3] Corrente di stringa fu...   \n",
       "132555  Allarme string-box  CSP2.5 V180542 s4: [3] Corrente di stringa fuo...   \n",
       "\n",
       "                    Inizio                 Fine  Inverter  \\\n",
       "0      2018-08-08 10:15:00  2018-08-08 10:36:00         4   \n",
       "1      2018-08-08 10:15:00  2018-08-08 11:52:00         2   \n",
       "2      2018-08-08 10:15:00  2018-08-08 10:59:00         4   \n",
       "3      2018-08-08 10:15:00  2018-08-08 12:02:00         1   \n",
       "4      2018-08-08 10:34:00  2018-08-08 11:52:00         1   \n",
       "...                    ...                  ...       ...   \n",
       "132551 2021-09-17 08:46:00  2021-09-17 08:52:00         2   \n",
       "132552 2021-09-17 08:46:00  2021-09-17 08:52:00         4   \n",
       "132553 2021-09-17 09:25:00  2021-09-17 09:33:00         2   \n",
       "132554 2021-09-17 09:42:00  2021-09-17 09:49:00         4   \n",
       "132555 2021-09-17 09:42:00  2021-09-17 09:49:00         2   \n",
       "\n",
       "                          Tipo  \n",
       "0       Log_stringBox - Medium  \n",
       "1       Log_stringBox - Medium  \n",
       "2       Log_stringBox - Medium  \n",
       "3       Log_stringBox - Medium  \n",
       "4       Log_stringBox - Medium  \n",
       "...                        ...  \n",
       "132551  Log_stringBox - Medium  \n",
       "132552  Log_stringBox - Medium  \n",
       "132553  Log_stringBox - Medium  \n",
       "132554  Log_stringBox - Medium  \n",
       "132555  Log_stringBox - Medium  \n",
       "\n",
       "[132556 rows x 6 columns]"
      ]
     },
     "metadata": {},
     "output_type": "display_data"
    }
   ],
   "source": [
    "display(fault_df)"
   ]
  },
  {
   "cell_type": "markdown",
   "metadata": {},
   "source": [
    "# B.4 ) Carry out some transformation"
   ]
  },
  {
   "cell_type": "code",
   "execution_count": 11,
   "metadata": {
    "collapsed": false
   },
   "outputs": [],
   "source": [
    "default_value = None # [None, '-', Unknown']\n",
    "\n",
    "def cast_ending_datatime(df_row):\n",
    "    try:\n",
    "        ts = pd.to_datetime(df_row['Fine'])\n",
    "    except ParserError:\n",
    "        ts = pd.to_datetime(df_row['Inizio'])\n",
    "    return ts\n",
    "\n",
    "def retrive_generalPlantBox_names(log_message, plantBox_prefix, include_code_component = False):\n",
    "    prefix_pos = log_message.find(plantBox_prefix)\n",
    "    \n",
    "    if prefix_pos == -1:\n",
    "        name = default_value\n",
    "    else:\n",
    "        if include_code_component:\n",
    "            chars_to_include = 14\n",
    "        else: \n",
    "            chars_to_include = 6\n",
    "        name = log_message[prefix_pos:chars_to_include].strip()\n",
    "    return name\n",
    "\n",
    "def retrieve_stringNames(log_message):\n",
    "    regex_name = r's\\d{1,2}'\n",
    "    stringName_pos = re.search(regex_name, log_message)\n",
    "    if stringName_pos:\n",
    "        stringName = stringName_pos.group()\n",
    "    else:\n",
    "        stringName = default_value\n",
    "    return stringName"
   ]
  },
  {
   "cell_type": "code",
   "execution_count": 12,
   "metadata": {
    "collapsed": false
   },
   "outputs": [
    {
     "name": "stdout",
     "output_type": "stream",
     "text": [
      "A) Temporal durations have been computed.\n",
      "B) The general plant box names (e.g., CSP2.1) have been retrieved.\n",
      "C) The names concerning the string have been retrieved\n",
      "\n",
      "------------------------------ OUTCOME ------------------------------\n",
      "<class 'pandas.core.frame.DataFrame'>\n",
      "RangeIndex: 132556 entries, 0 to 132555\n",
      "Data columns (total 9 columns):\n",
      " #   Column           Non-Null Count   Dtype          \n",
      "---  ------           --------------   -----          \n",
      " 0   Inverter         132556 non-null  int64          \n",
      " 1   Quadro Generale  132556 non-null  object         \n",
      " 2   Stringa          126053 non-null  object         \n",
      " 3   Tipo             132556 non-null  object         \n",
      " 4   Causa Guasto     132556 non-null  object         \n",
      " 5   Messaggio        132556 non-null  object         \n",
      " 6   Durata           132556 non-null  timedelta64[ns]\n",
      " 7   Inizio           132556 non-null  datetime64[ns] \n",
      " 8   Fine             132556 non-null  datetime64[ns] \n",
      "dtypes: datetime64[ns](2), int64(1), object(5), timedelta64[ns](1)\n",
      "memory usage: 9.1+ MB\n"
     ]
    },
    {
     "data": {
      "text/html": [
       "<div>\n",
       "<style scoped>\n",
       "    .dataframe tbody tr th:only-of-type {\n",
       "        vertical-align: middle;\n",
       "    }\n",
       "\n",
       "    .dataframe tbody tr th {\n",
       "        vertical-align: top;\n",
       "    }\n",
       "\n",
       "    .dataframe thead th {\n",
       "        text-align: right;\n",
       "    }\n",
       "</style>\n",
       "<table border=\"1\" class=\"dataframe\">\n",
       "  <thead>\n",
       "    <tr style=\"text-align: right;\">\n",
       "      <th></th>\n",
       "      <th>Inverter</th>\n",
       "      <th>Quadro Generale</th>\n",
       "      <th>Stringa</th>\n",
       "      <th>Tipo</th>\n",
       "      <th>Causa Guasto</th>\n",
       "      <th>Messaggio</th>\n",
       "      <th>Durata</th>\n",
       "      <th>Inizio</th>\n",
       "      <th>Fine</th>\n",
       "    </tr>\n",
       "  </thead>\n",
       "  <tbody>\n",
       "    <tr>\n",
       "      <th>0</th>\n",
       "      <td>4</td>\n",
       "      <td>CSP4.5</td>\n",
       "      <td>s1</td>\n",
       "      <td>Log_stringBox - Medium</td>\n",
       "      <td>Allarme string-box</td>\n",
       "      <td>Corrente di stringa fuori range</td>\n",
       "      <td>0 days 00:21:00</td>\n",
       "      <td>2018-08-08 10:15:00</td>\n",
       "      <td>2018-08-08 10:36:00</td>\n",
       "    </tr>\n",
       "    <tr>\n",
       "      <th>1</th>\n",
       "      <td>2</td>\n",
       "      <td>CSP2.4</td>\n",
       "      <td>s1</td>\n",
       "      <td>Log_stringBox - Medium</td>\n",
       "      <td>Allarme string-box</td>\n",
       "      <td>Corrente di stringa fuori range</td>\n",
       "      <td>0 days 01:37:00</td>\n",
       "      <td>2018-08-08 10:15:00</td>\n",
       "      <td>2018-08-08 11:52:00</td>\n",
       "    </tr>\n",
       "    <tr>\n",
       "      <th>2</th>\n",
       "      <td>4</td>\n",
       "      <td>CSP4.4</td>\n",
       "      <td>s1</td>\n",
       "      <td>Log_stringBox - Medium</td>\n",
       "      <td>Allarme string-box</td>\n",
       "      <td>Corrente di stringa fuori range</td>\n",
       "      <td>0 days 00:44:00</td>\n",
       "      <td>2018-08-08 10:15:00</td>\n",
       "      <td>2018-08-08 10:59:00</td>\n",
       "    </tr>\n",
       "    <tr>\n",
       "      <th>3</th>\n",
       "      <td>1</td>\n",
       "      <td>CSP1.4</td>\n",
       "      <td>s1</td>\n",
       "      <td>Log_stringBox - Medium</td>\n",
       "      <td>Allarme string-box</td>\n",
       "      <td>Corrente di stringa fuori range</td>\n",
       "      <td>0 days 01:47:00</td>\n",
       "      <td>2018-08-08 10:15:00</td>\n",
       "      <td>2018-08-08 12:02:00</td>\n",
       "    </tr>\n",
       "    <tr>\n",
       "      <th>4</th>\n",
       "      <td>1</td>\n",
       "      <td>CSP1.6</td>\n",
       "      <td>s7</td>\n",
       "      <td>Log_stringBox - Medium</td>\n",
       "      <td>Allarme string-box</td>\n",
       "      <td>Corrente di stringa fuori range</td>\n",
       "      <td>0 days 01:18:00</td>\n",
       "      <td>2018-08-08 10:34:00</td>\n",
       "      <td>2018-08-08 11:52:00</td>\n",
       "    </tr>\n",
       "    <tr>\n",
       "      <th>...</th>\n",
       "      <td>...</td>\n",
       "      <td>...</td>\n",
       "      <td>...</td>\n",
       "      <td>...</td>\n",
       "      <td>...</td>\n",
       "      <td>...</td>\n",
       "      <td>...</td>\n",
       "      <td>...</td>\n",
       "      <td>...</td>\n",
       "    </tr>\n",
       "    <tr>\n",
       "      <th>132551</th>\n",
       "      <td>2</td>\n",
       "      <td>CSP2.5</td>\n",
       "      <td>s4</td>\n",
       "      <td>Log_stringBox - Medium</td>\n",
       "      <td>Allarme string-box</td>\n",
       "      <td>Corrente di stringa fuori range</td>\n",
       "      <td>0 days 00:06:00</td>\n",
       "      <td>2021-09-17 08:46:00</td>\n",
       "      <td>2021-09-17 08:52:00</td>\n",
       "    </tr>\n",
       "    <tr>\n",
       "      <th>132552</th>\n",
       "      <td>4</td>\n",
       "      <td>CSP4.6</td>\n",
       "      <td>s11</td>\n",
       "      <td>Log_stringBox - Medium</td>\n",
       "      <td>Allarme string-box</td>\n",
       "      <td>Corrente di stringa fuori range</td>\n",
       "      <td>0 days 00:06:00</td>\n",
       "      <td>2021-09-17 08:46:00</td>\n",
       "      <td>2021-09-17 08:52:00</td>\n",
       "    </tr>\n",
       "    <tr>\n",
       "      <th>132553</th>\n",
       "      <td>2</td>\n",
       "      <td>CSP2.5</td>\n",
       "      <td>s4</td>\n",
       "      <td>Log_stringBox - Medium</td>\n",
       "      <td>Allarme string-box</td>\n",
       "      <td>Corrente di stringa fuori range</td>\n",
       "      <td>0 days 00:08:00</td>\n",
       "      <td>2021-09-17 09:25:00</td>\n",
       "      <td>2021-09-17 09:33:00</td>\n",
       "    </tr>\n",
       "    <tr>\n",
       "      <th>132554</th>\n",
       "      <td>4</td>\n",
       "      <td>CSP4.6</td>\n",
       "      <td>s11</td>\n",
       "      <td>Log_stringBox - Medium</td>\n",
       "      <td>Allarme string-box</td>\n",
       "      <td>Corrente di stringa fuori range</td>\n",
       "      <td>0 days 00:07:00</td>\n",
       "      <td>2021-09-17 09:42:00</td>\n",
       "      <td>2021-09-17 09:49:00</td>\n",
       "    </tr>\n",
       "    <tr>\n",
       "      <th>132555</th>\n",
       "      <td>2</td>\n",
       "      <td>CSP2.5</td>\n",
       "      <td>s4</td>\n",
       "      <td>Log_stringBox - Medium</td>\n",
       "      <td>Allarme string-box</td>\n",
       "      <td>Corrente di stringa fuori range</td>\n",
       "      <td>0 days 00:07:00</td>\n",
       "      <td>2021-09-17 09:42:00</td>\n",
       "      <td>2021-09-17 09:49:00</td>\n",
       "    </tr>\n",
       "  </tbody>\n",
       "</table>\n",
       "<p>132556 rows × 9 columns</p>\n",
       "</div>"
      ],
      "text/plain": [
       "        Inverter Quadro Generale Stringa                    Tipo  \\\n",
       "0              4          CSP4.5      s1  Log_stringBox - Medium   \n",
       "1              2          CSP2.4      s1  Log_stringBox - Medium   \n",
       "2              4          CSP4.4      s1  Log_stringBox - Medium   \n",
       "3              1          CSP1.4      s1  Log_stringBox - Medium   \n",
       "4              1          CSP1.6      s7  Log_stringBox - Medium   \n",
       "...          ...             ...     ...                     ...   \n",
       "132551         2          CSP2.5      s4  Log_stringBox - Medium   \n",
       "132552         4          CSP4.6     s11  Log_stringBox - Medium   \n",
       "132553         2          CSP2.5      s4  Log_stringBox - Medium   \n",
       "132554         4          CSP4.6     s11  Log_stringBox - Medium   \n",
       "132555         2          CSP2.5      s4  Log_stringBox - Medium   \n",
       "\n",
       "              Causa Guasto                        Messaggio          Durata  \\\n",
       "0       Allarme string-box  Corrente di stringa fuori range 0 days 00:21:00   \n",
       "1       Allarme string-box  Corrente di stringa fuori range 0 days 01:37:00   \n",
       "2       Allarme string-box  Corrente di stringa fuori range 0 days 00:44:00   \n",
       "3       Allarme string-box  Corrente di stringa fuori range 0 days 01:47:00   \n",
       "4       Allarme string-box  Corrente di stringa fuori range 0 days 01:18:00   \n",
       "...                    ...                              ...             ...   \n",
       "132551  Allarme string-box  Corrente di stringa fuori range 0 days 00:06:00   \n",
       "132552  Allarme string-box  Corrente di stringa fuori range 0 days 00:06:00   \n",
       "132553  Allarme string-box  Corrente di stringa fuori range 0 days 00:08:00   \n",
       "132554  Allarme string-box  Corrente di stringa fuori range 0 days 00:07:00   \n",
       "132555  Allarme string-box  Corrente di stringa fuori range 0 days 00:07:00   \n",
       "\n",
       "                    Inizio                Fine  \n",
       "0      2018-08-08 10:15:00 2018-08-08 10:36:00  \n",
       "1      2018-08-08 10:15:00 2018-08-08 11:52:00  \n",
       "2      2018-08-08 10:15:00 2018-08-08 10:59:00  \n",
       "3      2018-08-08 10:15:00 2018-08-08 12:02:00  \n",
       "4      2018-08-08 10:34:00 2018-08-08 11:52:00  \n",
       "...                    ...                 ...  \n",
       "132551 2021-09-17 08:46:00 2021-09-17 08:52:00  \n",
       "132552 2021-09-17 08:46:00 2021-09-17 08:52:00  \n",
       "132553 2021-09-17 09:25:00 2021-09-17 09:33:00  \n",
       "132554 2021-09-17 09:42:00 2021-09-17 09:49:00  \n",
       "132555 2021-09-17 09:42:00 2021-09-17 09:49:00  \n",
       "\n",
       "[132556 rows x 9 columns]"
      ]
     },
     "metadata": {},
     "output_type": "display_data"
    }
   ],
   "source": [
    "# Dealing with the artefacts in the column 'Fine' ('n.d' values)\n",
    "fault_df['Fine'] = fault_df.apply(func = lambda df_row: cast_ending_datatime(df_row),  axis = 1) \n",
    "\n",
    "# Compute the temporal duration\n",
    "if 'Durata' not in fault_df.columns:\n",
    "    temporal_duration = fault_df['Fine'] - fault_df['Inizio']\n",
    "    fault_df.insert(5, \"Durata\", temporal_duration)\n",
    "    print(\"A) Temporal durations have been computed.\")\n",
    "\n",
    "# Extract the name of the General plant box \n",
    "if 'Quadro Generale' not in fault_df.columns:\n",
    "    if system_name == SYSTEM_NAMES[2]:\n",
    "        plantBox_prefix = 'CSP'\n",
    "    elif system_name in SYSTEM_NAMES[3:5]:\n",
    "        plantBox_prefix = 'QC'\n",
    "    generalPlantBox = fault_df['Componente Guasto'].apply(lambda log_message: \n",
    "                                                          retrive_generalPlantBox_names(log_message, plantBox_prefix,\n",
    "                                                                                        include_code_component = False))\n",
    "    fault_df.insert(1, 'Quadro Generale', generalPlantBox)\n",
    "    print(f\"B) The general plant box names (e.g., {fault_df['Quadro Generale'].sample(1).iloc[0]}) have been retrieved.\")\n",
    "    \n",
    "if 'Stringa' not in fault_df.columns:\n",
    "    stringhe = fault_df['Componente Guasto'].apply(lambda log_message: retrieve_stringNames(log_message))\n",
    "    fault_df.insert(2, 'Stringa', stringhe)\n",
    "    \n",
    "    print(\"C) The names concerning the string have been retrieved\")\n",
    "\n",
    "# Clean the column \n",
    "if \"Componente Guasto\" in fault_df.columns:\n",
    "    fault_df['Messaggio'] = fault_df['Componente Guasto'].apply(lambda message: \n",
    "                                                                message.split(']')[-1].strip().split('(')[0].strip().split(':')[-1].strip())\n",
    "    fault_df.drop(columns = 'Componente Guasto', inplace = True)\n",
    "\n",
    "# Re-order columns \n",
    "new_col_order = ['Inverter', 'Quadro Generale', 'Stringa', 'Tipo', 'Causa Guasto', 'Messaggio', 'Durata', 'Inizio', 'Fine']\n",
    "fault_df = fault_df.reindex(columns = new_col_order)\n",
    "\n",
    "print(\"\\n\" + '-' * 30, 'OUTCOME', '-' * 30)\n",
    "fault_df.info()\n",
    "display(fault_df)"
   ]
  },
  {
   "cell_type": "markdown",
   "metadata": {},
   "source": [
    "## B.5) Visualize the outcome"
   ]
  },
  {
   "cell_type": "code",
   "execution_count": 13,
   "metadata": {
    "collapsed": false
   },
   "outputs": [
    {
     "name": "stdout",
     "output_type": "stream",
     "text": [
      "\n",
      "------------------------------------------------------------------------------------------------------------------------\n",
      "\t\t\t\t\t\tFAUL EVENTS (Period: 2018-08-08)\n",
      "\t\t\t\tPRIORITIES: Log_stringBox - Medium\n",
      "------------------------------------------------------------------------------------------------------------------------\n",
      "---------------------------------------- DATA AVAILABLE ----------------------------------------\n",
      "TOTAL: 132556 failure events\n",
      "--> Inverter available (4):  1, 2, 3, 4\n",
      "--> Unique events (2): \n",
      "\t --> Corrente di stringa fuori range\n",
      "\t --> String-box con produzione anomala\n",
      "\n",
      "--> General Plant box available (24): CSP1.1, CSP1.2, CSP1.3, CSP1.4, CSP1.5, CSP1.6, CSP2.1, CSP2.2, CSP2.3, CSP2.4, CSP2.5, CSP2.6, CSP3.1, CSP3.2, CSP3.3, CSP3.4, CSP3.5, CSP3.6, CSP4.1, CSP4.2, CSP4.3, CSP4.4, CSP4.5, CSP4.6\n",
      "--> String names available (12): s1, s2, s3, s4, s5, s6, s7, s8, s9, s10, s11, s12\n"
     ]
    },
    {
     "data": {
      "text/html": [
       "<div>\n",
       "<style scoped>\n",
       "    .dataframe tbody tr th:only-of-type {\n",
       "        vertical-align: middle;\n",
       "    }\n",
       "\n",
       "    .dataframe tbody tr th {\n",
       "        vertical-align: top;\n",
       "    }\n",
       "\n",
       "    .dataframe thead th {\n",
       "        text-align: right;\n",
       "    }\n",
       "</style>\n",
       "<table border=\"1\" class=\"dataframe\">\n",
       "  <thead>\n",
       "    <tr style=\"text-align: right;\">\n",
       "      <th></th>\n",
       "      <th>Inverter</th>\n",
       "      <th>Quadro Generale</th>\n",
       "      <th>Stringa</th>\n",
       "      <th>Tipo</th>\n",
       "      <th>Causa Guasto</th>\n",
       "      <th>Messaggio</th>\n",
       "      <th>Durata</th>\n",
       "      <th>Inizio</th>\n",
       "      <th>Fine</th>\n",
       "    </tr>\n",
       "  </thead>\n",
       "  <tbody>\n",
       "    <tr>\n",
       "      <th>0</th>\n",
       "      <td>4</td>\n",
       "      <td>CSP4.5</td>\n",
       "      <td>s1</td>\n",
       "      <td>Log_stringBox - Medium</td>\n",
       "      <td>Allarme string-box</td>\n",
       "      <td>Corrente di stringa fuori range</td>\n",
       "      <td>0 days 00:21:00</td>\n",
       "      <td>2018-08-08 10:15:00</td>\n",
       "      <td>2018-08-08 10:36:00</td>\n",
       "    </tr>\n",
       "    <tr>\n",
       "      <th>1</th>\n",
       "      <td>2</td>\n",
       "      <td>CSP2.4</td>\n",
       "      <td>s1</td>\n",
       "      <td>Log_stringBox - Medium</td>\n",
       "      <td>Allarme string-box</td>\n",
       "      <td>Corrente di stringa fuori range</td>\n",
       "      <td>0 days 01:37:00</td>\n",
       "      <td>2018-08-08 10:15:00</td>\n",
       "      <td>2018-08-08 11:52:00</td>\n",
       "    </tr>\n",
       "    <tr>\n",
       "      <th>2</th>\n",
       "      <td>4</td>\n",
       "      <td>CSP4.4</td>\n",
       "      <td>s1</td>\n",
       "      <td>Log_stringBox - Medium</td>\n",
       "      <td>Allarme string-box</td>\n",
       "      <td>Corrente di stringa fuori range</td>\n",
       "      <td>0 days 00:44:00</td>\n",
       "      <td>2018-08-08 10:15:00</td>\n",
       "      <td>2018-08-08 10:59:00</td>\n",
       "    </tr>\n",
       "    <tr>\n",
       "      <th>3</th>\n",
       "      <td>1</td>\n",
       "      <td>CSP1.4</td>\n",
       "      <td>s1</td>\n",
       "      <td>Log_stringBox - Medium</td>\n",
       "      <td>Allarme string-box</td>\n",
       "      <td>Corrente di stringa fuori range</td>\n",
       "      <td>0 days 01:47:00</td>\n",
       "      <td>2018-08-08 10:15:00</td>\n",
       "      <td>2018-08-08 12:02:00</td>\n",
       "    </tr>\n",
       "    <tr>\n",
       "      <th>4</th>\n",
       "      <td>1</td>\n",
       "      <td>CSP1.6</td>\n",
       "      <td>s7</td>\n",
       "      <td>Log_stringBox - Medium</td>\n",
       "      <td>Allarme string-box</td>\n",
       "      <td>Corrente di stringa fuori range</td>\n",
       "      <td>0 days 01:18:00</td>\n",
       "      <td>2018-08-08 10:34:00</td>\n",
       "      <td>2018-08-08 11:52:00</td>\n",
       "    </tr>\n",
       "    <tr>\n",
       "      <th>...</th>\n",
       "      <td>...</td>\n",
       "      <td>...</td>\n",
       "      <td>...</td>\n",
       "      <td>...</td>\n",
       "      <td>...</td>\n",
       "      <td>...</td>\n",
       "      <td>...</td>\n",
       "      <td>...</td>\n",
       "      <td>...</td>\n",
       "    </tr>\n",
       "    <tr>\n",
       "      <th>132551</th>\n",
       "      <td>2</td>\n",
       "      <td>CSP2.5</td>\n",
       "      <td>s4</td>\n",
       "      <td>Log_stringBox - Medium</td>\n",
       "      <td>Allarme string-box</td>\n",
       "      <td>Corrente di stringa fuori range</td>\n",
       "      <td>0 days 00:06:00</td>\n",
       "      <td>2021-09-17 08:46:00</td>\n",
       "      <td>2021-09-17 08:52:00</td>\n",
       "    </tr>\n",
       "    <tr>\n",
       "      <th>132552</th>\n",
       "      <td>4</td>\n",
       "      <td>CSP4.6</td>\n",
       "      <td>s11</td>\n",
       "      <td>Log_stringBox - Medium</td>\n",
       "      <td>Allarme string-box</td>\n",
       "      <td>Corrente di stringa fuori range</td>\n",
       "      <td>0 days 00:06:00</td>\n",
       "      <td>2021-09-17 08:46:00</td>\n",
       "      <td>2021-09-17 08:52:00</td>\n",
       "    </tr>\n",
       "    <tr>\n",
       "      <th>132553</th>\n",
       "      <td>2</td>\n",
       "      <td>CSP2.5</td>\n",
       "      <td>s4</td>\n",
       "      <td>Log_stringBox - Medium</td>\n",
       "      <td>Allarme string-box</td>\n",
       "      <td>Corrente di stringa fuori range</td>\n",
       "      <td>0 days 00:08:00</td>\n",
       "      <td>2021-09-17 09:25:00</td>\n",
       "      <td>2021-09-17 09:33:00</td>\n",
       "    </tr>\n",
       "    <tr>\n",
       "      <th>132554</th>\n",
       "      <td>4</td>\n",
       "      <td>CSP4.6</td>\n",
       "      <td>s11</td>\n",
       "      <td>Log_stringBox - Medium</td>\n",
       "      <td>Allarme string-box</td>\n",
       "      <td>Corrente di stringa fuori range</td>\n",
       "      <td>0 days 00:07:00</td>\n",
       "      <td>2021-09-17 09:42:00</td>\n",
       "      <td>2021-09-17 09:49:00</td>\n",
       "    </tr>\n",
       "    <tr>\n",
       "      <th>132555</th>\n",
       "      <td>2</td>\n",
       "      <td>CSP2.5</td>\n",
       "      <td>s4</td>\n",
       "      <td>Log_stringBox - Medium</td>\n",
       "      <td>Allarme string-box</td>\n",
       "      <td>Corrente di stringa fuori range</td>\n",
       "      <td>0 days 00:07:00</td>\n",
       "      <td>2021-09-17 09:42:00</td>\n",
       "      <td>2021-09-17 09:49:00</td>\n",
       "    </tr>\n",
       "  </tbody>\n",
       "</table>\n",
       "<p>132556 rows × 9 columns</p>\n",
       "</div>"
      ],
      "text/plain": [
       "        Inverter Quadro Generale Stringa                    Tipo  \\\n",
       "0              4          CSP4.5      s1  Log_stringBox - Medium   \n",
       "1              2          CSP2.4      s1  Log_stringBox - Medium   \n",
       "2              4          CSP4.4      s1  Log_stringBox - Medium   \n",
       "3              1          CSP1.4      s1  Log_stringBox - Medium   \n",
       "4              1          CSP1.6      s7  Log_stringBox - Medium   \n",
       "...          ...             ...     ...                     ...   \n",
       "132551         2          CSP2.5      s4  Log_stringBox - Medium   \n",
       "132552         4          CSP4.6     s11  Log_stringBox - Medium   \n",
       "132553         2          CSP2.5      s4  Log_stringBox - Medium   \n",
       "132554         4          CSP4.6     s11  Log_stringBox - Medium   \n",
       "132555         2          CSP2.5      s4  Log_stringBox - Medium   \n",
       "\n",
       "              Causa Guasto                        Messaggio          Durata  \\\n",
       "0       Allarme string-box  Corrente di stringa fuori range 0 days 00:21:00   \n",
       "1       Allarme string-box  Corrente di stringa fuori range 0 days 01:37:00   \n",
       "2       Allarme string-box  Corrente di stringa fuori range 0 days 00:44:00   \n",
       "3       Allarme string-box  Corrente di stringa fuori range 0 days 01:47:00   \n",
       "4       Allarme string-box  Corrente di stringa fuori range 0 days 01:18:00   \n",
       "...                    ...                              ...             ...   \n",
       "132551  Allarme string-box  Corrente di stringa fuori range 0 days 00:06:00   \n",
       "132552  Allarme string-box  Corrente di stringa fuori range 0 days 00:06:00   \n",
       "132553  Allarme string-box  Corrente di stringa fuori range 0 days 00:08:00   \n",
       "132554  Allarme string-box  Corrente di stringa fuori range 0 days 00:07:00   \n",
       "132555  Allarme string-box  Corrente di stringa fuori range 0 days 00:07:00   \n",
       "\n",
       "                    Inizio                Fine  \n",
       "0      2018-08-08 10:15:00 2018-08-08 10:36:00  \n",
       "1      2018-08-08 10:15:00 2018-08-08 11:52:00  \n",
       "2      2018-08-08 10:15:00 2018-08-08 10:59:00  \n",
       "3      2018-08-08 10:15:00 2018-08-08 12:02:00  \n",
       "4      2018-08-08 10:34:00 2018-08-08 11:52:00  \n",
       "...                    ...                 ...  \n",
       "132551 2021-09-17 08:46:00 2021-09-17 08:52:00  \n",
       "132552 2021-09-17 08:46:00 2021-09-17 08:52:00  \n",
       "132553 2021-09-17 09:25:00 2021-09-17 09:33:00  \n",
       "132554 2021-09-17 09:42:00 2021-09-17 09:49:00  \n",
       "132555 2021-09-17 09:42:00 2021-09-17 09:49:00  \n",
       "\n",
       "[132556 rows x 9 columns]"
      ]
     },
     "metadata": {},
     "output_type": "display_data"
    },
    {
     "name": "stdout",
     "output_type": "stream",
     "text": [
      "\n",
      "---------------------------------------------------------------------------------------------------------\n",
      "\t\t\t\t\tFAULT EVENTS ('General Fault')\n",
      "---------------------------------------------------------------------------------------------------------\n",
      "\n",
      "[Soleto 1] No faults available for this PV system.\n",
      "\n"
     ]
    }
   ],
   "source": [
    "print(\"\\n\"+\"-\"* 120 + f\"\\n\\t\\t\\t\\t\\t\\tFAUL EVENTS (Period: {fault_df['Inizio'].iloc[0].strftime('%Y-%m-%d')})\")\n",
    "print(\"\\t\\t\\t\\tPRIORITIES:\", (', ').join([priority for priority in fault_df['Tipo'].unique()]) \n",
    "      + \"\\n\" + \"-\"* 120)\n",
    "\n",
    "inverters = sorted([inv_number for inv_number in fault_df['Inverter'].unique() if not pd.isna(inv_number)])\n",
    "generalPlantBoxes = sorted([generalPlant for generalPlant in fault_df['Quadro Generale'].unique() if not pd.isna(generalPlant)])\n",
    "stringNames = sorted([string_name for string_name in fault_df['Stringa'].unique() if not pd.isna(string_name)], \n",
    "                    key = lambda name: int(name[1:]))\n",
    "uniqueEvents = sorted([event for event in fault_df['Messaggio'].unique() if not pd.isna(event)])\n",
    "\n",
    "print(\"-\" * 40, 'DATA AVAILABLE', \"-\" * 40)\n",
    "print(f\"TOTAL: {len(fault_df)} failure events\")\n",
    "print(f\"--> Inverter available ({len(inverters)}): \", ', '.join([str(num) for num in inverters]))\n",
    "print(f\"--> Unique events ({len(uniqueEvents)}): \\n\\t --> \" + '\\n\\t --> '.join(uniqueEvents))\n",
    "print(f\"\\n--> General Plant box available ({len(generalPlantBoxes)}):\", ', '.join(generalPlantBoxes))\n",
    "print(f\"--> String names available ({len(stringNames)}):\", ', '.join(stringNames))\n",
    "\n",
    "display(fault_df)\n",
    "\n",
    "# --------------- Isolate only the (general) faults observations ---------------------------------\n",
    "fault_to_vis = \"General Fault\" \n",
    "fault_type_cond = fault_df[\"Tipo\"] == fault_to_vis\n",
    "print(\"\\n\"+\"-\"* 105 + f\"\\n\\t\\t\\t\\t\\tFAULT EVENTS ('{fault_to_vis}')\\n\" + \"-\"* 105)\n",
    "only_fault_df = fault_df[fault_type_cond]\n",
    "if len(only_fault_df) > 0:\n",
    "    display(only_fault_df)\n",
    "else:\n",
    "    print(f\"\\n[{system_name}] No faults available for this PV system.\\n\")"
   ]
  },
  {
   "cell_type": "markdown",
   "metadata": {},
   "source": [
    "# C) Save the dataframe "
   ]
  },
  {
   "cell_type": "markdown",
   "metadata": {},
   "source": [
    "## Create the saving folder"
   ]
  },
  {
   "cell_type": "code",
   "execution_count": 14,
   "metadata": {
    "collapsed": true
   },
   "outputs": [],
   "source": [
    "saving_folder_name = \"Failure events\""
   ]
  },
  {
   "cell_type": "code",
   "execution_count": 15,
   "metadata": {
    "collapsed": false
   },
   "outputs": [],
   "source": [
    "system_path = path.join('data', system_name.upper(), system_name.upper())\n",
    "main_folder = 'Imported data'\n",
    "saving_folder_path = path.join(system_path, main_folder, saving_folder_name)\n",
    "if not path.exists(saving_folder_path):\n",
    "    makedirs(saving_folder_path) \n",
    "    print(f\"PV System --> {system_name.upper()}\\nA new saving folder has been created: {saving_folder_path}\\n\")"
   ]
  },
  {
   "cell_type": "markdown",
   "metadata": {},
   "source": [
    "## Save the enhanced dataframe"
   ]
  },
  {
   "cell_type": "code",
   "execution_count": 16,
   "metadata": {
    "collapsed": true
   },
   "outputs": [],
   "source": [
    "priority_name = \"\".join([priority_name.capitalize() for priority_name in fault_priorities])"
   ]
  },
  {
   "cell_type": "code",
   "execution_count": 17,
   "metadata": {
    "collapsed": false
   },
   "outputs": [
    {
     "name": "stdout",
     "output_type": "stream",
     "text": [
      "FILE NAME: Medium_failureEvent_logs.csv\n"
     ]
    }
   ],
   "source": [
    "if to_load['inv_alarms']:\n",
    "    file_name = f'{priority_name}_invFailureEvent_logs.csv'\n",
    "else:\n",
    "    file_name = f'{priority_name}_failureEvent_logs.csv'\n",
    "print(f\"FILE NAME: {file_name}\")"
   ]
  },
  {
   "cell_type": "code",
   "execution_count": 18,
   "metadata": {
    "collapsed": false
   },
   "outputs": [
    {
     "name": "stdout",
     "output_type": "stream",
     "text": [
      "[SOLETO 1] The dataset (132556 entries) has been saved \n"
     ]
    }
   ],
   "source": [
    "file_path = path.join(saving_folder_path, file_name)\n",
    "fault_df.to_csv(file_path, index = False)\n",
    "print(f\"[{system_name.upper()}] The dataset ({len(fault_df)} entries) has been saved \")"
   ]
  }
 ],
 "metadata": {
  "anaconda-cloud": {},
  "kernelspec": {
   "display_name": "Python [conda env:sample]",
   "language": "python",
   "name": "conda-env-sample-py"
  },
  "language_info": {
   "codemirror_mode": {
    "name": "ipython",
    "version": 3
   },
   "file_extension": ".py",
   "mimetype": "text/x-python",
   "name": "python",
   "nbconvert_exporter": "python",
   "pygments_lexer": "ipython3",
   "version": "3.8.5"
  }
 },
 "nbformat": 4,
 "nbformat_minor": 1
}
