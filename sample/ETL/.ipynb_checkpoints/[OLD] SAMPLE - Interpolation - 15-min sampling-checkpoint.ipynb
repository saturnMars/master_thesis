{
 "cells": [
  {
   "cell_type": "code",
   "execution_count": 1,
   "metadata": {
    "collapsed": true
   },
   "outputs": [],
   "source": [
    "from sys import path\n",
    "if '..' not in path:\n",
    "    path.insert(0, '..')"
   ]
  },
  {
   "cell_type": "code",
   "execution_count": 19,
   "metadata": {
    "collapsed": false
   },
   "outputs": [],
   "source": [
    "import numpy as np\n",
    "import pandas as pd\n",
    "from _library.utils import SYSTEM_NAMES, load_datasets, load_amb_cond\n",
    "from os import path, makedirs\n",
    "from sklearn.model_selection import train_test_split\n",
    "import time\n",
    "from datetime import timedelta\n",
    "from _library.uc2_interpolation import compute_metrics\n",
    "from scipy.interpolate import UnivariateSpline"
   ]
  },
  {
   "cell_type": "code",
   "execution_count": 3,
   "metadata": {
    "collapsed": false
   },
   "outputs": [
    {
     "name": "stdout",
     "output_type": "stream",
     "text": [
      "/mnt/data/vieri/projects/SAMPLE\n",
      "['Binetto 1', 'Binetto 2', 'Soleto 1', 'Soleto 2', 'Galatina']\n"
     ]
    }
   ],
   "source": [
    "# Select the main folder \n",
    "%cd /mnt/data/vieri/projects/SAMPLE/\n",
    "\n",
    "# Visualize names of PV systems\n",
    "print(SYSTEM_NAMES)\n",
    "# --- 0 ---------- 1 --------- 2 ------ 3 ------ 4 --------- 5 --------- 6 -------- 7 ---"
   ]
  },
  {
   "cell_type": "markdown",
   "metadata": {},
   "source": [
    "# Load the PV system and the solar irradiance values"
   ]
  },
  {
   "cell_type": "code",
   "execution_count": 4,
   "metadata": {
    "collapsed": false
   },
   "outputs": [
    {
     "name": "stdout",
     "output_type": "stream",
     "text": [
      "PV System: Soleto 1\n"
     ]
    }
   ],
   "source": [
    "system_name = SYSTEM_NAMES[2]\n",
    "print(\"PV System:\", system_name)"
   ]
  },
  {
   "cell_type": "code",
   "execution_count": 5,
   "metadata": {
    "collapsed": true
   },
   "outputs": [],
   "source": [
    "dataset_name = \"Cleaned\""
   ]
  },
  {
   "cell_type": "code",
   "execution_count": 6,
   "metadata": {
    "collapsed": false
   },
   "outputs": [
    {
     "name": "stdout",
     "output_type": "stream",
     "text": [
      "-------------------------------------------------------------------------------- \n",
      "\t\t\t\tPV SYSTEM --> SOLETO 1 \n",
      "--------------------------------------------------------------------------------\n",
      "\n",
      "Loading inverter data...\n",
      "SOLETO 1: OK, component data loaded (4) --> INV1, INV2, INV3, INV4\n",
      "\n",
      "Loading irradiance values...\n",
      "SOLETO 1: OK, raw irradiance data (234226 observations) have been loaded\n",
      "\n",
      "-------------------------------------------------------------------------------- \n",
      "FINISHED!: All datasets have been loaded. (SYS: 4 - IRR FILE: 1)\n",
      "--------------------------------------------------------------------------------\n",
      "-------------------------------------------------------------------------------- \n",
      "EXAMPLE --> Soleto 1: INV1 (FROM '2018-08-08' TO '2021-06-30': 1057 days).\n",
      "--------------------------------------------------------------------------------\n",
      "<class 'pandas.core.frame.DataFrame'>\n",
      "RangeIndex: 146481 entries, 0 to 146480\n",
      "Data columns (total 13 columns):\n",
      " #   Column               Non-Null Count   Dtype         \n",
      "---  ------               --------------   -----         \n",
      " 0   Date/Time            146481 non-null  datetime64[ns]\n",
      " 1   Iac R (A)            146481 non-null  int64         \n",
      " 2   Iac S (A)            146481 non-null  int64         \n",
      " 3   Iac T (A)            146481 non-null  int64         \n",
      " 4   Vac R (V)            146481 non-null  int64         \n",
      " 5   Vac S (V)            146481 non-null  int64         \n",
      " 6   Vac T (V)            146481 non-null  int64         \n",
      " 7   Pac R (kW)           146481 non-null  int64         \n",
      " 8   E. totale (kWh)      146481 non-null  float64       \n",
      " 9   Cc 1 (A)             146481 non-null  int64         \n",
      " 10  Vcc 1 (V)            146481 non-null  int64         \n",
      " 11  Allarme              146481 non-null  string        \n",
      " 12  Inverter temp. (°C)  146481 non-null  int64         \n",
      "dtypes: datetime64[ns](1), float64(1), int64(10), string(1)\n",
      "memory usage: 14.5 MB\n"
     ]
    }
   ],
   "source": [
    "system_path, inv_data, inv_names, raw_irr_data, *_ = load_datasets(system_name, subfolder = dataset_name, verbose=True)"
   ]
  },
  {
   "cell_type": "markdown",
   "metadata": {},
   "source": [
    "# Load ambiental conditions from the external source"
   ]
  },
  {
   "cell_type": "code",
   "execution_count": 7,
   "metadata": {
    "collapsed": false
   },
   "outputs": [
    {
     "name": "stdout",
     "output_type": "stream",
     "text": [
      "Ambiental conditions (Galatina)\n",
      "------------------------------------------------------------\n",
      "<class 'pandas.core.frame.DataFrame'>\n",
      "RangeIndex: 41806 entries, 0 to 41805\n",
      "Data columns (total 7 columns):\n",
      " #   Column                      Non-Null Count  Dtype         \n",
      "---  ------                      --------------  -----         \n",
      " 0   Date/Time                   41806 non-null  datetime64[ns]\n",
      " 1   Amb. Temp (°C)              41806 non-null  float64       \n",
      " 2   Humidity (%)                40964 non-null  float64       \n",
      " 3   Atmospheric Pressure (hPa)  41758 non-null  float64       \n",
      " 4   Rainfall (mm)               41806 non-null  float64       \n",
      " 5   Wind speed (m/s)            25573 non-null  float64       \n",
      " 6   Wind direction (°)          25585 non-null  float64       \n",
      "dtypes: datetime64[ns](1), float64(6)\n",
      "memory usage: 2.2 MB\n"
     ]
    }
   ],
   "source": [
    "system_name_amb_cond = \"Galatina\"\n",
    "amb_cond = load_amb_cond(system_name_amb_cond)\n",
    "print(f\"Ambiental conditions ({system_name_amb_cond})\\n\" + \"-\" * 60)\n",
    "amb_cond.info()"
   ]
  },
  {
   "cell_type": "markdown",
   "metadata": {},
   "source": [
    "# Interpolation: A) Ambiental temperature"
   ]
  },
  {
   "cell_type": "markdown",
   "metadata": {},
   "source": [
    "## A.1) Select only the ambiental temperature"
   ]
  },
  {
   "cell_type": "code",
   "execution_count": 8,
   "metadata": {
    "collapsed": false
   },
   "outputs": [
    {
     "data": {
      "text/plain": [
       "Date/Time\n",
       "2017-01-04 16:00:00    11.00\n",
       "2017-01-04 17:00:00    10.51\n",
       "2017-01-11 18:00:00     2.38\n",
       "2017-01-11 19:00:00     2.25\n",
       "2017-01-11 20:00:00     1.58\n",
       "                       ...  \n",
       "2021-10-31 19:00:00    15.47\n",
       "2021-10-31 20:00:00    13.82\n",
       "2021-10-31 21:00:00    12.34\n",
       "2021-10-31 22:00:00    11.55\n",
       "2021-10-31 23:00:00    10.74\n",
       "Name: Amb. Temp (°C), Length: 41806, dtype: float64"
      ]
     },
     "metadata": {},
     "output_type": "display_data"
    }
   ],
   "source": [
    "amb_cond.index = amb_cond['Date/Time']\n",
    "amb_temp = amb_cond['Amb. Temp (°C)']\n",
    "display(amb_temp)"
   ]
  },
  {
   "cell_type": "markdown",
   "metadata": {},
   "source": [
    "## A.2) Split data into train, validation, test"
   ]
  },
  {
   "cell_type": "code",
   "execution_count": 9,
   "metadata": {
    "collapsed": true
   },
   "outputs": [],
   "source": [
    "test_dim = 0.2\n",
    "valid_dim = 0.2"
   ]
  },
  {
   "cell_type": "code",
   "execution_count": 10,
   "metadata": {
    "collapsed": false
   },
   "outputs": [
    {
     "name": "stdout",
     "output_type": "stream",
     "text": [
      "DATA: 41806 obs.\n",
      "--> TRAIN (80 %): 26755 obs.\n",
      "    --> VALID (20 %): 6689 obs.\n",
      "-->  TEST (20 %):  8362 obs.\n"
     ]
    }
   ],
   "source": [
    "all_train_data, test_temp = train_test_split(amb_temp, test_size = test_dim, random_state = 101)\n",
    "train_temp, valid_temp = train_test_split(all_train_data, test_size = valid_dim, random_state = 101)\n",
    "\n",
    "# Sort the timestamps\n",
    "train_temp.sort_index(inplace = True)\n",
    "valid_temp.sort_index(inplace = True)\n",
    "test_temp.sort_index(inplace = True)\n",
    "\n",
    "print(f\"DATA: {len(amb_temp)} obs.\")\n",
    "print(f\"--> TRAIN ({int((1 - test_dim)*100)} %): {len(train_temp)} obs.\")\n",
    "print(f\"    --> VALID ({int(valid_dim*100)} %): {len(valid_temp)} obs.\")\n",
    "print(f\"-->  TEST ({int(test_dim*100)} %):  {len(test_temp)} obs.\")"
   ]
  },
  {
   "cell_type": "markdown",
   "metadata": {},
   "source": [
    "# A3) Interpolation"
   ]
  },
  {
   "cell_type": "code",
   "execution_count": 16,
   "metadata": {
    "collapsed": true
   },
   "outputs": [],
   "source": [
    "loss_function = 'rmse'"
   ]
  },
  {
   "cell_type": "code",
   "execution_count": 28,
   "metadata": {
    "collapsed": false,
    "scrolled": true
   },
   "outputs": [
    {
     "name": "stdout",
     "output_type": "stream",
     "text": [
      "------------------------- SPLINE (order: 3) -------------------------\n",
      "\n",
      "TRAIN DATA with gaps (included in the validation set)\n",
      "--> TRAIN DATA: 26755 obs. filled with 6689 gaps (i.e., validation set)\n",
      "------------------------------------------------------------\n"
     ]
    },
    {
     "data": {
      "text/plain": [
       "Date/Time\n",
       "2017-01-04 17:00:00    10.51\n",
       "2017-01-11 18:00:00     2.38\n",
       "2017-01-11 19:00:00     2.25\n",
       "2017-01-11 20:00:00     1.58\n",
       "2017-01-11 22:00:00     0.47\n",
       "                       ...  \n",
       "2021-10-30 03:00:00      NaN\n",
       "2021-10-30 11:00:00      NaN\n",
       "2021-10-31 13:00:00      NaN\n",
       "2021-10-31 15:00:00      NaN\n",
       "2021-10-31 17:00:00      NaN\n",
       "Name: Amb. Temp (°C), Length: 33444, dtype: float64"
      ]
     },
     "metadata": {},
     "output_type": "display_data"
    },
    {
     "name": "stdout",
     "output_type": "stream",
     "text": [
      "\n",
      "--> Interpolating 6689 observations... \n"
     ]
    },
    {
     "data": {
      "text/plain": [
       "<scipy.interpolate.fitpack2.InterpolatedUnivariateSpline at 0x7f9b30342670>"
      ]
     },
     "metadata": {},
     "output_type": "display_data"
    },
    {
     "name": "stdout",
     "output_type": "stream",
     "text": [
      "[nan nan nan ... nan nan nan]\n",
      "--> Finisched! Time elapsed: 0 h, 00 min, 01 sec\n",
      "\n",
      "------------------------- METRICS -------------------------\n",
      "--> MAE: 1.0777  || RMSE: 1.4212 \n",
      "--> WAPE: 5.91 %  --> [Pos] WAPE: 5.63 %  || [Neg] WAPE: 6.22 %\n",
      "----------------------------------------------------------------------------------------------------\n",
      "\t\t\t\t\tBEST SPLINE: 3\n",
      "----------------------------------------------------------------------------------------------------\n"
     ]
    }
   ],
   "source": [
    "spline_order = range(3, 4) \n",
    "  \n",
    "best_metrics_value = 99999\n",
    "for order in spline_order:\n",
    "    print(\"-\"*25,f\"SPLINE (order: {order})\", \"-\"*25)\n",
    "    \n",
    "    # Retrieve the data\n",
    "    train_df = train_temp\n",
    "    target_df = valid_temp\n",
    "  \n",
    "    # Add the gaps in the train data \n",
    "    df = pd.concat([train_df, target_df])\n",
    "    df.loc[target_df.index] = np.nan\n",
    "    print(\"\\nTRAIN DATA with gaps (included in the validation set)\")\n",
    "    print(f\"--> TRAIN DATA: {len(train_df)} obs. filled with {len(target_df)} gaps (i.e., validation set)\\n\" + \"-\" * 60)\n",
    "    \n",
    "    display(df)\n",
    "    \n",
    "    # Start time\n",
    "    start_time = time.time()\n",
    "    \n",
    "    # Interpolation \n",
    "    print(f\"\\n--> Interpolating {len(df[df.isnull()])} observations... \")\n",
    "    #interpolated_data = df.interpolate(method='spline', order = order)\n",
    "    spl = UnivariateSpline(x = df.index, y = df.values, k = order)\n",
    "    \n",
    "    interpolated_data2 = spl(target_df.values)\n",
    "    display(spl)\n",
    "    print(interpolated_data2)\n",
    "    \n",
    "    # Ending the temporal counter\n",
    "    time_elapsed = str(timedelta(seconds = (time.time() - start_time))).split(\":\")\n",
    "    print(f\"--> Finisched! Time elapsed: {time_elapsed[0]} h, {time_elapsed[1]} min, {time_elapsed[2].split('.')[0]} sec\\n\") \n",
    "    \n",
    "    # Compute the perfomance\n",
    "    predicted_values = interpolated_data[target_df.index]\n",
    "    #display(predicted_values)\n",
    "    \n",
    "    # Compute metrics \n",
    "    print(\"-\"*25,f\"METRICS\", \"-\"*25)\n",
    "    mae, rmse, wape, pos_wape, neg_wape = compute_metrics(actual = target_df.values, predicted = predicted_values.values)\n",
    "    \n",
    "    if loss_function == 'rmse':\n",
    "        if rmse < best_metrics_value:\n",
    "            best_metrics_value = rmse\n",
    "            best_spline = \"\"\n",
    "            best_spline_order = order\n",
    "            \n",
    "print(\"-\" * 100 + f\"\\n\\t\\t\\t\\t\\tBEST SPLINE: {best_spline_order}\\n\" + \"-\" * 100)"
   ]
  },
  {
   "cell_type": "code",
   "execution_count": null,
   "metadata": {
    "collapsed": true
   },
   "outputs": [],
   "source": []
  }
 ],
 "metadata": {
  "kernelspec": {
   "display_name": "Python [conda env:sample]",
   "language": "python",
   "name": "conda-env-sample-py"
  },
  "language_info": {
   "codemirror_mode": {
    "name": "ipython",
    "version": 3
   },
   "file_extension": ".py",
   "mimetype": "text/x-python",
   "name": "python",
   "nbconvert_exporter": "python",
   "pygments_lexer": "ipython3",
   "version": "3.8.5"
  }
 },
 "nbformat": 4,
 "nbformat_minor": 1
}
