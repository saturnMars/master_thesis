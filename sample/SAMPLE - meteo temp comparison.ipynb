{
 "cells": [
  {
   "cell_type": "code",
   "execution_count": 156,
   "metadata": {
    "collapsed": true
   },
   "outputs": [],
   "source": [
    "import pandas as pd\n",
    "import numpy as np\n",
    "from datetime import timedelta"
   ]
  },
  {
   "cell_type": "code",
   "execution_count": 157,
   "metadata": {
    "collapsed": false
   },
   "outputs": [],
   "source": [
    "temp = pd.read_csv('/mnt/data/vieri/projects/SAMPLE/data/Dati Meteo/temperatura/meteomatic_3.csv')"
   ]
  },
  {
   "cell_type": "code",
   "execution_count": 158,
   "metadata": {
    "collapsed": false
   },
   "outputs": [],
   "source": [
    "meteomatics = temp[temp.rec_num == 0]"
   ]
  },
  {
   "cell_type": "code",
   "execution_count": 159,
   "metadata": {
    "collapsed": false
   },
   "outputs": [],
   "source": [
    "meteomatics = meteomatics.reset_index(drop=True)"
   ]
  },
  {
   "cell_type": "code",
   "execution_count": 160,
   "metadata": {
    "collapsed": false
   },
   "outputs": [],
   "source": [
    "meteomatics = meteomatics.sort_values(by=['timestamp'])"
   ]
  },
  {
   "cell_type": "code",
   "execution_count": 161,
   "metadata": {
    "collapsed": false
   },
   "outputs": [],
   "source": [
    "arpa = pd.DataFrame()\n",
    "arpa_file_names = ['galatina-PC.csv', 'galatina-pc-490-20-12-2021.csv', 'galatina-PC-20-27-12-2021.csv']\n",
    "for name in arpa_file_names:\n",
    "    temp = pd.read_csv('/mnt/data/vieri/projects/SAMPLE/data/Dati Meteo/temperatura/'+name)\n",
    "    arpa = arpa.append(temp)"
   ]
  },
  {
   "cell_type": "code",
   "execution_count": 162,
   "metadata": {
    "collapsed": false
   },
   "outputs": [
    {
     "data": {
      "text/html": [
       "<div>\n",
       "<style scoped>\n",
       "    .dataframe tbody tr th:only-of-type {\n",
       "        vertical-align: middle;\n",
       "    }\n",
       "\n",
       "    .dataframe tbody tr th {\n",
       "        vertical-align: top;\n",
       "    }\n",
       "\n",
       "    .dataframe thead th {\n",
       "        text-align: right;\n",
       "    }\n",
       "</style>\n",
       "<table border=\"1\" class=\"dataframe\">\n",
       "  <thead>\n",
       "    <tr style=\"text-align: right;\">\n",
       "      <th></th>\n",
       "      <th>DateTime</th>\n",
       "      <th>Temperatura Ambiente</th>\n",
       "    </tr>\n",
       "  </thead>\n",
       "  <tbody>\n",
       "    <tr>\n",
       "      <th>0</th>\n",
       "      <td>2021-12-06 12:00:00</td>\n",
       "      <td>12.6</td>\n",
       "    </tr>\n",
       "    <tr>\n",
       "      <th>1</th>\n",
       "      <td>2021-12-06 12:30:00</td>\n",
       "      <td>12.5</td>\n",
       "    </tr>\n",
       "    <tr>\n",
       "      <th>2</th>\n",
       "      <td>2021-12-06 13:00:00</td>\n",
       "      <td>12.3</td>\n",
       "    </tr>\n",
       "    <tr>\n",
       "      <th>3</th>\n",
       "      <td>2021-12-06 13:30:00</td>\n",
       "      <td>12.2</td>\n",
       "    </tr>\n",
       "    <tr>\n",
       "      <th>4</th>\n",
       "      <td>2021-12-06 14:00:00</td>\n",
       "      <td>12.5</td>\n",
       "    </tr>\n",
       "    <tr>\n",
       "      <th>...</th>\n",
       "      <td>...</td>\n",
       "      <td>...</td>\n",
       "    </tr>\n",
       "    <tr>\n",
       "      <th>331</th>\n",
       "      <td>2021-12-27 08:00:00</td>\n",
       "      <td>10.9</td>\n",
       "    </tr>\n",
       "    <tr>\n",
       "      <th>332</th>\n",
       "      <td>2021-12-27 08:30:00</td>\n",
       "      <td>10.8</td>\n",
       "    </tr>\n",
       "    <tr>\n",
       "      <th>333</th>\n",
       "      <td>2021-12-27 09:00:00</td>\n",
       "      <td>11.0</td>\n",
       "    </tr>\n",
       "    <tr>\n",
       "      <th>334</th>\n",
       "      <td>2021-12-27 09:30:00</td>\n",
       "      <td>11.4</td>\n",
       "    </tr>\n",
       "    <tr>\n",
       "      <th>335</th>\n",
       "      <td>2021-12-27 10:00:00</td>\n",
       "      <td>12.0</td>\n",
       "    </tr>\n",
       "  </tbody>\n",
       "</table>\n",
       "<p>1008 rows × 2 columns</p>\n",
       "</div>"
      ],
      "text/plain": [
       "                DateTime  Temperatura Ambiente          \n",
       "0    2021-12-06 12:00:00                            12.6\n",
       "1    2021-12-06 12:30:00                            12.5\n",
       "2    2021-12-06 13:00:00                            12.3\n",
       "3    2021-12-06 13:30:00                            12.2\n",
       "4    2021-12-06 14:00:00                            12.5\n",
       "..                   ...                             ...\n",
       "331  2021-12-27 08:00:00                            10.9\n",
       "332  2021-12-27 08:30:00                            10.8\n",
       "333  2021-12-27 09:00:00                            11.0\n",
       "334  2021-12-27 09:30:00                            11.4\n",
       "335  2021-12-27 10:00:00                            12.0\n",
       "\n",
       "[1008 rows x 2 columns]"
      ]
     },
     "execution_count": 162,
     "metadata": {},
     "output_type": "execute_result"
    }
   ],
   "source": [
    "arpa"
   ]
  },
  {
   "cell_type": "code",
   "execution_count": 163,
   "metadata": {
    "collapsed": false
   },
   "outputs": [],
   "source": [
    "for i in range(len(meteomatics)):\n",
    "    meteomatics.at[i,'acquire_timestamp'] = meteomatics.acquire_timestamp[i][0:15] +'0:00'"
   ]
  },
  {
   "cell_type": "code",
   "execution_count": 164,
   "metadata": {
    "collapsed": false
   },
   "outputs": [],
   "source": [
    "meteomatics = meteomatics[['acquire_timestamp','temperature']].rename(columns = {'acquire_timestamp':'DateTime'})"
   ]
  },
  {
   "cell_type": "code",
   "execution_count": 165,
   "metadata": {
    "collapsed": false
   },
   "outputs": [],
   "source": [
    "meteomatics['DateTime'] = pd.to_datetime(meteomatics.DateTime)"
   ]
  },
  {
   "cell_type": "code",
   "execution_count": 166,
   "metadata": {
    "collapsed": false
   },
   "outputs": [
    {
     "data": {
      "text/html": [
       "<div>\n",
       "<style scoped>\n",
       "    .dataframe tbody tr th:only-of-type {\n",
       "        vertical-align: middle;\n",
       "    }\n",
       "\n",
       "    .dataframe tbody tr th {\n",
       "        vertical-align: top;\n",
       "    }\n",
       "\n",
       "    .dataframe thead th {\n",
       "        text-align: right;\n",
       "    }\n",
       "</style>\n",
       "<table border=\"1\" class=\"dataframe\">\n",
       "  <thead>\n",
       "    <tr style=\"text-align: right;\">\n",
       "      <th></th>\n",
       "      <th>DateTime</th>\n",
       "      <th>temperature</th>\n",
       "    </tr>\n",
       "  </thead>\n",
       "  <tbody>\n",
       "    <tr>\n",
       "      <th>469</th>\n",
       "      <td>2021-12-13 11:50:00</td>\n",
       "      <td>11.2</td>\n",
       "    </tr>\n",
       "    <tr>\n",
       "      <th>470</th>\n",
       "      <td>2021-12-13 12:20:00</td>\n",
       "      <td>11.3</td>\n",
       "    </tr>\n",
       "    <tr>\n",
       "      <th>471</th>\n",
       "      <td>2021-12-13 12:50:00</td>\n",
       "      <td>11.9</td>\n",
       "    </tr>\n",
       "    <tr>\n",
       "      <th>472</th>\n",
       "      <td>2021-12-13 13:20:00</td>\n",
       "      <td>11.9</td>\n",
       "    </tr>\n",
       "    <tr>\n",
       "      <th>473</th>\n",
       "      <td>2021-12-13 13:50:00</td>\n",
       "      <td>11.9</td>\n",
       "    </tr>\n",
       "  </tbody>\n",
       "</table>\n",
       "</div>"
      ],
      "text/plain": [
       "               DateTime  temperature\n",
       "469 2021-12-13 11:50:00         11.2\n",
       "470 2021-12-13 12:20:00         11.3\n",
       "471 2021-12-13 12:50:00         11.9\n",
       "472 2021-12-13 13:20:00         11.9\n",
       "473 2021-12-13 13:50:00         11.9"
      ]
     },
     "execution_count": 166,
     "metadata": {},
     "output_type": "execute_result"
    }
   ],
   "source": [
    "meteomatics[meteomatics.DateTime > '2021-12-13 11:30:00'].head()"
   ]
  },
  {
   "cell_type": "code",
   "execution_count": 167,
   "metadata": {
    "collapsed": false
   },
   "outputs": [],
   "source": [
    "meteomatics.loc[469:,'DateTime'] = meteomatics[meteomatics.DateTime > '2021-12-13 11:30:00'].DateTime + timedelta(minutes = 10)"
   ]
  },
  {
   "cell_type": "code",
   "execution_count": 168,
   "metadata": {
    "collapsed": false
   },
   "outputs": [
    {
     "data": {
      "text/plain": [
       "4      2021-12-03 19:30:00\n",
       "5      2021-12-03 20:00:00\n",
       "6      2021-12-03 20:30:00\n",
       "7      2021-12-03 21:00:00\n",
       "8      2021-12-03 21:30:00\n",
       "               ...        \n",
       "1130   2021-12-27 08:30:00\n",
       "1131   2021-12-27 09:00:00\n",
       "1132   2021-12-27 09:30:00\n",
       "1133   2021-12-27 10:00:00\n",
       "1134   2021-12-27 10:30:00\n",
       "Name: DateTime, Length: 1135, dtype: datetime64[ns]"
      ]
     },
     "execution_count": 168,
     "metadata": {},
     "output_type": "execute_result"
    }
   ],
   "source": [
    "meteomatics['DateTime']"
   ]
  },
  {
   "cell_type": "code",
   "execution_count": 169,
   "metadata": {
    "collapsed": true
   },
   "outputs": [],
   "source": [
    "arpa['DateTime'] = pd.to_datetime(arpa.DateTime)"
   ]
  },
  {
   "cell_type": "code",
   "execution_count": 170,
   "metadata": {
    "collapsed": false
   },
   "outputs": [],
   "source": [
    "df_comparison = (arpa.set_index('DateTime').rename(columns = {'Temperatura Ambiente          ':'arpa_temp'}).join(meteomatics.set_index('DateTime')).dropna()).rename(columns = {'temperature':'meteomatics_temp'})"
   ]
  },
  {
   "cell_type": "code",
   "execution_count": 171,
   "metadata": {
    "collapsed": false
   },
   "outputs": [
    {
     "data": {
      "text/html": [
       "<div>\n",
       "<style scoped>\n",
       "    .dataframe tbody tr th:only-of-type {\n",
       "        vertical-align: middle;\n",
       "    }\n",
       "\n",
       "    .dataframe tbody tr th {\n",
       "        vertical-align: top;\n",
       "    }\n",
       "\n",
       "    .dataframe thead th {\n",
       "        text-align: right;\n",
       "    }\n",
       "</style>\n",
       "<table border=\"1\" class=\"dataframe\">\n",
       "  <thead>\n",
       "    <tr style=\"text-align: right;\">\n",
       "      <th></th>\n",
       "      <th>arpa_temp</th>\n",
       "      <th>meteomatics_temp</th>\n",
       "    </tr>\n",
       "    <tr>\n",
       "      <th>DateTime</th>\n",
       "      <th></th>\n",
       "      <th></th>\n",
       "    </tr>\n",
       "  </thead>\n",
       "  <tbody>\n",
       "    <tr>\n",
       "      <th>2021-12-06 12:00:00</th>\n",
       "      <td>12.6</td>\n",
       "      <td>14.8</td>\n",
       "    </tr>\n",
       "    <tr>\n",
       "      <th>2021-12-06 12:30:00</th>\n",
       "      <td>12.5</td>\n",
       "      <td>14.7</td>\n",
       "    </tr>\n",
       "    <tr>\n",
       "      <th>2021-12-06 13:00:00</th>\n",
       "      <td>12.3</td>\n",
       "      <td>14.7</td>\n",
       "    </tr>\n",
       "    <tr>\n",
       "      <th>2021-12-06 13:30:00</th>\n",
       "      <td>12.2</td>\n",
       "      <td>14.6</td>\n",
       "    </tr>\n",
       "    <tr>\n",
       "      <th>2021-12-06 14:00:00</th>\n",
       "      <td>12.5</td>\n",
       "      <td>14.5</td>\n",
       "    </tr>\n",
       "    <tr>\n",
       "      <th>...</th>\n",
       "      <td>...</td>\n",
       "      <td>...</td>\n",
       "    </tr>\n",
       "    <tr>\n",
       "      <th>2021-12-27 08:00:00</th>\n",
       "      <td>10.9</td>\n",
       "      <td>12.7</td>\n",
       "    </tr>\n",
       "    <tr>\n",
       "      <th>2021-12-27 08:30:00</th>\n",
       "      <td>10.8</td>\n",
       "      <td>13.5</td>\n",
       "    </tr>\n",
       "    <tr>\n",
       "      <th>2021-12-27 09:00:00</th>\n",
       "      <td>11.0</td>\n",
       "      <td>14.2</td>\n",
       "    </tr>\n",
       "    <tr>\n",
       "      <th>2021-12-27 09:30:00</th>\n",
       "      <td>11.4</td>\n",
       "      <td>15.0</td>\n",
       "    </tr>\n",
       "    <tr>\n",
       "      <th>2021-12-27 10:00:00</th>\n",
       "      <td>12.0</td>\n",
       "      <td>15.8</td>\n",
       "    </tr>\n",
       "  </tbody>\n",
       "</table>\n",
       "<p>1008 rows × 2 columns</p>\n",
       "</div>"
      ],
      "text/plain": [
       "                     arpa_temp  meteomatics_temp\n",
       "DateTime                                        \n",
       "2021-12-06 12:00:00       12.6              14.8\n",
       "2021-12-06 12:30:00       12.5              14.7\n",
       "2021-12-06 13:00:00       12.3              14.7\n",
       "2021-12-06 13:30:00       12.2              14.6\n",
       "2021-12-06 14:00:00       12.5              14.5\n",
       "...                        ...               ...\n",
       "2021-12-27 08:00:00       10.9              12.7\n",
       "2021-12-27 08:30:00       10.8              13.5\n",
       "2021-12-27 09:00:00       11.0              14.2\n",
       "2021-12-27 09:30:00       11.4              15.0\n",
       "2021-12-27 10:00:00       12.0              15.8\n",
       "\n",
       "[1008 rows x 2 columns]"
      ]
     },
     "execution_count": 171,
     "metadata": {},
     "output_type": "execute_result"
    }
   ],
   "source": [
    "df_comparison"
   ]
  },
  {
   "cell_type": "code",
   "execution_count": 172,
   "metadata": {
    "collapsed": true
   },
   "outputs": [],
   "source": [
    "arpa_hist = pd.read_csv('/mnt/data/vieri/projects/SAMPLE/data/Dati Meteo/temperatura/stazione_galatina_anno_2021.csv', sep = ';')"
   ]
  },
  {
   "cell_type": "code",
   "execution_count": 173,
   "metadata": {
    "collapsed": false
   },
   "outputs": [
    {
     "data": {
      "text/html": [
       "<div>\n",
       "<style scoped>\n",
       "    .dataframe tbody tr th:only-of-type {\n",
       "        vertical-align: middle;\n",
       "    }\n",
       "\n",
       "    .dataframe tbody tr th {\n",
       "        vertical-align: top;\n",
       "    }\n",
       "\n",
       "    .dataframe thead th {\n",
       "        text-align: right;\n",
       "    }\n",
       "</style>\n",
       "<table border=\"1\" class=\"dataframe\">\n",
       "  <thead>\n",
       "    <tr style=\"text-align: right;\">\n",
       "      <th></th>\n",
       "      <th>data</th>\n",
       "      <th>temperatura</th>\n",
       "      <th>flag_t</th>\n",
       "      <th>umr</th>\n",
       "      <th>flag_umr</th>\n",
       "      <th>precipitazione</th>\n",
       "      <th>flag_prec</th>\n",
       "      <th>vvento</th>\n",
       "      <th>flag_vv</th>\n",
       "      <th>dvento</th>\n",
       "      <th>flag_dv</th>\n",
       "      <th>radsolare</th>\n",
       "      <th>flag_rad</th>\n",
       "      <th>pressione</th>\n",
       "      <th>flag_pres</th>\n",
       "      <th>Unnamed: 15</th>\n",
       "    </tr>\n",
       "  </thead>\n",
       "  <tbody>\n",
       "    <tr>\n",
       "      <th>2006</th>\n",
       "      <td>2021-03-25 14:00:00</td>\n",
       "      <td>13.53</td>\n",
       "      <td>5</td>\n",
       "      <td>NaN</td>\n",
       "      <td>6</td>\n",
       "      <td>0.0</td>\n",
       "      <td>5</td>\n",
       "      <td>NaN</td>\n",
       "      <td>6</td>\n",
       "      <td>NaN</td>\n",
       "      <td>6</td>\n",
       "      <td>NaN</td>\n",
       "      <td>6</td>\n",
       "      <td>1014.04</td>\n",
       "      <td>5</td>\n",
       "      <td>NaN</td>\n",
       "    </tr>\n",
       "    <tr>\n",
       "      <th>5885</th>\n",
       "      <td>2021-09-03 05:00:00</td>\n",
       "      <td>19.45</td>\n",
       "      <td>5</td>\n",
       "      <td>NaN</td>\n",
       "      <td>6</td>\n",
       "      <td>0.0</td>\n",
       "      <td>5</td>\n",
       "      <td>NaN</td>\n",
       "      <td>6</td>\n",
       "      <td>NaN</td>\n",
       "      <td>6</td>\n",
       "      <td>NaN</td>\n",
       "      <td>6</td>\n",
       "      <td>1011.80</td>\n",
       "      <td>5</td>\n",
       "      <td>NaN</td>\n",
       "    </tr>\n",
       "    <tr>\n",
       "      <th>5886</th>\n",
       "      <td>2021-09-03 06:00:00</td>\n",
       "      <td>19.71</td>\n",
       "      <td>5</td>\n",
       "      <td>NaN</td>\n",
       "      <td>6</td>\n",
       "      <td>0.0</td>\n",
       "      <td>5</td>\n",
       "      <td>NaN</td>\n",
       "      <td>6</td>\n",
       "      <td>NaN</td>\n",
       "      <td>6</td>\n",
       "      <td>NaN</td>\n",
       "      <td>6</td>\n",
       "      <td>1011.88</td>\n",
       "      <td>5</td>\n",
       "      <td>NaN</td>\n",
       "    </tr>\n",
       "  </tbody>\n",
       "</table>\n",
       "</div>"
      ],
      "text/plain": [
       "                     data  temperatura  flag_t  umr  flag_umr  precipitazione  \\\n",
       "2006  2021-03-25 14:00:00        13.53       5  NaN         6             0.0   \n",
       "5885  2021-09-03 05:00:00        19.45       5  NaN         6             0.0   \n",
       "5886  2021-09-03 06:00:00        19.71       5  NaN         6             0.0   \n",
       "\n",
       "      flag_prec  vvento  flag_vv  dvento  flag_dv  radsolare  flag_rad  \\\n",
       "2006          5     NaN        6     NaN        6        NaN         6   \n",
       "5885          5     NaN        6     NaN        6        NaN         6   \n",
       "5886          5     NaN        6     NaN        6        NaN         6   \n",
       "\n",
       "      pressione  flag_pres  Unnamed: 15  \n",
       "2006    1014.04          5          NaN  \n",
       "5885    1011.80          5          NaN  \n",
       "5886    1011.88          5          NaN  "
      ]
     },
     "execution_count": 173,
     "metadata": {},
     "output_type": "execute_result"
    }
   ],
   "source": [
    "arpa_hist[arpa_hist.flag_t != 1]"
   ]
  },
  {
   "cell_type": "code",
   "execution_count": 174,
   "metadata": {
    "collapsed": false
   },
   "outputs": [],
   "source": [
    "arpa_hist = arpa_hist.iloc[:,0:2]"
   ]
  },
  {
   "cell_type": "code",
   "execution_count": 175,
   "metadata": {
    "collapsed": false
   },
   "outputs": [],
   "source": [
    "arpa_hist['DateTime'] = pd.to_datetime(arpa_hist.data)"
   ]
  },
  {
   "cell_type": "code",
   "execution_count": 176,
   "metadata": {
    "collapsed": false
   },
   "outputs": [],
   "source": [
    "arpa_hist = arpa_hist.iloc[:,1:3]"
   ]
  },
  {
   "cell_type": "code",
   "execution_count": 177,
   "metadata": {
    "collapsed": false
   },
   "outputs": [
    {
     "data": {
      "text/html": [
       "<div>\n",
       "<style scoped>\n",
       "    .dataframe tbody tr th:only-of-type {\n",
       "        vertical-align: middle;\n",
       "    }\n",
       "\n",
       "    .dataframe tbody tr th {\n",
       "        vertical-align: top;\n",
       "    }\n",
       "\n",
       "    .dataframe thead th {\n",
       "        text-align: right;\n",
       "    }\n",
       "</style>\n",
       "<table border=\"1\" class=\"dataframe\">\n",
       "  <thead>\n",
       "    <tr style=\"text-align: right;\">\n",
       "      <th></th>\n",
       "      <th>temperatura</th>\n",
       "      <th>DateTime</th>\n",
       "    </tr>\n",
       "  </thead>\n",
       "  <tbody>\n",
       "    <tr>\n",
       "      <th>0</th>\n",
       "      <td>6.16</td>\n",
       "      <td>2021-01-01 00:00:00</td>\n",
       "    </tr>\n",
       "    <tr>\n",
       "      <th>1</th>\n",
       "      <td>5.25</td>\n",
       "      <td>2021-01-01 01:00:00</td>\n",
       "    </tr>\n",
       "    <tr>\n",
       "      <th>2</th>\n",
       "      <td>3.93</td>\n",
       "      <td>2021-01-01 02:00:00</td>\n",
       "    </tr>\n",
       "    <tr>\n",
       "      <th>3</th>\n",
       "      <td>3.36</td>\n",
       "      <td>2021-01-01 03:00:00</td>\n",
       "    </tr>\n",
       "    <tr>\n",
       "      <th>4</th>\n",
       "      <td>2.92</td>\n",
       "      <td>2021-01-01 04:00:00</td>\n",
       "    </tr>\n",
       "    <tr>\n",
       "      <th>...</th>\n",
       "      <td>...</td>\n",
       "      <td>...</td>\n",
       "    </tr>\n",
       "    <tr>\n",
       "      <th>8755</th>\n",
       "      <td>12.27</td>\n",
       "      <td>2021-12-31 19:00:00</td>\n",
       "    </tr>\n",
       "    <tr>\n",
       "      <th>8756</th>\n",
       "      <td>11.67</td>\n",
       "      <td>2021-12-31 20:00:00</td>\n",
       "    </tr>\n",
       "    <tr>\n",
       "      <th>8757</th>\n",
       "      <td>11.34</td>\n",
       "      <td>2021-12-31 21:00:00</td>\n",
       "    </tr>\n",
       "    <tr>\n",
       "      <th>8758</th>\n",
       "      <td>11.29</td>\n",
       "      <td>2021-12-31 22:00:00</td>\n",
       "    </tr>\n",
       "    <tr>\n",
       "      <th>8759</th>\n",
       "      <td>10.47</td>\n",
       "      <td>2021-12-31 23:00:00</td>\n",
       "    </tr>\n",
       "  </tbody>\n",
       "</table>\n",
       "<p>8760 rows × 2 columns</p>\n",
       "</div>"
      ],
      "text/plain": [
       "      temperatura            DateTime\n",
       "0            6.16 2021-01-01 00:00:00\n",
       "1            5.25 2021-01-01 01:00:00\n",
       "2            3.93 2021-01-01 02:00:00\n",
       "3            3.36 2021-01-01 03:00:00\n",
       "4            2.92 2021-01-01 04:00:00\n",
       "...           ...                 ...\n",
       "8755        12.27 2021-12-31 19:00:00\n",
       "8756        11.67 2021-12-31 20:00:00\n",
       "8757        11.34 2021-12-31 21:00:00\n",
       "8758        11.29 2021-12-31 22:00:00\n",
       "8759        10.47 2021-12-31 23:00:00\n",
       "\n",
       "[8760 rows x 2 columns]"
      ]
     },
     "execution_count": 177,
     "metadata": {},
     "output_type": "execute_result"
    }
   ],
   "source": [
    "arpa_hist"
   ]
  },
  {
   "cell_type": "code",
   "execution_count": 178,
   "metadata": {
    "collapsed": false
   },
   "outputs": [],
   "source": [
    "df_comparison = arpa_hist.set_index('DateTime').rename(columns = {'temperatura':'arpa_temp_hist'}).join(df_comparison)"
   ]
  },
  {
   "cell_type": "code",
   "execution_count": 181,
   "metadata": {
    "collapsed": false
   },
   "outputs": [],
   "source": [
    "df_comparison = df_comparison.dropna()"
   ]
  },
  {
   "cell_type": "code",
   "execution_count": 182,
   "metadata": {
    "collapsed": false
   },
   "outputs": [
    {
     "data": {
      "text/html": [
       "<div>\n",
       "<style scoped>\n",
       "    .dataframe tbody tr th:only-of-type {\n",
       "        vertical-align: middle;\n",
       "    }\n",
       "\n",
       "    .dataframe tbody tr th {\n",
       "        vertical-align: top;\n",
       "    }\n",
       "\n",
       "    .dataframe thead th {\n",
       "        text-align: right;\n",
       "    }\n",
       "</style>\n",
       "<table border=\"1\" class=\"dataframe\">\n",
       "  <thead>\n",
       "    <tr style=\"text-align: right;\">\n",
       "      <th></th>\n",
       "      <th>arpa_temp_hist</th>\n",
       "      <th>arpa_temp</th>\n",
       "      <th>meteomatics_temp</th>\n",
       "    </tr>\n",
       "    <tr>\n",
       "      <th>DateTime</th>\n",
       "      <th></th>\n",
       "      <th></th>\n",
       "      <th></th>\n",
       "    </tr>\n",
       "  </thead>\n",
       "  <tbody>\n",
       "    <tr>\n",
       "      <th>2021-12-06 12:00:00</th>\n",
       "      <td>14.94</td>\n",
       "      <td>12.6</td>\n",
       "      <td>14.8</td>\n",
       "    </tr>\n",
       "    <tr>\n",
       "      <th>2021-12-06 13:00:00</th>\n",
       "      <td>13.90</td>\n",
       "      <td>12.3</td>\n",
       "      <td>14.7</td>\n",
       "    </tr>\n",
       "    <tr>\n",
       "      <th>2021-12-06 14:00:00</th>\n",
       "      <td>13.62</td>\n",
       "      <td>12.5</td>\n",
       "      <td>14.5</td>\n",
       "    </tr>\n",
       "    <tr>\n",
       "      <th>2021-12-06 15:00:00</th>\n",
       "      <td>13.57</td>\n",
       "      <td>12.1</td>\n",
       "      <td>13.7</td>\n",
       "    </tr>\n",
       "    <tr>\n",
       "      <th>2021-12-06 16:00:00</th>\n",
       "      <td>12.75</td>\n",
       "      <td>11.6</td>\n",
       "      <td>12.2</td>\n",
       "    </tr>\n",
       "    <tr>\n",
       "      <th>...</th>\n",
       "      <td>...</td>\n",
       "      <td>...</td>\n",
       "      <td>...</td>\n",
       "    </tr>\n",
       "    <tr>\n",
       "      <th>2021-12-27 06:00:00</th>\n",
       "      <td>13.49</td>\n",
       "      <td>12.7</td>\n",
       "      <td>12.4</td>\n",
       "    </tr>\n",
       "    <tr>\n",
       "      <th>2021-12-27 07:00:00</th>\n",
       "      <td>13.31</td>\n",
       "      <td>11.9</td>\n",
       "      <td>12.2</td>\n",
       "    </tr>\n",
       "    <tr>\n",
       "      <th>2021-12-27 08:00:00</th>\n",
       "      <td>12.19</td>\n",
       "      <td>10.9</td>\n",
       "      <td>12.7</td>\n",
       "    </tr>\n",
       "    <tr>\n",
       "      <th>2021-12-27 09:00:00</th>\n",
       "      <td>11.48</td>\n",
       "      <td>11.0</td>\n",
       "      <td>14.2</td>\n",
       "    </tr>\n",
       "    <tr>\n",
       "      <th>2021-12-27 10:00:00</th>\n",
       "      <td>12.48</td>\n",
       "      <td>12.0</td>\n",
       "      <td>15.8</td>\n",
       "    </tr>\n",
       "  </tbody>\n",
       "</table>\n",
       "<p>504 rows × 3 columns</p>\n",
       "</div>"
      ],
      "text/plain": [
       "                     arpa_temp_hist  arpa_temp  meteomatics_temp\n",
       "DateTime                                                        \n",
       "2021-12-06 12:00:00           14.94       12.6              14.8\n",
       "2021-12-06 13:00:00           13.90       12.3              14.7\n",
       "2021-12-06 14:00:00           13.62       12.5              14.5\n",
       "2021-12-06 15:00:00           13.57       12.1              13.7\n",
       "2021-12-06 16:00:00           12.75       11.6              12.2\n",
       "...                             ...        ...               ...\n",
       "2021-12-27 06:00:00           13.49       12.7              12.4\n",
       "2021-12-27 07:00:00           13.31       11.9              12.2\n",
       "2021-12-27 08:00:00           12.19       10.9              12.7\n",
       "2021-12-27 09:00:00           11.48       11.0              14.2\n",
       "2021-12-27 10:00:00           12.48       12.0              15.8\n",
       "\n",
       "[504 rows x 3 columns]"
      ]
     },
     "execution_count": 182,
     "metadata": {},
     "output_type": "execute_result"
    }
   ],
   "source": [
    "df_comparison"
   ]
  },
  {
   "cell_type": "markdown",
   "metadata": {},
   "source": [
    "### metriche"
   ]
  },
  {
   "cell_type": "code",
   "execution_count": 183,
   "metadata": {
    "collapsed": true
   },
   "outputs": [],
   "source": [
    "def compute_metrics (df, provider = 'meteomatics'):\n",
    "    errors = np.array(df.meteomatics_temp - df.arpa_temp_hist)\n",
    "    wape = np.mean(np.abs(errors)) / np.mean(df.arpa_temp_hist)\n",
    "    mae = np.mean(np.abs(errors))\n",
    "    rmse =  np.sqrt(np.sum(errors**2)/len(errors))\n",
    "    print(f\"WAPE:{wape:0.4f}\\tMAE:{mae:0.4f}\\t RMSE:{rmse:0.4f}\")\n",
    "    return"
   ]
  },
  {
   "cell_type": "code",
   "execution_count": 185,
   "metadata": {
    "collapsed": true
   },
   "outputs": [],
   "source": [
    "def compute_metrics (df, provider = 'meteomatics'):\n",
    "    if provider == 'meteomatics':\n",
    "        errors = np.array(df.meteomatics_temp - df.arpa_temp_hist)\n",
    "    else:\n",
    "        errors = np.array(df.arpa_temp - df.arpa_temp_hist)\n",
    "    wape = np.mean(np.abs(errors)) / np.mean(df.arpa_temp_hist)\n",
    "    mae = np.mean(np.abs(errors))\n",
    "    rmse =  np.sqrt(np.sum(errors**2)/len(errors))\n",
    "    print(f\"WAPE:{wape:0.4f}\\tMAE:{mae:0.4f}\\t RMSE:{rmse:0.4f}\")\n",
    "    return"
   ]
  },
  {
   "cell_type": "code",
   "execution_count": 186,
   "metadata": {
    "collapsed": false
   },
   "outputs": [
    {
     "name": "stdout",
     "output_type": "stream",
     "text": [
      "WAPE:0.1235\tMAE:1.1915\t RMSE:1.5284\n"
     ]
    }
   ],
   "source": [
    "compute_metrics(df_comparison, provider = 'meteomatics')"
   ]
  },
  {
   "cell_type": "code",
   "execution_count": 187,
   "metadata": {
    "collapsed": false
   },
   "outputs": [
    {
     "name": "stdout",
     "output_type": "stream",
     "text": [
      "WAPE:0.1109\tMAE:1.0694\t RMSE:1.2669\n"
     ]
    }
   ],
   "source": [
    "compute_metrics(df_comparison, provider = 'arpa_real_time')"
   ]
  }
 ],
 "metadata": {
  "anaconda-cloud": {},
  "kernelspec": {
   "display_name": "Python [conda env:sample]",
   "language": "python",
   "name": "conda-env-sample-py"
  },
  "language_info": {
   "codemirror_mode": {
    "name": "ipython",
    "version": 3
   },
   "file_extension": ".py",
   "mimetype": "text/x-python",
   "name": "python",
   "nbconvert_exporter": "python",
   "pygments_lexer": "ipython3",
   "version": "3.8.5"
  }
 },
 "nbformat": 4,
 "nbformat_minor": 1
}
