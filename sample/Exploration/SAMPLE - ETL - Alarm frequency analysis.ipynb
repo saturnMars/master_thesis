{
 "cells": [
  {
   "cell_type": "code",
   "execution_count": 1,
   "metadata": {
    "collapsed": true
   },
   "outputs": [],
   "source": [
    "from sys import path\n",
    "if '..' not in path:\n",
    "    path.insert(0, '..')"
   ]
  },
  {
   "cell_type": "code",
   "execution_count": 2,
   "metadata": {
    "collapsed": false
   },
   "outputs": [],
   "source": [
    "import pandas as pd\n",
    "from os import path, makedirs\n",
    "from _library.utils import SYSTEM_NAMES_FULL"
   ]
  },
  {
   "cell_type": "code",
   "execution_count": 3,
   "metadata": {
    "collapsed": false
   },
   "outputs": [
    {
     "name": "stdout",
     "output_type": "stream",
     "text": [
      "/mnt/data/vieri/projects/SAMPLE\n",
      "['Binetto 1', 'Binetto 2', 'Cantore', 'Emi', 'Soleto 1', 'Soleto 2', 'Galatina', 'Verone']\n"
     ]
    }
   ],
   "source": [
    "# Folder path\n",
    "%cd /mnt/data/vieri/projects/SAMPLE/\n",
    "print(SYSTEM_NAMES_FULL)"
   ]
  },
  {
   "cell_type": "code",
   "execution_count": 4,
   "metadata": {
    "collapsed": true
   },
   "outputs": [],
   "source": [
    "system_name = \"Soleto 1\""
   ]
  },
  {
   "cell_type": "code",
   "execution_count": 5,
   "metadata": {
    "collapsed": false
   },
   "outputs": [],
   "source": [
    "# STATIC VARIABLE\n",
    "folder_path = path.join(\"./data\", system_name.upper(), system_name.upper())\n",
    "fault_file_name = system_name + \" - Storico Allarme.xlsx\""
   ]
  },
  {
   "cell_type": "code",
   "execution_count": 6,
   "metadata": {
    "collapsed": false
   },
   "outputs": [],
   "source": [
    "# IMPORT\n",
    "fault_data = pd.read_excel(path.join(folder_path, fault_file_name), header = [1], sheet_name = None)\n",
    "sheet_names = list(fault_data.keys())"
   ]
  },
  {
   "cell_type": "code",
   "execution_count": 7,
   "metadata": {
    "collapsed": false
   },
   "outputs": [
    {
     "name": "stdout",
     "output_type": "stream",
     "text": [
      "<class 'pandas.core.frame.DataFrame'>\n",
      "Int64Index: 143545 entries, 0 to 1614\n",
      "Data columns (total 4 columns):\n",
      " #   Column            Non-Null Count   Dtype         \n",
      "---  ------            --------------   -----         \n",
      " 0   Tipologia Evento  143545 non-null  object        \n",
      " 1   Messaggio         143545 non-null  object        \n",
      " 2   Ricevuto il       143545 non-null  datetime64[ns]\n",
      " 3   Rientrato il      143545 non-null  object        \n",
      "dtypes: datetime64[ns](1), object(3)\n",
      "memory usage: 5.5+ MB\n"
     ]
    },
    {
     "data": {
      "text/plain": [
       "None"
      ]
     },
     "metadata": {},
     "output_type": "display_data"
    }
   ],
   "source": [
    "# Merge data from all components\n",
    "components_to_merge = [fault_data[name] for name in sheet_names]\n",
    "full_fault_data = pd.concat(components_to_merge)\n",
    "\n",
    "display(full_fault_data.info())"
   ]
  },
  {
   "cell_type": "code",
   "execution_count": 39,
   "metadata": {
    "collapsed": true
   },
   "outputs": [],
   "source": [
    "def compute_frequencies(dataframe, splitSecondaryError = False):\n",
    "    df = dataframe.copy()\n",
    "    \n",
    "    starting_ts = sorted(df['Ricevuto il'].values)\n",
    "    first_ts = pd.Series(pd.to_datetime(starting_ts[0]).strftime('%Y-%m-%d (%H:%M)'), name = 'First timestamp')\n",
    "    \n",
    "    # Extract the meaningful part of the error\n",
    "    ComponentName = df[\"Messaggio\"].str.split(\":\").str[0]\n",
    "    FullErrorMessage = df[\"Messaggio\"].str.split(\":\").str[1]\n",
    "    \n",
    "    ErrorMessage_noSecCode = FullErrorMessage.str.split(\"(\").str[0]\n",
    "    simple_error_message = ErrorMessage_noSecCode.str.split(']').str[-1].str.strip()\n",
    "    SecondaryErrorCode = FullErrorMessage.str.split(\"(\").str[1].str[:-1]\n",
    "    \n",
    "    df[\"Secondary error code\"] = SecondaryErrorCode\n",
    "    df[\"Component\"] = ComponentName\n",
    "    \n",
    "    if splitSecondaryError:\n",
    "        df[\"Messaggio\"] = ErrorMessage_noSecCode  \n",
    "        df = df.groupby([\"Tipologia Evento\", \"Component\", \"Secondary error code\", \"Messaggio\"]).count()\n",
    "    else:\n",
    "        df[\"Messaggio\"] = simple_error_message #FullErrorMessage\n",
    "        df = df.groupby([\"Tipologia Evento\", \"Messaggio\"]).count()\n",
    "   \n",
    "    # Keep meaningful columns\n",
    "    df.rename(columns={\"Ricevuto il\": \"Frequenza\"}, inplace = True)\n",
    "    df = df[[\"Frequenza\"]]\n",
    "\n",
    "    # Compute total faults for each event type\n",
    "    df_total = df.groupby([\"Tipologia Evento\"]).sum()\n",
    "    df_total[\"Total faults (%)\"] = round(df_total[\"Frequenza\"]/df_total[\"Frequenza\"].sum()*100,2)\n",
    "\n",
    "    # Order the dataframe according to its frequency\n",
    "    df_total.sort_values(by=['Frequenza'], \n",
    "                         ascending=False, inplace=True)\n",
    "    if splitSecondaryError:\n",
    "         df.sort_values(by=['Tipologia Evento',\"Component\", \"Secondary error code\",'Frequenza'], \n",
    "                        ascending=[True, True, True, False], inplace=True) \n",
    "    else:\n",
    "        df.sort_values(by=['Tipologia Evento', 'Frequenza'], ascending=[True, False], inplace=True) \n",
    "    return df, df_total, first_ts\n"
   ]
  },
  {
   "cell_type": "code",
   "execution_count": 40,
   "metadata": {
    "collapsed": false
   },
   "outputs": [
    {
     "data": {
      "text/plain": [
       "First timestamp    2018-08-08 (10:15)\n",
       "Name: First timestamp, dtype: object"
      ]
     },
     "metadata": {},
     "output_type": "display_data"
    },
    {
     "data": {
      "text/plain": [
       "First timestamp    2018-08-08 (10:15)\n",
       "Name: First timestamp, dtype: object"
      ]
     },
     "metadata": {},
     "output_type": "display_data"
    },
    {
     "data": {
      "text/html": [
       "<div>\n",
       "<style scoped>\n",
       "    .dataframe tbody tr th:only-of-type {\n",
       "        vertical-align: middle;\n",
       "    }\n",
       "\n",
       "    .dataframe tbody tr th {\n",
       "        vertical-align: top;\n",
       "    }\n",
       "\n",
       "    .dataframe thead th {\n",
       "        text-align: right;\n",
       "    }\n",
       "</style>\n",
       "<table border=\"1\" class=\"dataframe\">\n",
       "  <thead>\n",
       "    <tr style=\"text-align: right;\">\n",
       "      <th></th>\n",
       "      <th>Frequenza</th>\n",
       "      <th>Total faults (%)</th>\n",
       "    </tr>\n",
       "    <tr>\n",
       "      <th>Tipologia Evento</th>\n",
       "      <th></th>\n",
       "      <th></th>\n",
       "    </tr>\n",
       "  </thead>\n",
       "  <tbody>\n",
       "    <tr>\n",
       "      <th>Allarme string-box</th>\n",
       "      <td>128057</td>\n",
       "      <td>89.21</td>\n",
       "    </tr>\n",
       "    <tr>\n",
       "      <th>Bassa performance stringhe</th>\n",
       "      <td>6970</td>\n",
       "      <td>4.86</td>\n",
       "    </tr>\n",
       "    <tr>\n",
       "      <th>String-box con produzione anomala</th>\n",
       "      <td>6503</td>\n",
       "      <td>4.53</td>\n",
       "    </tr>\n",
       "    <tr>\n",
       "      <th>Bassa power ratio inverter</th>\n",
       "      <td>1482</td>\n",
       "      <td>1.03</td>\n",
       "    </tr>\n",
       "    <tr>\n",
       "      <th>Allarme inverter</th>\n",
       "      <td>319</td>\n",
       "      <td>0.22</td>\n",
       "    </tr>\n",
       "    <tr>\n",
       "      <th>Ritardo comunicazione dispositivo</th>\n",
       "      <td>153</td>\n",
       "      <td>0.11</td>\n",
       "    </tr>\n",
       "    <tr>\n",
       "      <th>Inverter con produzione a 0</th>\n",
       "      <td>61</td>\n",
       "      <td>0.04</td>\n",
       "    </tr>\n",
       "  </tbody>\n",
       "</table>\n",
       "</div>"
      ],
      "text/plain": [
       "                                   Frequenza  Total faults (%)\n",
       "Tipologia Evento                                              \n",
       "Allarme string-box                    128057             89.21\n",
       "Bassa performance stringhe              6970              4.86\n",
       "String-box con produzione anomala       6503              4.53\n",
       "Bassa power ratio inverter              1482              1.03\n",
       "Allarme inverter                         319              0.22\n",
       "Ritardo comunicazione dispositivo        153              0.11\n",
       "Inverter con produzione a 0               61              0.04"
      ]
     },
     "metadata": {},
     "output_type": "display_data"
    },
    {
     "data": {
      "text/html": [
       "<div>\n",
       "<style scoped>\n",
       "    .dataframe tbody tr th:only-of-type {\n",
       "        vertical-align: middle;\n",
       "    }\n",
       "\n",
       "    .dataframe tbody tr th {\n",
       "        vertical-align: top;\n",
       "    }\n",
       "\n",
       "    .dataframe thead th {\n",
       "        text-align: right;\n",
       "    }\n",
       "</style>\n",
       "<table border=\"1\" class=\"dataframe\">\n",
       "  <thead>\n",
       "    <tr style=\"text-align: right;\">\n",
       "      <th></th>\n",
       "      <th></th>\n",
       "      <th></th>\n",
       "      <th></th>\n",
       "      <th>Frequenza</th>\n",
       "    </tr>\n",
       "    <tr>\n",
       "      <th>Tipologia Evento</th>\n",
       "      <th>Component</th>\n",
       "      <th>Secondary error code</th>\n",
       "      <th>Messaggio</th>\n",
       "      <th></th>\n",
       "    </tr>\n",
       "  </thead>\n",
       "  <tbody>\n",
       "    <tr>\n",
       "      <th rowspan=\"5\" valign=\"top\">Allarme inverter</th>\n",
       "      <th rowspan=\"5\" valign=\"top\">INV1 U090227 250kWp</th>\n",
       "      <th rowspan=\"2\" valign=\"top\">0x200AD400</th>\n",
       "      <th>[0x20000] Desaturazione IGBT inverter</th>\n",
       "      <td>2</td>\n",
       "    </tr>\n",
       "    <tr>\n",
       "      <th>[0x80000] Inverter fault</th>\n",
       "      <td>2</td>\n",
       "    </tr>\n",
       "    <tr>\n",
       "      <th>0x2101D148</th>\n",
       "      <th>[0x10000] Limitazione potenza AC per sovratemperatura</th>\n",
       "      <td>3</td>\n",
       "    </tr>\n",
       "    <tr>\n",
       "      <th>0x3001D248</th>\n",
       "      <th>[0x10000] Limitazione potenza AC per sovratemperatura</th>\n",
       "      <td>1</td>\n",
       "    </tr>\n",
       "    <tr>\n",
       "      <th>0x3020D240</th>\n",
       "      <th>[0x200000] Tensione rete fuori dai limiti</th>\n",
       "      <td>20</td>\n",
       "    </tr>\n",
       "    <tr>\n",
       "      <th>...</th>\n",
       "      <th>...</th>\n",
       "      <th>...</th>\n",
       "      <th>...</th>\n",
       "      <td>...</td>\n",
       "    </tr>\n",
       "    <tr>\n",
       "      <th rowspan=\"5\" valign=\"top\">Allarme string-box</th>\n",
       "      <th rowspan=\"5\" valign=\"top\">CSP4.6 V180543 s9</th>\n",
       "      <th>0x16DB</th>\n",
       "      <th>[3] Corrente di stringa fuori range</th>\n",
       "      <td>11</td>\n",
       "    </tr>\n",
       "    <tr>\n",
       "      <th>0x365B</th>\n",
       "      <th>[3] Corrente di stringa fuori range</th>\n",
       "      <td>1</td>\n",
       "    </tr>\n",
       "    <tr>\n",
       "      <th>0x36C9</th>\n",
       "      <th>[3] Corrente di stringa fuori range</th>\n",
       "      <td>7</td>\n",
       "    </tr>\n",
       "    <tr>\n",
       "      <th>0x36CB</th>\n",
       "      <th>[3] Corrente di stringa fuori range</th>\n",
       "      <td>1</td>\n",
       "    </tr>\n",
       "    <tr>\n",
       "      <th>0x36DB</th>\n",
       "      <th>[3] Corrente di stringa fuori range</th>\n",
       "      <td>41</td>\n",
       "    </tr>\n",
       "  </tbody>\n",
       "</table>\n",
       "<p>1820 rows × 1 columns</p>\n",
       "</div>"
      ],
      "text/plain": [
       "                                                                                                                Frequenza\n",
       "Tipologia Evento   Component           Secondary error code Messaggio                                                    \n",
       "Allarme inverter   INV1 U090227 250kWp 0x200AD400            [0x20000] Desaturazione IGBT inverter                      2\n",
       "                                                             [0x80000] Inverter fault                                   2\n",
       "                                       0x2101D148            [0x10000] Limitazione potenza AC per sovratemp...          3\n",
       "                                       0x3001D248            [0x10000] Limitazione potenza AC per sovratemp...          1\n",
       "                                       0x3020D240            [0x200000] Tensione rete fuori dai limiti                 20\n",
       "...                                                                                                                   ...\n",
       "Allarme string-box CSP4.6 V180543 s9   0x16DB                [3] Corrente di stringa fuori range                       11\n",
       "                                       0x365B                [3] Corrente di stringa fuori range                        1\n",
       "                                       0x36C9                [3] Corrente di stringa fuori range                        7\n",
       "                                       0x36CB                [3] Corrente di stringa fuori range                        1\n",
       "                                       0x36DB                [3] Corrente di stringa fuori range                       41\n",
       "\n",
       "[1820 rows x 1 columns]"
      ]
     },
     "metadata": {},
     "output_type": "display_data"
    },
    {
     "data": {
      "text/html": [
       "<div>\n",
       "<style scoped>\n",
       "    .dataframe tbody tr th:only-of-type {\n",
       "        vertical-align: middle;\n",
       "    }\n",
       "\n",
       "    .dataframe tbody tr th {\n",
       "        vertical-align: top;\n",
       "    }\n",
       "\n",
       "    .dataframe thead th {\n",
       "        text-align: right;\n",
       "    }\n",
       "</style>\n",
       "<table border=\"1\" class=\"dataframe\">\n",
       "  <thead>\n",
       "    <tr style=\"text-align: right;\">\n",
       "      <th></th>\n",
       "      <th></th>\n",
       "      <th>Frequenza</th>\n",
       "    </tr>\n",
       "    <tr>\n",
       "      <th>Tipologia Evento</th>\n",
       "      <th>Messaggio</th>\n",
       "      <th></th>\n",
       "    </tr>\n",
       "  </thead>\n",
       "  <tbody>\n",
       "    <tr>\n",
       "      <th rowspan=\"10\" valign=\"top\">Allarme inverter</th>\n",
       "      <th>Tensione rete fuori dai limiti</th>\n",
       "      <td>158</td>\n",
       "    </tr>\n",
       "    <tr>\n",
       "      <th>Limitazione potenza AC per sovratemperatura</th>\n",
       "      <td>104</td>\n",
       "    </tr>\n",
       "    <tr>\n",
       "      <th>Inverter fault</th>\n",
       "      <td>26</td>\n",
       "    </tr>\n",
       "    <tr>\n",
       "      <th>Sovratemperatura interno macchina</th>\n",
       "      <td>19</td>\n",
       "    </tr>\n",
       "    <tr>\n",
       "      <th>Sovracorrente inverter</th>\n",
       "      <td>4</td>\n",
       "    </tr>\n",
       "    <tr>\n",
       "      <th>Desaturazione IGBT inverter</th>\n",
       "      <td>3</td>\n",
       "    </tr>\n",
       "    <tr>\n",
       "      <th>Intervento protezione esterna</th>\n",
       "      <td>2</td>\n",
       "    </tr>\n",
       "    <tr>\n",
       "      <th>Desaturazione IGBT DC/DC inverter</th>\n",
       "      <td>1</td>\n",
       "    </tr>\n",
       "    <tr>\n",
       "      <th>Emergency power OFF</th>\n",
       "      <td>1</td>\n",
       "    </tr>\n",
       "    <tr>\n",
       "      <th>Sovratensione DC ingresso convertitore</th>\n",
       "      <td>1</td>\n",
       "    </tr>\n",
       "    <tr>\n",
       "      <th rowspan=\"4\" valign=\"top\">Allarme string-box</th>\n",
       "      <th>Corrente di stringa fuori range</th>\n",
       "      <td>126053</td>\n",
       "    </tr>\n",
       "    <tr>\n",
       "      <th>Allarme fusibile su polo negativo</th>\n",
       "      <td>1089</td>\n",
       "    </tr>\n",
       "    <tr>\n",
       "      <th>Isolamento</th>\n",
       "      <td>698</td>\n",
       "    </tr>\n",
       "    <tr>\n",
       "      <th>Allarme fusibile su polo positivo</th>\n",
       "      <td>217</td>\n",
       "    </tr>\n",
       "    <tr>\n",
       "      <th>Bassa performance stringhe</th>\n",
       "      <th>Bassa performance stringhe</th>\n",
       "      <td>6970</td>\n",
       "    </tr>\n",
       "    <tr>\n",
       "      <th>Bassa power ratio inverter</th>\n",
       "      <th>Bassa power ratio inverter</th>\n",
       "      <td>1482</td>\n",
       "    </tr>\n",
       "    <tr>\n",
       "      <th>Inverter con produzione a 0</th>\n",
       "      <th>Inverter con produzione a 0</th>\n",
       "      <td>61</td>\n",
       "    </tr>\n",
       "    <tr>\n",
       "      <th>Ritardo comunicazione dispositivo</th>\n",
       "      <th>Ritardo comunicazione dispositivo</th>\n",
       "      <td>153</td>\n",
       "    </tr>\n",
       "    <tr>\n",
       "      <th>String-box con produzione anomala</th>\n",
       "      <th>String-box con produzione anomala</th>\n",
       "      <td>6503</td>\n",
       "    </tr>\n",
       "  </tbody>\n",
       "</table>\n",
       "</div>"
      ],
      "text/plain": [
       "                                                                               Frequenza\n",
       "Tipologia Evento                  Messaggio                                             \n",
       "Allarme inverter                  Tensione rete fuori dai limiti                     158\n",
       "                                  Limitazione potenza AC per sovratemperatura        104\n",
       "                                  Inverter fault                                      26\n",
       "                                  Sovratemperatura interno macchina                   19\n",
       "                                  Sovracorrente inverter                               4\n",
       "                                  Desaturazione IGBT inverter                          3\n",
       "                                  Intervento protezione esterna                        2\n",
       "                                  Desaturazione IGBT DC/DC inverter                    1\n",
       "                                  Emergency power OFF                                  1\n",
       "                                  Sovratensione DC ingresso convertitore               1\n",
       "Allarme string-box                Corrente di stringa fuori range                 126053\n",
       "                                  Allarme fusibile su polo negativo                 1089\n",
       "                                  Isolamento                                         698\n",
       "                                  Allarme fusibile su polo positivo                  217\n",
       "Bassa performance stringhe        Bassa performance stringhe                        6970\n",
       "Bassa power ratio inverter        Bassa power ratio inverter                        1482\n",
       "Inverter con produzione a 0       Inverter con produzione a 0                         61\n",
       "Ritardo comunicazione dispositivo Ritardo comunicazione dispositivo                  153\n",
       "String-box con produzione anomala String-box con produzione anomala                 6503"
      ]
     },
     "metadata": {},
     "output_type": "display_data"
    }
   ],
   "source": [
    "freq_faults, freq_type_faults, first_ts = compute_frequencies(full_fault_data)\n",
    "freq_faults_SecondErr, *_ = compute_frequencies(full_fault_data, splitSecondaryError = True)\n",
    "\n",
    "display(freq_type_faults)\n",
    "display(freq_faults_SecondErr)\n",
    "display(freq_faults)"
   ]
  },
  {
   "cell_type": "code",
   "execution_count": 41,
   "metadata": {
    "collapsed": false
   },
   "outputs": [
    {
     "name": "stdout",
     "output_type": "stream",
     "text": [
      "Frequencies have been saved into './data/SOLETO 1/SOLETO 1/Fault analyses'\n"
     ]
    }
   ],
   "source": [
    "# TASK: Save frequencies\n",
    "save_folder_name = \"Fault analyses\"\n",
    "save_folder_path = path.join(folder_path, save_folder_name)\n",
    "\n",
    "# 0: Create the folders\n",
    "if not path.exists(save_folder_path):\n",
    "    makedirs(save_folder_path)\n",
    "    print(\"A new saving folder has been created\")\n",
    "    \n",
    "# Save as excel\n",
    "# Writer\n",
    "file_name = system_name + \" - Fault_frequencies_NEW.xlsx\"\n",
    "writer = pd.ExcelWriter(path.join(save_folder_path, file_name))\n",
    "\n",
    "# Sheets\n",
    "freq_faults.to_excel(writer,sheet_name = \"Faults\", freeze_panes = (1, 0))\n",
    "freq_faults_SecondErr.to_excel(writer, sheet_name = \"Raw fault data\", freeze_panes = (1, 0))\n",
    "freq_type_faults.to_excel(writer, sheet_name = \"Types\", freeze_panes = (1, 0))\n",
    "first_ts.to_excel(writer, sheet_name = 'Info', index = False)\n",
    "\n",
    "writer.save()\n",
    "print(\"Frequencies have been saved into '{0}'\".format(save_folder_path))"
   ]
  },
  {
   "cell_type": "code",
   "execution_count": null,
   "metadata": {
    "collapsed": true
   },
   "outputs": [],
   "source": [
    "#   --------------------------------------------------------------------------\n",
    "#  ------------- ABOVE CODE: Compute frequencies (as Excel files) --------------\n",
    "# -------------------------------------------------------------------------------\n",
    "#  ------------- BELOW CODE: Compute distributions (as Graphs)------------------\n",
    "#   --------------------------------------------------------------------------"
   ]
  },
  {
   "cell_type": "code",
   "execution_count": null,
   "metadata": {
    "collapsed": false
   },
   "outputs": [],
   "source": [
    "import numpy as np\n",
    "import matplotlib.pyplot as plt\n",
    "import pandas as pd\n",
    "from matplotlib.dates import MonthLocator, WeekdayLocator, DateFormatter\n",
    "from matplotlib.ticker import MaxNLocator\n",
    "from pandas.plotting import register_matplotlib_converters\n",
    "from os import path, makedirs"
   ]
  },
  {
   "cell_type": "code",
   "execution_count": null,
   "metadata": {
    "collapsed": false
   },
   "outputs": [],
   "source": [
    "# Folder path\n",
    "%cd /mnt/data/vieri/projects/SAMPLE/"
   ]
  },
  {
   "cell_type": "code",
   "execution_count": null,
   "metadata": {
    "collapsed": false
   },
   "outputs": [],
   "source": [
    "# ----------- TASK 2 -------------\n",
    "system_name = \"Emi\"\n",
    "folder_path = path.join(\"./data\", system_name.upper(), system_name.upper())\n",
    "fault_file_name = system_name + \" - Storico Allarme.xlsx\"\n",
    "\n",
    "# Load sheets\n",
    "fault_data = pd.read_excel(path.join(folder_path, fault_file_name), header = [1], sheet_name = None)\n",
    "sheet_names = list(fault_data.keys())\n",
    "\n",
    "# Merge sheets\n",
    "components_to_merge = [fault_data[name] for name in sheet_names]\n",
    "full_fault_data = pd.concat(components_to_merge)\n",
    "\n",
    "display(full_fault_data.info())"
   ]
  },
  {
   "cell_type": "code",
   "execution_count": null,
   "metadata": {
    "collapsed": false
   },
   "outputs": [],
   "source": [
    "# Extract meaningful information\n",
    "FullErrorMessage = full_fault_data[\"Messaggio\"].str.split(\":\").str[1]\n",
    "SecondaryErrorCode = FullErrorMessage.str.split(\"(\").str[1].str[:-1]\n",
    "full_fault_data[\"Component\"] = full_fault_data[\"Messaggio\"].str.split(\":\").str[0]\n",
    "full_fault_data[\"Secondary error code\"] = SecondaryErrorCode\n",
    "full_fault_data[\"Messaggio\"] = FullErrorMessage.str.split(\"(\").str[0]\n",
    "full_fault_data[\"Day\"] = full_fault_data[\"Ricevuto il\"].dt.date # OR \"Rientrato il\"\n",
    "\n",
    "granularity = \"Messaggio\"\n",
    "#granularity = \"Tipologia Evento\"\n",
    "\n",
    "# Keep meaningful columns\n",
    "full_fault_data = full_fault_data[[\"Component\", granularity, \"Day\", \"Ricevuto il\"]] #\"Secondary error code\"\n",
    "\n",
    "# Group by\n",
    "full_fault_data = full_fault_data.groupby([\"Component\", granularity, \"Day\"]).count()\n",
    "full_fault_data.rename(columns = {\"Ricevuto il\": \"Frequenza\"}, inplace=True)\n",
    "\n",
    "# Order\n",
    "full_fault_data.sort_values(by=[\"Component\", granularity, \"Day\", \"Frequenza\"], \n",
    "                            ascending=[False, True, True, False], inplace=True)\n",
    "#display(full_fault_data)"
   ]
  },
  {
   "cell_type": "code",
   "execution_count": null,
   "metadata": {
    "collapsed": false
   },
   "outputs": [],
   "source": [
    "# TASK: Create subfolders for saving graphs\n",
    "main_saving_folder_name = \"Fault analyses\"\n",
    "sub_saving_folder_name = \"Fault distributions\"\n",
    "saving_folder_path = path.join(folder_path, main_saving_folder_name, sub_saving_folder_name)\n",
    "\n",
    "# 0: Create the folders\n",
    "if not path.exists(saving_folder_path):\n",
    "    makedirs(saving_folder_path)\n",
    "    print(\"A new saving folder has been created: \", path.join(main_saving_folder_name, sub_saving_folder_name))"
   ]
  },
  {
   "cell_type": "code",
   "execution_count": null,
   "metadata": {
    "collapsed": false
   },
   "outputs": [],
   "source": [
    "def generate_component_fault_distribution(component_name):\n",
    "    # A: Select and get data from a specific component\n",
    "    componentNameIndex = full_fault_data.index.get_level_values('Component').str.contains(component_name)\n",
    "    selected_component_data = full_fault_data.loc[componentNameIndex,:]\n",
    "    componentFullName = selected_component_data.index.get_level_values(\"Component\")[0]\n",
    "\n",
    "    # B0: Get fault types from the selected component\n",
    "    faultTypes = selected_component_data.sort_values(by=\"Frequenza\", ascending=False).index.unique(granularity)\n",
    "    \n",
    "    # B0: Get a dense period --> Get all the dates covered by all the faults\n",
    "    days = selected_component_data.index.get_level_values('Day')\n",
    "    dateMin = min(days)\n",
    "    dateMax = max(days)\n",
    "    maxFreq =  max(selected_component_data[\"Frequenza\"].values)\n",
    "    filled_dates = pd.date_range(dateMin, dateMax, freq=\"D\").date\n",
    "\n",
    "    # B1: Create main plot\n",
    "    fig, axes = plt.subplots(nrows = len(faultTypes), figsize=(20, 5 * len(faultTypes)))\n",
    "    \n",
    "    # Fix error in case there is only one fault type (i.e., only one graph/raw)\n",
    "    if type(axes) is not np.ndarray:\n",
    "        axes = np.array([axes])\n",
    "    \n",
    "    fig.suptitle(\"[{0}]: \".format(system_name.upper()) + componentFullName,  \n",
    "                 fontsize=50, color='r')\n",
    "\n",
    "    # B2: Create subplots for each faul type\n",
    "    for idk, f_type in enumerate(faultTypes):\n",
    "\n",
    "        # Get frequencies of the fault type\n",
    "        fault_indexes = selected_component_data.index.get_level_values(granularity) == f_type\n",
    "        faults = selected_component_data.loc[fault_indexes, :]\n",
    "\n",
    "        # Create the data for the axes (X: Dates | Y: Freq)\n",
    "        dates = list(faults.index.get_level_values('Day'))\n",
    "        freq = faults[\"Frequenza\"].values\n",
    "\n",
    "        # Generate filled frequencies (i.e., zero values for empty dates)\n",
    "        filled_frequencies = np.zeros(len(filled_dates), dtype=int) \n",
    "        commonDays_idks = np.argwhere(np.in1d(filled_dates, dates))\n",
    "\n",
    "        for idk_cd, comDay in enumerate(commonDays_idks):\n",
    "            filled_frequencies[comDay] = freq[idk_cd]\n",
    "\n",
    "        idk_worst_day =  np.argmax(filled_frequencies) # np.argwhere(filled_frequencies == np.amax(filled_frequencies))[-1][0]\n",
    "        worst_day = filled_dates[idk_worst_day]\n",
    "        worst_day_freq = filled_frequencies[idk_worst_day]\n",
    "        \n",
    "        # SUBPLOTS (for each type): FAUL TYPE\n",
    "        axes[idk].grid(linestyle = '-', linewidth = 0.8, alpha = 0.3)\n",
    "        axes[idk].bar(x=filled_dates, height=filled_frequencies, edgecolor=\"r\")\n",
    "\n",
    "        # Highlight the worst day\n",
    "        axes[idk].axhline(y = worst_day_freq, color='r', linestyle='-.', alpha = 0.3)\n",
    "        axes[idk].text(x = worst_day - pd.Timedelta(weeks = 11), y = worst_day_freq * 1.05, \n",
    "                       fontsize = \"xx-large\", ha= \"left\", color = \"r\",\n",
    "                       s = \"Max faults: {0} [{1}]\".format(worst_day_freq, worst_day))\n",
    "\n",
    "        # Graphical settings\n",
    "        axes[idk].set_title('FAULT: \"{0}\"'.format(f_type), fontsize=24, fontweight=\"semibold\")\n",
    "        axes[idk].set_ylabel('Daily faults', fontsize=20)\n",
    "\n",
    "        # Tikers \n",
    "        axes[idk].tick_params(axis='x', which='minor', length=5)\n",
    "        axes[idk].tick_params(axis='x', which='major', labelsize=14, labelrotation = 20, \n",
    "                              width=1.5, length=20)\n",
    "        axes[idk].tick_params(axis='y', which='major', labelsize=16, \n",
    "                              width=2, length=5, direction = \"in\", \n",
    "                              grid_alpha= 0.5, grid_linestyle = \"-.\")\n",
    "\n",
    "        axes[idk].xaxis.set_minor_locator(WeekdayLocator(interval=2))\n",
    "        axes[idk].xaxis.set_major_locator(MonthLocator(interval=2))\n",
    "        axes[idk].xaxis.set_major_formatter(DateFormatter(\"%Y-%m\"))\n",
    "\n",
    "        axes[idk].yaxis.set_major_locator(MaxNLocator(integer=True))\n",
    "\n",
    "        # Set y limits (i.e., frequencies)\n",
    "        if max(freq)<= maxFreq * 0.3:     \n",
    "            axes[idk].set_ylim([0, max(freq) * 1.7])\n",
    "        else:\n",
    "            axes[idk].set_ylim([0, maxFreq * 1.2])\n",
    "            \n",
    "    try:\n",
    "        fig.tight_layout(rect=[0, 0.03, 1, 0.96], pad = 2.3)\n",
    "    except:\n",
    "        print(\"Error during set 'tight_layout'\")\n",
    "    \n",
    "    # Saving the graphs as PNG\n",
    "    splitted_component_name = component_name.split(\" \")\n",
    "    if \"INV\" in splitted_component_name[0].upper() or len(splitted_component_name) <= 2:\n",
    "        simplifed_comp_name = splitted_component_name[0]\n",
    "    else: # COMPONENT: CSP\n",
    "        simplifed_comp_name = splitted_component_name[0] + \"_\" + splitted_component_name[2]\n",
    "    \n",
    "    fig.savefig(path.join(saving_folder_path, '{0}_faultDist.png'.format(simplifed_comp_name)))\n",
    "    print(\"The fault distribution graphs (Component: {0}) have been saved \".format(simplifed_comp_name))\n",
    "\n",
    "register_matplotlib_converters()\n",
    "\n",
    "# Generate fault distribution for each component\n",
    "plt.close(\"all\")\n",
    "components = list(full_fault_data.index.unique(\"Component\"))\n",
    "\n",
    "print(\"Genereting fault distribution graphs for {0} components...\".format(len(components)))\n",
    "for name in components:\n",
    "    generate_component_fault_distribution(name)\n",
    "print(\"\\nFinished. {0} files have been generated\".format(len(components)))"
   ]
  },
  {
   "cell_type": "code",
   "execution_count": null,
   "metadata": {
    "collapsed": false
   },
   "outputs": [],
   "source": [
    "# Visualize a fault distribution as an example\n",
    "component_to_visualize = \"INV1\"\n",
    "\n",
    "# Discard all of unrelated graphs and keep only the graph of the selected compoenent\n",
    "for fig_idk in plt.get_fignums():\n",
    "    plotted_component = plt.figure(fig_idk)._suptitle.get_text()\n",
    "    simplified_component_name = plotted_component.split(\" \")[1]\n",
    "    \n",
    "    if simplified_component_name != component_to_visualize:\n",
    "        plt.close(fig_idk)\n",
    "    else:\n",
    "        fig_to_vis = plt.figure(fig_idk)\n",
    "        \n",
    "if len(plt.get_fignums()) != 0:\n",
    "    print(\"Rendering fault distribution graphs of the component '{0}'\".format(component_to_visualize))\n",
    "    plt.show()\n",
    "else:\n",
    "    print(\"The component '{0}' has not been found in the memory\".format(component_to_visualize))"
   ]
  }
 ],
 "metadata": {
  "anaconda-cloud": {},
  "kernelspec": {
   "display_name": "Python (sample2)",
   "language": "python",
   "name": "sample"
  },
  "language_info": {
   "codemirror_mode": {
    "name": "ipython",
    "version": 3
   },
   "file_extension": ".py",
   "mimetype": "text/x-python",
   "name": "python",
   "nbconvert_exporter": "python",
   "pygments_lexer": "ipython3",
   "version": "3.8.5"
  }
 },
 "nbformat": 4,
 "nbformat_minor": 1
}
