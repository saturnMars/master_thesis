{
 "cells": [
  {
   "cell_type": "code",
   "execution_count": 94,
   "metadata": {
    "collapsed": false
   },
   "outputs": [],
   "source": [
    "from _library.utils import SYSTEM_NAMES, SUBFOLDERS, load_datasets"
   ]
  },
  {
   "cell_type": "code",
   "execution_count": 95,
   "metadata": {
    "collapsed": true
   },
   "outputs": [],
   "source": [
    "import matplotlib.pyplot as plt"
   ]
  },
  {
   "cell_type": "code",
   "execution_count": 96,
   "metadata": {
    "collapsed": true
   },
   "outputs": [],
   "source": [
    "import pandas as pd\n",
    "import numpy as np"
   ]
  },
  {
   "cell_type": "markdown",
   "metadata": {},
   "source": [
    "# try on ACEA old"
   ]
  },
  {
   "cell_type": "markdown",
   "metadata": {},
   "source": [
    "# Select the PV System"
   ]
  },
  {
   "cell_type": "code",
   "execution_count": 97,
   "metadata": {
    "collapsed": false
   },
   "outputs": [
    {
     "name": "stdout",
     "output_type": "stream",
     "text": [
      "['Binetto 1', 'Binetto 2', 'Soleto 1', 'Soleto 2', 'Galatina']\n"
     ]
    }
   ],
   "source": [
    "print(SYSTEM_NAMES)\n",
    "# --- 0 ---------- 1 ---------- 2 ----- 3 ------ 4 --------- 5 -------- 6 --------- 7 ----"
   ]
  },
  {
   "cell_type": "code",
   "execution_count": 98,
   "metadata": {
    "collapsed": false
   },
   "outputs": [
    {
     "name": "stdout",
     "output_type": "stream",
     "text": [
      "PV SYSTEM --> Soleto 1\n"
     ]
    }
   ],
   "source": [
    "system_name = SYSTEM_NAMES[2]\n",
    "print(f\"PV SYSTEM --> {system_name}\")"
   ]
  },
  {
   "cell_type": "markdown",
   "metadata": {},
   "source": [
    "# Loading the dataset"
   ]
  },
  {
   "cell_type": "code",
   "execution_count": 61,
   "metadata": {
    "collapsed": false
   },
   "outputs": [
    {
     "name": "stdout",
     "output_type": "stream",
     "text": [
      "-------------------------------------------------------------------------------- \n",
      "\t\t\t\tPV SYSTEM --> SOLETO 1 \n",
      "--------------------------------------------------------------------------------\n",
      "\n",
      "Loading inverter data...\n",
      "SOLETO 1: OK, component data loaded (4) --> INV1, INV2, INV3, INV4\n",
      "-------------------------------------------------------------------------------- \n",
      "FINISHED!: All datasets have been loaded. (SYS: 4 - IRR FILE: 0)\n",
      "--------------------------------------------------------------------------------\n",
      "-------------------------------------------------------------------------------- \n",
      "EXAMPLE --> Soleto 1: INV1 (FROM '2018-08-08' TO '2021-06-30': 1057 days).\n",
      "--------------------------------------------------------------------------------\n",
      "<class 'pandas.core.frame.DataFrame'>\n",
      "RangeIndex: 15586 entries, 0 to 15585\n",
      "Data columns (total 20 columns):\n",
      " #   Column                      Non-Null Count  Dtype         \n",
      "---  ------                      --------------  -----         \n",
      " 0   Date/Time                   15586 non-null  datetime64[ns]\n",
      " 1   Iac R (A)                   15586 non-null  int64         \n",
      " 2   Iac S (A)                   15586 non-null  int64         \n",
      " 3   Iac T (A)                   15586 non-null  int64         \n",
      " 4   Vac R (V)                   15586 non-null  int64         \n",
      " 5   Vac S (V)                   15586 non-null  int64         \n",
      " 6   Vac T (V)                   15586 non-null  int64         \n",
      " 7   Pac R (kW)                  15586 non-null  int64         \n",
      " 8   E. totale (kWh)             15586 non-null  float64       \n",
      " 9   Cc 1 (A)                    15586 non-null  int64         \n",
      " 10  Vcc 1 (V)                   15586 non-null  int64         \n",
      " 11  Allarme                     15586 non-null  string        \n",
      " 12  Inverter temp. (°C)         15586 non-null  int64         \n",
      " 13  Irradiance (W/mq)           15586 non-null  int64         \n",
      " 14  Amb. Temp (°C)              15586 non-null  float64       \n",
      " 15  Humidity (%)                15087 non-null  float64       \n",
      " 16  Atmospheric Pressure (hPa)  15585 non-null  float64       \n",
      " 17  Rainfall (mm)               15586 non-null  float64       \n",
      " 18  Wind speed (m/s)            6941 non-null   float64       \n",
      " 19  Wind direction (°)          6958 non-null   float64       \n",
      "dtypes: datetime64[ns](1), float64(7), int64(11), string(1)\n",
      "memory usage: 2.4 MB\n"
     ]
    }
   ],
   "source": [
    "# Loading the datasets\n",
    "system_path, inv_data, inv_names, *_ = load_datasets(system_name, subfolder = \"1-hour averaged sampling\")"
   ]
  },
  {
   "cell_type": "markdown",
   "metadata": {},
   "source": [
    "# Various changes"
   ]
  },
  {
   "cell_type": "code",
   "execution_count": 62,
   "metadata": {
    "collapsed": false
   },
   "outputs": [
    {
     "name": "stdout",
     "output_type": "stream",
     "text": [
      "\n",
      "INV1: Added the computed column 'DC Power (kW)' in the data (i.e., P = V *A ).\n",
      "INV1: Delated 5 colums: Allarme, Atmospheric Pressure (hPa), Rainfall (mm), Wind speed (m/s), Wind direction (°)\n",
      "\n",
      "INV2: Added the computed column 'DC Power (kW)' in the data (i.e., P = V *A ).\n",
      "INV2: Delated 5 colums: Allarme, Atmospheric Pressure (hPa), Rainfall (mm), Wind speed (m/s), Wind direction (°)\n",
      "\n",
      "INV3: Added the computed column 'DC Power (kW)' in the data (i.e., P = V *A ).\n",
      "INV3: Delated 5 colums: Allarme, Atmospheric Pressure (hPa), Rainfall (mm), Wind speed (m/s), Wind direction (°)\n",
      "\n",
      "INV4: Added the computed column 'DC Power (kW)' in the data (i.e., P = V *A ).\n",
      "INV4: Delated 5 colums: Allarme, Atmospheric Pressure (hPa), Rainfall (mm), Wind speed (m/s), Wind direction (°)\n"
     ]
    }
   ],
   "source": [
    "for inv_name in inv_names:\n",
    "    df = inv_data[inv_name]\n",
    "    \n",
    "    # Compute the power --> P = V * A --> Power = Voltage * Ampere\n",
    "    power = df[\"Vcc 1 (V)\"] * df[\"Cc 1 (A)\"]\n",
    "    \n",
    "    # Transform the WATT (W) into KILOWATT (kW)\n",
    "    kilowatt = power / 1000\n",
    "    df.insert(11, \"DC Power (kW)\", kilowatt)\n",
    "    print(f\"\\n{inv_name}: Added the computed column 'DC Power (kW)' in the data (i.e., P = V *A ).\")\n",
    "    \n",
    "    # Columns to drops \n",
    "    columns_to_drop = [\n",
    "        \"Allarme\",\n",
    "#        \"Humidity (%)\",\n",
    "        \"Atmospheric Pressure (hPa)\",\n",
    "        \"Rainfall (mm)\",\n",
    "        \"Wind speed (m/s)\",\n",
    "        \"Wind direction (°)\"\n",
    "    ] \n",
    "    inv_data[inv_name] = df.drop(columns = columns_to_drop)\n",
    "    print(f\"{inv_name}: Delated {len(columns_to_drop)} colums:\", \", \".join(columns_to_drop))"
   ]
  },
  {
   "cell_type": "code",
   "execution_count": 63,
   "metadata": {
    "collapsed": false
   },
   "outputs": [],
   "source": [
    "for inv_name in inv_names:\n",
    "    df = inv_data[inv_name]\n",
    "\n",
    "    # Set the indexes\n",
    "    df.index = df[\"Date/Time\"]\n",
    "    df.drop(columns=\"Date/Time\", inplace=True)\n",
    "\n",
    "    # Consider all the columns apart from the one concerning the AC/DC voltages\n",
    "#    columns = df.columns.tolist()\n",
    "#    columns_to_not_cosider = [\"Vac R (V)\", \"Vac S (V)\", \"Vac T (V)\", \"Vcc 1 (V)\"]\n",
    "#    [columns.remove(column) for column in columns_to_not_cosider]\n",
    "    \n",
    "#    inv_data[inv_name] = df[columns] "
   ]
  },
  {
   "cell_type": "code",
   "execution_count": 64,
   "metadata": {
    "collapsed": false
   },
   "outputs": [
    {
     "name": "stdout",
     "output_type": "stream",
     "text": [
      "<class 'pandas.core.frame.DataFrame'>\n",
      "DatetimeIndex: 15586 entries, 2018-08-08 11:00:00 to 2021-06-30 22:00:00\n",
      "Data columns (total 15 columns):\n",
      " #   Column               Non-Null Count  Dtype  \n",
      "---  ------               --------------  -----  \n",
      " 0   Iac R (A)            15586 non-null  int64  \n",
      " 1   Iac S (A)            15586 non-null  int64  \n",
      " 2   Iac T (A)            15586 non-null  int64  \n",
      " 3   Vac R (V)            15586 non-null  int64  \n",
      " 4   Vac S (V)            15586 non-null  int64  \n",
      " 5   Vac T (V)            15586 non-null  int64  \n",
      " 6   Pac R (kW)           15586 non-null  int64  \n",
      " 7   E. totale (kWh)      15586 non-null  float64\n",
      " 8   Cc 1 (A)             15586 non-null  int64  \n",
      " 9   Vcc 1 (V)            15586 non-null  int64  \n",
      " 10  DC Power (kW)        15586 non-null  float64\n",
      " 11  Inverter temp. (°C)  15586 non-null  int64  \n",
      " 12  Irradiance (W/mq)    15586 non-null  int64  \n",
      " 13  Amb. Temp (°C)       15586 non-null  float64\n",
      " 14  Humidity (%)         15087 non-null  float64\n",
      "dtypes: float64(4), int64(11)\n",
      "memory usage: 1.9 MB\n"
     ]
    },
    {
     "data": {
      "text/html": [
       "<div>\n",
       "<style scoped>\n",
       "    .dataframe tbody tr th:only-of-type {\n",
       "        vertical-align: middle;\n",
       "    }\n",
       "\n",
       "    .dataframe tbody tr th {\n",
       "        vertical-align: top;\n",
       "    }\n",
       "\n",
       "    .dataframe thead th {\n",
       "        text-align: right;\n",
       "    }\n",
       "</style>\n",
       "<table border=\"1\" class=\"dataframe\">\n",
       "  <thead>\n",
       "    <tr style=\"text-align: right;\">\n",
       "      <th></th>\n",
       "      <th>Iac R (A)</th>\n",
       "      <th>Iac S (A)</th>\n",
       "      <th>Iac T (A)</th>\n",
       "      <th>Vac R (V)</th>\n",
       "      <th>Vac S (V)</th>\n",
       "      <th>Vac T (V)</th>\n",
       "      <th>Pac R (kW)</th>\n",
       "      <th>E. totale (kWh)</th>\n",
       "      <th>Cc 1 (A)</th>\n",
       "      <th>Vcc 1 (V)</th>\n",
       "      <th>DC Power (kW)</th>\n",
       "      <th>Inverter temp. (°C)</th>\n",
       "      <th>Irradiance (W/mq)</th>\n",
       "      <th>Amb. Temp (°C)</th>\n",
       "      <th>Humidity (%)</th>\n",
       "    </tr>\n",
       "    <tr>\n",
       "      <th>Date/Time</th>\n",
       "      <th></th>\n",
       "      <th></th>\n",
       "      <th></th>\n",
       "      <th></th>\n",
       "      <th></th>\n",
       "      <th></th>\n",
       "      <th></th>\n",
       "      <th></th>\n",
       "      <th></th>\n",
       "      <th></th>\n",
       "      <th></th>\n",
       "      <th></th>\n",
       "      <th></th>\n",
       "      <th></th>\n",
       "      <th></th>\n",
       "    </tr>\n",
       "  </thead>\n",
       "  <tbody>\n",
       "    <tr>\n",
       "      <th>2018-08-08 11:00:00</th>\n",
       "      <td>436</td>\n",
       "      <td>419</td>\n",
       "      <td>412</td>\n",
       "      <td>118</td>\n",
       "      <td>117</td>\n",
       "      <td>117</td>\n",
       "      <td>150</td>\n",
       "      <td>2.963936e+06</td>\n",
       "      <td>401</td>\n",
       "      <td>388</td>\n",
       "      <td>155.588</td>\n",
       "      <td>31</td>\n",
       "      <td>1037</td>\n",
       "      <td>35.80</td>\n",
       "      <td>23.73</td>\n",
       "    </tr>\n",
       "    <tr>\n",
       "      <th>2018-08-08 12:00:00</th>\n",
       "      <td>464</td>\n",
       "      <td>449</td>\n",
       "      <td>440</td>\n",
       "      <td>118</td>\n",
       "      <td>116</td>\n",
       "      <td>117</td>\n",
       "      <td>160</td>\n",
       "      <td>2.964033e+06</td>\n",
       "      <td>439</td>\n",
       "      <td>380</td>\n",
       "      <td>166.820</td>\n",
       "      <td>32</td>\n",
       "      <td>1056</td>\n",
       "      <td>35.72</td>\n",
       "      <td>25.46</td>\n",
       "    </tr>\n",
       "    <tr>\n",
       "      <th>2018-08-08 13:00:00</th>\n",
       "      <td>501</td>\n",
       "      <td>483</td>\n",
       "      <td>473</td>\n",
       "      <td>117</td>\n",
       "      <td>116</td>\n",
       "      <td>117</td>\n",
       "      <td>172</td>\n",
       "      <td>2.964188e+06</td>\n",
       "      <td>485</td>\n",
       "      <td>372</td>\n",
       "      <td>180.420</td>\n",
       "      <td>35</td>\n",
       "      <td>1049</td>\n",
       "      <td>36.34</td>\n",
       "      <td>26.37</td>\n",
       "    </tr>\n",
       "    <tr>\n",
       "      <th>2018-08-08 14:00:00</th>\n",
       "      <td>497</td>\n",
       "      <td>481</td>\n",
       "      <td>472</td>\n",
       "      <td>117</td>\n",
       "      <td>116</td>\n",
       "      <td>116</td>\n",
       "      <td>170</td>\n",
       "      <td>2.964383e+06</td>\n",
       "      <td>477</td>\n",
       "      <td>376</td>\n",
       "      <td>179.352</td>\n",
       "      <td>35</td>\n",
       "      <td>1050</td>\n",
       "      <td>35.34</td>\n",
       "      <td>30.41</td>\n",
       "    </tr>\n",
       "    <tr>\n",
       "      <th>2018-08-08 15:00:00</th>\n",
       "      <td>273</td>\n",
       "      <td>266</td>\n",
       "      <td>261</td>\n",
       "      <td>116</td>\n",
       "      <td>115</td>\n",
       "      <td>116</td>\n",
       "      <td>94</td>\n",
       "      <td>2.964518e+06</td>\n",
       "      <td>265</td>\n",
       "      <td>376</td>\n",
       "      <td>99.640</td>\n",
       "      <td>34</td>\n",
       "      <td>993</td>\n",
       "      <td>33.35</td>\n",
       "      <td>35.40</td>\n",
       "    </tr>\n",
       "    <tr>\n",
       "      <th>...</th>\n",
       "      <td>...</td>\n",
       "      <td>...</td>\n",
       "      <td>...</td>\n",
       "      <td>...</td>\n",
       "      <td>...</td>\n",
       "      <td>...</td>\n",
       "      <td>...</td>\n",
       "      <td>...</td>\n",
       "      <td>...</td>\n",
       "      <td>...</td>\n",
       "      <td>...</td>\n",
       "      <td>...</td>\n",
       "      <td>...</td>\n",
       "      <td>...</td>\n",
       "      <td>...</td>\n",
       "    </tr>\n",
       "    <tr>\n",
       "      <th>2021-06-30 18:00:00</th>\n",
       "      <td>127</td>\n",
       "      <td>126</td>\n",
       "      <td>123</td>\n",
       "      <td>113</td>\n",
       "      <td>113</td>\n",
       "      <td>114</td>\n",
       "      <td>43</td>\n",
       "      <td>3.907287e+06</td>\n",
       "      <td>112</td>\n",
       "      <td>404</td>\n",
       "      <td>45.248</td>\n",
       "      <td>37</td>\n",
       "      <td>219</td>\n",
       "      <td>35.00</td>\n",
       "      <td>32.63</td>\n",
       "    </tr>\n",
       "    <tr>\n",
       "      <th>2021-06-30 19:00:00</th>\n",
       "      <td>68</td>\n",
       "      <td>68</td>\n",
       "      <td>67</td>\n",
       "      <td>113</td>\n",
       "      <td>112</td>\n",
       "      <td>113</td>\n",
       "      <td>23</td>\n",
       "      <td>3.907324e+06</td>\n",
       "      <td>64</td>\n",
       "      <td>406</td>\n",
       "      <td>25.984</td>\n",
       "      <td>37</td>\n",
       "      <td>133</td>\n",
       "      <td>32.88</td>\n",
       "      <td>44.55</td>\n",
       "    </tr>\n",
       "    <tr>\n",
       "      <th>2021-06-30 20:00:00</th>\n",
       "      <td>11</td>\n",
       "      <td>10</td>\n",
       "      <td>10</td>\n",
       "      <td>112</td>\n",
       "      <td>112</td>\n",
       "      <td>112</td>\n",
       "      <td>4</td>\n",
       "      <td>3.907337e+06</td>\n",
       "      <td>11</td>\n",
       "      <td>408</td>\n",
       "      <td>4.488</td>\n",
       "      <td>37</td>\n",
       "      <td>48</td>\n",
       "      <td>29.10</td>\n",
       "      <td>73.56</td>\n",
       "    </tr>\n",
       "    <tr>\n",
       "      <th>2021-06-30 21:00:00</th>\n",
       "      <td>0</td>\n",
       "      <td>0</td>\n",
       "      <td>0</td>\n",
       "      <td>112</td>\n",
       "      <td>112</td>\n",
       "      <td>113</td>\n",
       "      <td>0</td>\n",
       "      <td>3.907338e+06</td>\n",
       "      <td>0</td>\n",
       "      <td>240</td>\n",
       "      <td>0.000</td>\n",
       "      <td>36</td>\n",
       "      <td>15</td>\n",
       "      <td>27.67</td>\n",
       "      <td>78.14</td>\n",
       "    </tr>\n",
       "    <tr>\n",
       "      <th>2021-06-30 22:00:00</th>\n",
       "      <td>0</td>\n",
       "      <td>0</td>\n",
       "      <td>0</td>\n",
       "      <td>112</td>\n",
       "      <td>112</td>\n",
       "      <td>113</td>\n",
       "      <td>0</td>\n",
       "      <td>3.907338e+06</td>\n",
       "      <td>0</td>\n",
       "      <td>20</td>\n",
       "      <td>0.000</td>\n",
       "      <td>35</td>\n",
       "      <td>14</td>\n",
       "      <td>27.03</td>\n",
       "      <td>80.77</td>\n",
       "    </tr>\n",
       "  </tbody>\n",
       "</table>\n",
       "<p>15586 rows × 15 columns</p>\n",
       "</div>"
      ],
      "text/plain": [
       "                     Iac R (A)  Iac S (A)  Iac T (A)  Vac R (V)  Vac S (V)  \\\n",
       "Date/Time                                                                    \n",
       "2018-08-08 11:00:00        436        419        412        118        117   \n",
       "2018-08-08 12:00:00        464        449        440        118        116   \n",
       "2018-08-08 13:00:00        501        483        473        117        116   \n",
       "2018-08-08 14:00:00        497        481        472        117        116   \n",
       "2018-08-08 15:00:00        273        266        261        116        115   \n",
       "...                        ...        ...        ...        ...        ...   \n",
       "2021-06-30 18:00:00        127        126        123        113        113   \n",
       "2021-06-30 19:00:00         68         68         67        113        112   \n",
       "2021-06-30 20:00:00         11         10         10        112        112   \n",
       "2021-06-30 21:00:00          0          0          0        112        112   \n",
       "2021-06-30 22:00:00          0          0          0        112        112   \n",
       "\n",
       "                     Vac T (V)  Pac R (kW)  E. totale (kWh)  Cc 1 (A)  \\\n",
       "Date/Time                                                               \n",
       "2018-08-08 11:00:00        117         150     2.963936e+06       401   \n",
       "2018-08-08 12:00:00        117         160     2.964033e+06       439   \n",
       "2018-08-08 13:00:00        117         172     2.964188e+06       485   \n",
       "2018-08-08 14:00:00        116         170     2.964383e+06       477   \n",
       "2018-08-08 15:00:00        116          94     2.964518e+06       265   \n",
       "...                        ...         ...              ...       ...   \n",
       "2021-06-30 18:00:00        114          43     3.907287e+06       112   \n",
       "2021-06-30 19:00:00        113          23     3.907324e+06        64   \n",
       "2021-06-30 20:00:00        112           4     3.907337e+06        11   \n",
       "2021-06-30 21:00:00        113           0     3.907338e+06         0   \n",
       "2021-06-30 22:00:00        113           0     3.907338e+06         0   \n",
       "\n",
       "                     Vcc 1 (V)  DC Power (kW)  Inverter temp. (°C)  \\\n",
       "Date/Time                                                            \n",
       "2018-08-08 11:00:00        388        155.588                   31   \n",
       "2018-08-08 12:00:00        380        166.820                   32   \n",
       "2018-08-08 13:00:00        372        180.420                   35   \n",
       "2018-08-08 14:00:00        376        179.352                   35   \n",
       "2018-08-08 15:00:00        376         99.640                   34   \n",
       "...                        ...            ...                  ...   \n",
       "2021-06-30 18:00:00        404         45.248                   37   \n",
       "2021-06-30 19:00:00        406         25.984                   37   \n",
       "2021-06-30 20:00:00        408          4.488                   37   \n",
       "2021-06-30 21:00:00        240          0.000                   36   \n",
       "2021-06-30 22:00:00         20          0.000                   35   \n",
       "\n",
       "                     Irradiance (W/mq)  Amb. Temp (°C)  Humidity (%)  \n",
       "Date/Time                                                             \n",
       "2018-08-08 11:00:00               1037           35.80         23.73  \n",
       "2018-08-08 12:00:00               1056           35.72         25.46  \n",
       "2018-08-08 13:00:00               1049           36.34         26.37  \n",
       "2018-08-08 14:00:00               1050           35.34         30.41  \n",
       "2018-08-08 15:00:00                993           33.35         35.40  \n",
       "...                                ...             ...           ...  \n",
       "2021-06-30 18:00:00                219           35.00         32.63  \n",
       "2021-06-30 19:00:00                133           32.88         44.55  \n",
       "2021-06-30 20:00:00                 48           29.10         73.56  \n",
       "2021-06-30 21:00:00                 15           27.67         78.14  \n",
       "2021-06-30 22:00:00                 14           27.03         80.77  \n",
       "\n",
       "[15586 rows x 15 columns]"
      ]
     },
     "metadata": {},
     "output_type": "display_data"
    }
   ],
   "source": [
    "for inv_name in inv_names[:1]:\n",
    "    df = inv_data[inv_name]\n",
    "    \n",
    "    df.info()\n",
    "    display(df)"
   ]
  },
  {
   "cell_type": "code",
   "execution_count": 65,
   "metadata": {
    "collapsed": false
   },
   "outputs": [],
   "source": [
    "df = df[['Cc 1 (A)', 'Vcc 1 (V)','Irradiance (W/mq)', 'Amb. Temp (°C)']].rename(columns ={'Irradiance (W/mq)':'Geff', 'Amb. Temp (°C)':'Tcell'})"
   ]
  },
  {
   "cell_type": "code",
   "execution_count": 66,
   "metadata": {
    "collapsed": true
   },
   "outputs": [],
   "source": [
    "#### coefficients\n",
    "alfa = 0.06 #Temperature coefficient of the short circuit current Isc\n",
    "beta = -0.37 #Temperature coefficient of the open circuit voltage Voc\n",
    "gamma = -0.45 #Temperature coefficient of the MPP power Pmpp\n",
    "\n",
    "### parameters\n",
    "V_mpp = 29.5   ###Voltage at Pmax, Vmpp [V]\n",
    "I_mpp = 7.63   ###Current at Pmax, Impp\n",
    "V_oc = 36.5    ###Open circuit voltage Voc\n",
    "I_sc = 8.28    ###Short circuit current Isc"
   ]
  },
  {
   "cell_type": "code",
   "execution_count": 67,
   "metadata": {
    "collapsed": false
   },
   "outputs": [],
   "source": [
    "df_iv = df[['Cc 1 (A)', 'Vcc 1 (V)', 'Geff','Tcell']]"
   ]
  },
  {
   "cell_type": "code",
   "execution_count": 68,
   "metadata": {
    "collapsed": false
   },
   "outputs": [
    {
     "data": {
      "text/plain": [
       "{'whiskers': [<matplotlib.lines.Line2D at 0x7f034d415640>,\n",
       "  <matplotlib.lines.Line2D at 0x7f034d4159d0>],\n",
       " 'caps': [<matplotlib.lines.Line2D at 0x7f034d415d60>,\n",
       "  <matplotlib.lines.Line2D at 0x7f034d3db130>],\n",
       " 'boxes': [<matplotlib.lines.Line2D at 0x7f034d4152b0>],\n",
       " 'medians': [<matplotlib.lines.Line2D at 0x7f034d3db4c0>],\n",
       " 'fliers': [<matplotlib.lines.Line2D at 0x7f034d3db850>],\n",
       " 'means': []}"
      ]
     },
     "execution_count": 68,
     "metadata": {},
     "output_type": "execute_result"
    },
    {
     "data": {
      "image/png": "[encoded data removed]",
      "text/plain": [
       "<Figure size 432x288 with 1 Axes>"
      ]
     },
     "metadata": {
      "needs_background": "light"
     },
     "output_type": "display_data"
    }
   ],
   "source": [
    "plt.boxplot(df_iv['Geff'])"
   ]
  },
  {
   "cell_type": "code",
   "execution_count": 69,
   "metadata": {
    "collapsed": false
   },
   "outputs": [
    {
     "data": {
      "text/plain": [
       "{'whiskers': [<matplotlib.lines.Line2D at 0x7f034b43b430>,\n",
       "  <matplotlib.lines.Line2D at 0x7f034b43b160>],\n",
       " 'caps': [<matplotlib.lines.Line2D at 0x7f034b43beb0>,\n",
       "  <matplotlib.lines.Line2D at 0x7f03575a1dc0>],\n",
       " 'boxes': [<matplotlib.lines.Line2D at 0x7f034b43b4c0>],\n",
       " 'medians': [<matplotlib.lines.Line2D at 0x7f03575a1760>],\n",
       " 'fliers': [<matplotlib.lines.Line2D at 0x7f03575a1910>],\n",
       " 'means': []}"
      ]
     },
     "execution_count": 69,
     "metadata": {},
     "output_type": "execute_result"
    },
    {
     "data": {
      "image/png": "[encoded data removed]",
      "text/plain": [
       "<Figure size 432x288 with 1 Axes>"
      ]
     },
     "metadata": {
      "needs_background": "light"
     },
     "output_type": "display_data"
    }
   ],
   "source": [
    "plt.boxplot(df_iv['Tcell'])"
   ]
  },
  {
   "cell_type": "code",
   "execution_count": 70,
   "metadata": {
    "collapsed": false
   },
   "outputs": [],
   "source": [
    "df_iv['Tcell'] = 30 + 0.0175*(df_iv['Geff']-300) + (1.14*df_iv['Tcell']-25)"
   ]
  },
  {
   "cell_type": "code",
   "execution_count": 71,
   "metadata": {
    "collapsed": false
   },
   "outputs": [
    {
     "data": {
      "text/html": [
       "<div>\n",
       "<style scoped>\n",
       "    .dataframe tbody tr th:only-of-type {\n",
       "        vertical-align: middle;\n",
       "    }\n",
       "\n",
       "    .dataframe tbody tr th {\n",
       "        vertical-align: top;\n",
       "    }\n",
       "\n",
       "    .dataframe thead th {\n",
       "        text-align: right;\n",
       "    }\n",
       "</style>\n",
       "<table border=\"1\" class=\"dataframe\">\n",
       "  <thead>\n",
       "    <tr style=\"text-align: right;\">\n",
       "      <th></th>\n",
       "      <th>Cc 1 (A)</th>\n",
       "      <th>Vcc 1 (V)</th>\n",
       "      <th>Geff</th>\n",
       "      <th>Tcell</th>\n",
       "    </tr>\n",
       "    <tr>\n",
       "      <th>Date/Time</th>\n",
       "      <th></th>\n",
       "      <th></th>\n",
       "      <th></th>\n",
       "      <th></th>\n",
       "    </tr>\n",
       "  </thead>\n",
       "  <tbody>\n",
       "    <tr>\n",
       "      <th>2018-08-08 11:00:00</th>\n",
       "      <td>401</td>\n",
       "      <td>388</td>\n",
       "      <td>1037</td>\n",
       "      <td>58.7095</td>\n",
       "    </tr>\n",
       "    <tr>\n",
       "      <th>2018-08-08 12:00:00</th>\n",
       "      <td>439</td>\n",
       "      <td>380</td>\n",
       "      <td>1056</td>\n",
       "      <td>58.9508</td>\n",
       "    </tr>\n",
       "    <tr>\n",
       "      <th>2018-08-08 13:00:00</th>\n",
       "      <td>485</td>\n",
       "      <td>372</td>\n",
       "      <td>1049</td>\n",
       "      <td>59.5351</td>\n",
       "    </tr>\n",
       "    <tr>\n",
       "      <th>2018-08-08 14:00:00</th>\n",
       "      <td>477</td>\n",
       "      <td>376</td>\n",
       "      <td>1050</td>\n",
       "      <td>58.4126</td>\n",
       "    </tr>\n",
       "    <tr>\n",
       "      <th>2018-08-08 15:00:00</th>\n",
       "      <td>265</td>\n",
       "      <td>376</td>\n",
       "      <td>993</td>\n",
       "      <td>55.1465</td>\n",
       "    </tr>\n",
       "  </tbody>\n",
       "</table>\n",
       "</div>"
      ],
      "text/plain": [
       "                     Cc 1 (A)  Vcc 1 (V)  Geff    Tcell\n",
       "Date/Time                                              \n",
       "2018-08-08 11:00:00       401        388  1037  58.7095\n",
       "2018-08-08 12:00:00       439        380  1056  58.9508\n",
       "2018-08-08 13:00:00       485        372  1049  59.5351\n",
       "2018-08-08 14:00:00       477        376  1050  58.4126\n",
       "2018-08-08 15:00:00       265        376   993  55.1465"
      ]
     },
     "execution_count": 71,
     "metadata": {},
     "output_type": "execute_result"
    }
   ],
   "source": [
    "df_iv.head()"
   ]
  },
  {
   "cell_type": "code",
   "execution_count": 78,
   "metadata": {
    "collapsed": true
   },
   "outputs": [],
   "source": [
    "test = df_iv[(df_iv.Tcell >= 23) & (df_iv.Tcell <= 27) & (df_iv.Geff >= 900) & (df_iv.Geff <= 1100)]"
   ]
  },
  {
   "cell_type": "code",
   "execution_count": 79,
   "metadata": {
    "collapsed": false
   },
   "outputs": [
    {
     "data": {
      "text/html": [
       "<div>\n",
       "<style scoped>\n",
       "    .dataframe tbody tr th:only-of-type {\n",
       "        vertical-align: middle;\n",
       "    }\n",
       "\n",
       "    .dataframe tbody tr th {\n",
       "        vertical-align: top;\n",
       "    }\n",
       "\n",
       "    .dataframe thead th {\n",
       "        text-align: right;\n",
       "    }\n",
       "</style>\n",
       "<table border=\"1\" class=\"dataframe\">\n",
       "  <thead>\n",
       "    <tr style=\"text-align: right;\">\n",
       "      <th></th>\n",
       "      <th>Cc 1 (A)</th>\n",
       "      <th>Vcc 1 (V)</th>\n",
       "      <th>Geff</th>\n",
       "      <th>Tcell</th>\n",
       "    </tr>\n",
       "    <tr>\n",
       "      <th>Date/Time</th>\n",
       "      <th></th>\n",
       "      <th></th>\n",
       "      <th></th>\n",
       "      <th></th>\n",
       "    </tr>\n",
       "  </thead>\n",
       "  <tbody>\n",
       "    <tr>\n",
       "      <th>2021-02-15 14:00:00</th>\n",
       "      <td>0</td>\n",
       "      <td>569</td>\n",
       "      <td>917</td>\n",
       "      <td>24.1195</td>\n",
       "    </tr>\n",
       "    <tr>\n",
       "      <th>2021-02-15 15:00:00</th>\n",
       "      <td>0</td>\n",
       "      <td>580</td>\n",
       "      <td>913</td>\n",
       "      <td>24.2661</td>\n",
       "    </tr>\n",
       "  </tbody>\n",
       "</table>\n",
       "</div>"
      ],
      "text/plain": [
       "                     Cc 1 (A)  Vcc 1 (V)  Geff    Tcell\n",
       "Date/Time                                              \n",
       "2021-02-15 14:00:00         0        569   917  24.1195\n",
       "2021-02-15 15:00:00         0        580   913  24.2661"
      ]
     },
     "execution_count": 79,
     "metadata": {},
     "output_type": "execute_result"
    }
   ],
   "source": [
    "test"
   ]
  },
  {
   "cell_type": "code",
   "execution_count": 87,
   "metadata": {
    "collapsed": true
   },
   "outputs": [],
   "source": [
    "#### coeffcients\n",
    "alfa = 0.06 #Temperature coefficient of the short circuit current Isc\n",
    "beta = -0.37 #Temperature coefficient of the open circuit voltage Voc\n",
    "gamma = -0.45 #Temperature coefficient of the MPP power Pmpp\n",
    "\n",
    "### parameters\n",
    "V_mpp = 29.5   ###Voltage at Pmax, Vmpp [V]\n",
    "I_mpp = 7.63   ###Current at Pmax, Impp\n",
    "V_oc = 36.5    ###Open circuit voltage Voc\n",
    "I_sc = 8.28    ###Short circuit current Isc"
   ]
  },
  {
   "cell_type": "code",
   "execution_count": 88,
   "metadata": {
    "collapsed": false
   },
   "outputs": [
    {
     "data": {
      "image/png": "[encoded data removed]",
      "text/plain": [
       "<Figure size 432x288 with 1 Axes>"
      ]
     },
     "metadata": {
      "needs_background": "light"
     },
     "output_type": "display_data"
    },
    {
     "name": "stdout",
     "output_type": "stream",
     "text": [
      "       i_sc       v_oc      i_mp       v_mp        p_mp\n",
      "0  5.099770  59.400651  4.689494  46.905751  219.964248\n",
      "1  4.944163  54.926045  4.525945  42.594534  192.780508\n",
      "2  3.063272  58.055325  2.825372  47.397766  133.916313\n",
      "3  2.043319  56.987478  1.886511  47.285357   89.204359\n",
      "4  2.402918  53.661026  2.211783  43.603041   96.440485\n",
      "5  2.762517  50.289825  2.526551  39.947515  100.929418\n"
     ]
    },
    {
     "data": {
      "text/plain": [
       "11101"
      ]
     },
     "execution_count": 88,
     "metadata": {},
     "output_type": "execute_result"
    },
    {
     "name": "stderr",
     "output_type": "stream",
     "text": [
      "/home/vieri/anaconda3/envs/sample/lib/python3.8/site-packages/IPython/core/pylabtools.py:137: UserWarning: Tight layout not applied. The left and right margins cannot be made large enough to accommodate all axes decorations. \n",
      "  fig.canvas.print_figure(bytes_io, **kw)\n"
     ]
    },
    {
     "data": {
      "image/png": "[encoded data removed]",
      "text/plain": [
       "<Figure size 432x288 with 1 Axes>"
      ]
     },
     "metadata": {
      "needs_background": "light"
     },
     "output_type": "display_data"
    }
   ],
   "source": [
    "from pvlib import pvsystem\n",
    "import pandas as pd\n",
    "import matplotlib.pyplot as plt\n",
    "\n",
    "# Example module parameters for the Canadian Solar CS5P-220M:\n",
    "parameters = {\n",
    "    'Name': 'Soleto1',\n",
    "    'BIPV': 'N',\n",
    "    'Date': '10/5/2009',\n",
    "    'T_NOCT': 46,\n",
    "    'A_c': 1.7, #check\n",
    "    'N_s': 96, #check\n",
    "    'I_sc_ref': 8.28,\n",
    "    'V_oc_ref': 36.5,\n",
    "    'I_mp_ref': 7.63,\n",
    "    'V_mp_ref': 29.5,\n",
    "    'alpha_sc': 0.06,\n",
    "    'beta_oc': -0.37,\n",
    "    'a_ref': 2.6373,\n",
    "    'I_L_ref': 5.114,\n",
    "    'I_o_ref': 8.196e-10,\n",
    "    'R_s': 1.065,\n",
    "    'R_sh_ref': 381.68,\n",
    "    'Adjust': 8.7,\n",
    "    'gamma_r': -0.476,\n",
    "    'Version': 'MM106',\n",
    "    'PTC': 200.1,\n",
    "    'Technology': 'Mono-c-Si',\n",
    "}\n",
    "\n",
    "# adjust the reference parameters according to the operating\n",
    "# conditions using the De Soto model:\n",
    "IL, I0, Rs, Rsh, nNsVth = pvsystem.calcparams_desoto(\n",
    "    conditions['Geff'],\n",
    "    conditions['Tcell'],\n",
    "    alpha_sc=parameters['alpha_sc'],\n",
    "    a_ref=parameters['a_ref'],\n",
    "    I_L_ref=parameters['I_L_ref'],\n",
    "    I_o_ref=parameters['I_o_ref'],\n",
    "    R_sh_ref=parameters['R_sh_ref'],\n",
    "    R_s=parameters['R_s'],\n",
    "    EgRef=1.121,\n",
    "    dEgdT=-0.0002677\n",
    ")\n",
    "\n",
    "# plug the parameters into the SDE and solve for IV curves:\n",
    "curve_info = pvsystem.singlediode(\n",
    "    photocurrent=IL,\n",
    "    saturation_current=I0,\n",
    "    resistance_series=Rs,\n",
    "    resistance_shunt=Rsh,\n",
    "    nNsVth=nNsVth,\n",
    "    ivcurve_pnts=100,\n",
    "    method='lambertw'\n",
    ")\n",
    "\n",
    "# plot the calculated curves:\n",
    "plt.figure()\n",
    "for i, case in conditions.iterrows():\n",
    "    label = (\n",
    "        \"$G_{eff}$ \" + f\"{case['Geff']} $W/m^2$\\n\"\n",
    "        \"$T_{cell}$ \" + f\"{case['Tcell']} $C$\"\n",
    "    )\n",
    "    plt.plot(curve_info['v'][i], curve_info['i'][i], label=label)\n",
    "    v_mp = curve_info['v_mp'][i]\n",
    "    i_mp = curve_info['i_mp'][i]\n",
    "    # mark the MPP\n",
    "    plt.plot([v_mp], [i_mp], ls='', marker='o', c='k')\n",
    "\n",
    "plt.legend(loc=(1.0, 0))\n",
    "plt.xlabel('Module voltage [V]')\n",
    "plt.ylabel('Module current [A]')\n",
    "plt.title(parameters['Name'])\n",
    "plt.show()\n",
    "plt.gcf().set_tight_layout(True)\n",
    "\n",
    "\n",
    "# draw trend arrows\n",
    "def draw_arrow(ax, label, x0, y0, rotation, size, direction):\n",
    "    style = direction + 'arrow'\n",
    "    bbox_props = dict(boxstyle=style, fc=(0.8, 0.9, 0.9), ec=\"b\", lw=1)\n",
    "    t = ax.text(x0, y0, label, ha=\"left\", va=\"bottom\", rotation=rotation,\n",
    "                size=size, bbox=bbox_props, zorder=-1)\n",
    "\n",
    "    bb = t.get_bbox_patch()\n",
    "    bb.set_boxstyle(style, pad=0.6)\n",
    "\n",
    "\n",
    "ax = plt.gca()\n",
    "draw_arrow(ax, 'Irradiance', 20, 2.5, 90, 15, 'r')\n",
    "draw_arrow(ax, 'Temperature', 35, 1, 0, 15, 'l')\n",
    "\n",
    "print(pd.DataFrame({\n",
    "    'i_sc': curve_info['i_sc'],\n",
    "    'v_oc': curve_info['v_oc'],\n",
    "    'i_mp': curve_info['i_mp'],\n",
    "    'v_mp': curve_info['v_mp'],\n",
    "    'p_mp': curve_info['p_mp'],\n",
    "}))\n",
    "11101"
   ]
  },
  {
   "cell_type": "markdown",
   "metadata": {},
   "source": [
    "### solving the 5 - params odm computing the 5 params at reference conditions v1"
   ]
  },
  {
   "cell_type": "code",
   "execution_count": 90,
   "metadata": {
    "collapsed": false
   },
   "outputs": [
    {
     "ename": "RuntimeError",
     "evalue": "Parameter estimation failed:\nThe iteration is not making good progress, as measured by the \n  improvement from the last ten iterations.",
     "output_type": "error",
     "traceback": [
      "\u001b[0;31m---------------------------------------------------------------------------\u001b[0m",
      "\u001b[0;31mRuntimeError\u001b[0m                              Traceback (most recent call last)",
      "\u001b[0;32m/tmp/ipykernel_30841/3862086344.py\u001b[0m in \u001b[0;36m<module>\u001b[0;34m\u001b[0m\n\u001b[1;32m      9\u001b[0m \u001b[0mroot_kwargs\u001b[0m \u001b[0;34m=\u001b[0m \u001b[0;34m{\u001b[0m\u001b[0;34m'method'\u001b[0m\u001b[0;34m:\u001b[0m\u001b[0;34m'hybr'\u001b[0m\u001b[0;34m}\u001b[0m\u001b[0;34m\u001b[0m\u001b[0;34m\u001b[0m\u001b[0m\n\u001b[1;32m     10\u001b[0m \u001b[0;34m\u001b[0m\u001b[0m\n\u001b[0;32m---> 11\u001b[0;31m \u001b[0mparams\u001b[0m \u001b[0;34m=\u001b[0m \u001b[0mpvlib\u001b[0m\u001b[0;34m.\u001b[0m\u001b[0mivtools\u001b[0m\u001b[0;34m.\u001b[0m\u001b[0msdm\u001b[0m\u001b[0;34m.\u001b[0m\u001b[0mfit_desoto\u001b[0m\u001b[0;34m(\u001b[0m\u001b[0mv_mp\u001b[0m\u001b[0;34m,\u001b[0m \u001b[0mi_mp\u001b[0m\u001b[0;34m,\u001b[0m \u001b[0mv_oc\u001b[0m\u001b[0;34m,\u001b[0m \u001b[0mi_sc\u001b[0m\u001b[0;34m,\u001b[0m \u001b[0malpha_sc\u001b[0m\u001b[0;34m,\u001b[0m \u001b[0mbeta_voc\u001b[0m\u001b[0;34m,\u001b[0m \u001b[0mcells_in_series\u001b[0m\u001b[0;34m,\u001b[0m \u001b[0mEgRef\u001b[0m\u001b[0;34m=\u001b[0m\u001b[0;36m1.121\u001b[0m\u001b[0;34m,\u001b[0m \u001b[0mdEgdT\u001b[0m\u001b[0;34m=\u001b[0m\u001b[0;34m-\u001b[0m \u001b[0;36m0.0002677\u001b[0m\u001b[0;34m,\u001b[0m \u001b[0mtemp_ref\u001b[0m\u001b[0;34m=\u001b[0m\u001b[0;36m25\u001b[0m\u001b[0;34m,\u001b[0m \u001b[0mirrad_ref\u001b[0m\u001b[0;34m=\u001b[0m\u001b[0;36m1000\u001b[0m\u001b[0;34m,\u001b[0m \u001b[0mroot_kwargs\u001b[0m\u001b[0;34m=\u001b[0m\u001b[0mroot_kwargs\u001b[0m\u001b[0;34m)\u001b[0m\u001b[0;34m\u001b[0m\u001b[0;34m\u001b[0m\u001b[0m\n\u001b[0m",
      "\u001b[0;32m~/anaconda3/envs/sample/lib/python3.8/site-packages/pvlib/ivtools/sdm.py\u001b[0m in \u001b[0;36mfit_desoto\u001b[0;34m(v_mp, i_mp, v_oc, i_sc, alpha_sc, beta_voc, cells_in_series, EgRef, dEgdT, temp_ref, irrad_ref, root_kwargs)\u001b[0m\n\u001b[1;32m    229\u001b[0m         \u001b[0msdm_params\u001b[0m \u001b[0;34m=\u001b[0m \u001b[0moptimize_result\u001b[0m\u001b[0;34m.\u001b[0m\u001b[0mx\u001b[0m\u001b[0;34m\u001b[0m\u001b[0;34m\u001b[0m\u001b[0m\n\u001b[1;32m    230\u001b[0m     \u001b[0;32melse\u001b[0m\u001b[0;34m:\u001b[0m\u001b[0;34m\u001b[0m\u001b[0;34m\u001b[0m\u001b[0m\n\u001b[0;32m--> 231\u001b[0;31m         raise RuntimeError(\n\u001b[0m\u001b[1;32m    232\u001b[0m             'Parameter estimation failed:\\n' + optimize_result.message)\n\u001b[1;32m    233\u001b[0m \u001b[0;34m\u001b[0m\u001b[0m\n",
      "\u001b[0;31mRuntimeError\u001b[0m: Parameter estimation failed:\nThe iteration is not making good progress, as measured by the \n  improvement from the last ten iterations."
     ]
    }
   ],
   "source": [
    "v_mp = 29.5\n",
    "i_mp = 7.63\n",
    "v_oc = 36.5\n",
    "i_sc = 8.28\n",
    "alpha_sc = 0.06 * i_sc\n",
    "beta_voc = - 0.37 * v_oc\n",
    "cells_in_series = 60\n",
    "\n",
    "root_kwargs = {'method':'hybr'}\n",
    "\n",
    "params = pvlib.ivtools.sdm.fit_desoto(v_mp, i_mp, v_oc, i_sc, alpha_sc, beta_voc, cells_in_series, EgRef=1.121, dEgdT=- 0.0002677, temp_ref=25, irrad_ref=1000, root_kwargs=root_kwargs)"
   ]
  },
  {
   "cell_type": "code",
   "execution_count": 55,
   "metadata": {
    "collapsed": false
   },
   "outputs": [
    {
     "data": {
      "text/plain": [
       "-101.28825"
      ]
     },
     "execution_count": 55,
     "metadata": {},
     "output_type": "execute_result"
    }
   ],
   "source": [
    "gamma_pmp"
   ]
  },
  {
   "cell_type": "code",
   "execution_count": 92,
   "metadata": {
    "collapsed": false
   },
   "outputs": [
    {
     "name": "stdout",
     "output_type": "stream",
     "text": [
      "6parsolve simulation error\n",
      " : could not solve, check inputs\n"
     ]
    },
    {
     "ename": "RuntimeError",
     "evalue": "Parameter estimation failed",
     "output_type": "error",
     "traceback": [
      "\u001b[0;31m---------------------------------------------------------------------------\u001b[0m",
      "\u001b[0;31mRuntimeError\u001b[0m                              Traceback (most recent call last)",
      "\u001b[0;32m/tmp/ipykernel_30841/2444584144.py\u001b[0m in \u001b[0;36m<module>\u001b[0;34m\u001b[0m\n\u001b[1;32m      3\u001b[0m \u001b[0;31m#gamma_pmp = (0.001 * 4.568 + -0.0158 * 3.3) / (4.568 * 3.3) * 100\u001b[0m\u001b[0;34m\u001b[0m\u001b[0;34m\u001b[0m\u001b[0;34m\u001b[0m\u001b[0m\n\u001b[1;32m      4\u001b[0m \u001b[0mgamma_pmp\u001b[0m \u001b[0;34m=\u001b[0m \u001b[0;34m-\u001b[0m\u001b[0;36m0.45\u001b[0m\u001b[0;34m\u001b[0m\u001b[0;34m\u001b[0m\u001b[0m\n\u001b[0;32m----> 5\u001b[0;31m result = pvlib.ivtools.sdm.fit_cec_sam(\n\u001b[0m\u001b[1;32m      6\u001b[0m     \u001b[0mcelltype\u001b[0m\u001b[0;34m=\u001b[0m\u001b[0;34m'polySi'\u001b[0m\u001b[0;34m,\u001b[0m \u001b[0mv_mp\u001b[0m\u001b[0;34m=\u001b[0m\u001b[0mv_mp\u001b[0m\u001b[0;34m,\u001b[0m \u001b[0mi_mp\u001b[0m\u001b[0;34m=\u001b[0m\u001b[0mi_mp\u001b[0m\u001b[0;34m,\u001b[0m \u001b[0mv_oc\u001b[0m\u001b[0;34m=\u001b[0m\u001b[0mv_oc\u001b[0m\u001b[0;34m,\u001b[0m \u001b[0mi_sc\u001b[0m\u001b[0;34m=\u001b[0m\u001b[0mi_sc\u001b[0m\u001b[0;34m,\u001b[0m\u001b[0;34m\u001b[0m\u001b[0;34m\u001b[0m\u001b[0m\n\u001b[1;32m      7\u001b[0m     \u001b[0malpha_sc\u001b[0m\u001b[0;34m=\u001b[0m\u001b[0malpha_sc\u001b[0m\u001b[0;34m,\u001b[0m \u001b[0mbeta_voc\u001b[0m\u001b[0;34m=\u001b[0m\u001b[0mbeta_voc\u001b[0m\u001b[0;34m,\u001b[0m \u001b[0mgamma_pmp\u001b[0m\u001b[0;34m=\u001b[0m\u001b[0mgamma_pmp\u001b[0m\u001b[0;34m,\u001b[0m \u001b[0mcells_in_series\u001b[0m\u001b[0;34m=\u001b[0m\u001b[0mcells_in_series\u001b[0m\u001b[0;34m,\u001b[0m\u001b[0;34m\u001b[0m\u001b[0;34m\u001b[0m\u001b[0m\n",
      "\u001b[0;32m~/anaconda3/envs/sample/lib/python3.8/site-packages/pvlib/ivtools/sdm.py\u001b[0m in \u001b[0;36mfit_cec_sam\u001b[0;34m(celltype, v_mp, i_mp, v_oc, i_sc, alpha_sc, beta_voc, gamma_pmp, cells_in_series, temp_ref)\u001b[0m\n\u001b[1;32m    111\u001b[0m                       'Adj']])\n\u001b[1;32m    112\u001b[0m     \u001b[0;32melse\u001b[0m\u001b[0;34m:\u001b[0m\u001b[0;34m\u001b[0m\u001b[0;34m\u001b[0m\u001b[0m\n\u001b[0;32m--> 113\u001b[0;31m         \u001b[0;32mraise\u001b[0m \u001b[0mRuntimeError\u001b[0m\u001b[0;34m(\u001b[0m\u001b[0;34m'Parameter estimation failed'\u001b[0m\u001b[0;34m)\u001b[0m\u001b[0;34m\u001b[0m\u001b[0;34m\u001b[0m\u001b[0m\n\u001b[0m\u001b[1;32m    114\u001b[0m \u001b[0;34m\u001b[0m\u001b[0m\n\u001b[1;32m    115\u001b[0m \u001b[0;34m\u001b[0m\u001b[0m\n",
      "\u001b[0;31mRuntimeError\u001b[0m: Parameter estimation failed"
     ]
    }
   ],
   "source": [
    "import pvlib\n",
    "\n",
    "#gamma_pmp = (0.001 * 4.568 + -0.0158 * 3.3) / (4.568 * 3.3) * 100\n",
    "gamma_pmp = -0.45\n",
    "result = pvlib.ivtools.sdm.fit_cec_sam(\n",
    "    celltype='polySi', v_mp=v_mp, i_mp=i_mp, v_oc=v_oc, i_sc=i_sc,\n",
    "    alpha_sc=alpha_sc, beta_voc=beta_voc, gamma_pmp=gamma_pmp, cells_in_series=cells_in_series,\n",
    "    temp_ref=25)\n",
    "\n",
    "print(result)\n",
    "\n",
    "#(3.5024746819107855, 2.3470813166776665e-12, 0.05508415040943549, 77.90679113571254, 0.1913501211018485, -10.655716001701359)\n"
   ]
  },
  {
   "cell_type": "markdown",
   "metadata": {},
   "source": [
    "### last try"
   ]
  },
  {
   "cell_type": "code",
   "execution_count": 85,
   "metadata": {
    "collapsed": false
   },
   "outputs": [],
   "source": [
    "import numpy as np\n",
    "import pvlib\n",
    "from pvmismatch import *\n",
    "from pvmismatch.contrib import gen_coeffs"
   ]
  },
  {
   "cell_type": "code",
   "execution_count": 86,
   "metadata": {
    "collapsed": false,
    "scrolled": true
   },
   "outputs": [
    {
     "data": {
      "text/plain": [
       "    fjac: array([[nan, nan, nan, nan],\n",
       "       [nan, nan, nan, nan],\n",
       "       [nan, nan, nan, nan],\n",
       "       [nan, nan, nan, nan]])\n",
       "     fun: array([ 3.67875055e-05,  2.68132190e-03, -2.83103339e-04, -2.07825059e-05])\n",
       " message: 'The iteration is not making good progress, as measured by the \\n  improvement from the last ten iterations.'\n",
       "    nfev: 435\n",
       "    njev: 5\n",
       "     qtf: array([nan, nan, nan, nan])\n",
       "       r: array([nan, nan, nan, nan, nan, nan, nan, nan, nan, nan])\n",
       "  status: 5\n",
       " success: False\n",
       "       x: array([-2.19061374e+001, -1.09624967e+001,  6.27786979e-002,\n",
       "        9.81404388e+119])"
      ]
     },
     "execution_count": 86,
     "metadata": {},
     "output_type": "execute_result"
    }
   ],
   "source": [
    "args = (i_sc, v_oc, i_mp, v_mp, cells_in_series, 1, 25.0)\n",
    "x, sol = gen_coeffs.gen_two_diode(*args)\n",
    "sol  # solution results"
   ]
  },
  {
   "cell_type": "code",
   "execution_count": 84,
   "metadata": {
    "collapsed": false
   },
   "outputs": [
    {
     "name": "stdout",
     "output_type": "stream",
     "text": [
      "(3.063976491271572e-10, 1.7339962748794638e-05, 0.003941164909215506, 9.631545731222588e+239)\n"
     ]
    }
   ],
   "source": [
    "def last_guess(sol):\n",
    "    isat1 = np.exp(sol.x[0])\n",
    "    isat2 = np.exp(sol.x[1])\n",
    "    rs = sol.x[2] ** 2.0\n",
    "    rsh = sol.x[3] ** 2.0\n",
    "    return isat1, isat2, rs, rsh\n",
    "\n",
    "x = last_guess(sol)\n",
    "# (4.949484718740044e-10,\n",
    "#  1.0622532408228556e-06,\n",
    "#  0.0055266539292632725,\n",
    "#  37.420383187251204)\n",
    "# these don't actually seem that bad, so no changes required\n",
    "print(x)\n",
    "# restart the solver\n",
    "x, sol = gen_coeffs.gen_two_diode(*args, x0=x)\n",
    "#    fjac: array([[-7.60870868e-01, -4.58108789e-02, -6.47284239e-01,\n",
    "#         3.72235582e-07],\n",
    "#       [ 6.40027744e-01, -2.17398354e-01, -7.36954844e-01,\n",
    "#        -2.37286186e-05],\n",
    "#       [ 1.06957980e-01,  9.75007332e-01, -1.94732309e-01,\n",
    "#         1.43209394e-04],\n",
    "#       [-1.52809906e-07,  1.44771721e-04, -1.06415178e-05,\n",
    "#        -9.99999989e-01]])\n",
    "#     fun: array([ 1.97339520e-08,  6.92527653e-08,  7.86377008e-09, -2.31607963e-06])\n",
    "# message: 'The iteration is not making good progress, as measured by the \\n  improvement from the last ten iterations.'\n",
    "#    nfev: 11\n",
    "#    njev: 2\n",
    "#     qtf: array([-2.32784758e-08, -8.16544653e-09,  6.77696431e-08,  2.31608954e-06])\n",
    "#       r: array([ 1.13359731e+01,  2.76160043e-01,  2.15419870e+02, -6.66722799e-03,\n",
    "#        1.04100761e-01,  2.43542797e+02, -2.39314749e-04,  3.97725352e+01,\n",
    "#        4.44961882e-03,  7.68389446e-07])\n",
    "#  status: 5\n",
    "# success: False\n",
    "#       x: array([-21.42656746, -13.75511821,   0.07434147,   6.11722022])"
   ]
  },
  {
   "cell_type": "code",
   "execution_count": 82,
   "metadata": {
    "collapsed": false
   },
   "outputs": [
    {
     "data": {
      "text/plain": [
       "    fjac: array([[nan, nan, nan, nan],\n",
       "       [nan, nan, nan, nan],\n",
       "       [nan, nan, nan, nan],\n",
       "       [nan, nan, nan, nan]])\n",
       "     fun: array([ 3.67875055e-05,  2.68132190e-03, -2.83103339e-04, -2.07825059e-05])\n",
       " message: 'The iteration is not making good progress, as measured by the \\n  improvement from the last ten iterations.'\n",
       "    nfev: 11\n",
       "    njev: 2\n",
       "     qtf: array([nan, nan, nan, nan])\n",
       "       r: array([nan, nan, nan, nan, nan, nan, nan, nan, nan, nan])\n",
       "  status: 5\n",
       " success: False\n",
       "       x: array([-2.19061374e+001, -1.09624967e+001,  6.27786979e-002,\n",
       "        9.81404388e+119])"
      ]
     },
     "execution_count": 82,
     "metadata": {},
     "output_type": "execute_result"
    }
   ],
   "source": [
    "sol"
   ]
  },
  {
   "cell_type": "code",
   "execution_count": null,
   "metadata": {
    "collapsed": true
   },
   "outputs": [],
   "source": [
    "x = last_guess(sol)\n",
    "# (4.949484718740044e-10,\n",
    "#  1.0622532408228556e-06,\n",
    "#  0.0055266539292632725,\n",
    "#  37.420383187251204)\n",
    "# exactly the same\n",
    "\n",
    "x, sol = gen_coeffs.gen_two_diode(*args, x0=x)\n",
    "# this time sol is exactly the same, so it's not going to change unless we change x0\n",
    "\n",
    "# instead take a look at sol.fun\n",
    "# array([ 1.97339520e-08,  6.92527653e-08,  7.86377008e-09, -2.31607963e-06])\n",
    "# these are very small numbers, so let's just try the last guess in a PVcell and see how well it fits?\n",
    "\n",
    "pvc = pvcell.PVcell(Isat1_T0=x[0], Isat2_T0=x[1], Rs=x[2], Rsh=x[3], Isc0_T0=pvmod.Isco, alpha_Isc=pvmod.Aisc)\n",
    "\n",
    "pvc.Isc\n",
    "# 8.6388 [A] ha-ha! this is always exactly the same because it's an argument to PVcell\n",
    "pvmod.Isco\n",
    "# 8.6388 [A]\n",
    "\n",
    "pvc.Voc*72\n",
    "# 43.59529549470483 [V]\n",
    "pvmod.Voco\n",
    "# 43.5918 [V] so off by about 0.01% off, that is really close! \n",
    "\n",
    "mpp = np.argmax(pvc.Pcell)  # find the index of the max power point\n",
    "\n",
    "pvc.Icell[mpp]\n",
    "# array([8.12227748])\n",
    "pvmod.Impo\n",
    "# 8.1359 [A] so this is off by about 0.17%, not zero but not too shabby\n",
    "\n",
    "pvc.Vcell[mpp]*72\n",
    "# array([35.01088617])\n",
    "pvmod.Vmpo\n",
    "# 34.9531 [V] also about 0.17% off, which is pretty good\n",
    "\n",
    "# check the fill factor:\n",
    "(pvmod.Impo * pvmod.Vmpo) / pvmod.Isco / pvmod.Voco\n",
    "# 0.7551497439448178\n",
    "(pvc.Icell[mpp] * pvc.Vcell[mpp]) / pvc.Isc / pvc.Voc\n",
    "# array([0.75507116])"
   ]
  },
  {
   "cell_type": "markdown",
   "metadata": {},
   "source": [
    "### solving the 5 - params odm computing the 5 params at reference conditions v2"
   ]
  },
  {
   "cell_type": "code",
   "execution_count": 7,
   "metadata": {
    "collapsed": true
   },
   "outputs": [],
   "source": [
    "import pvlib"
   ]
  },
  {
   "cell_type": "code",
   "execution_count": 8,
   "metadata": {
    "collapsed": false
   },
   "outputs": [],
   "source": [
    "ivcurves = {'i': [[8.28, 7.63, 0]], 'v': [[0, 29.5, 36.5]], 'ee':[1000], 'tc':[25], 'i_sc':[0.28], 'v_oc': [36.5], 'i_mp':[7.63], 'v_mp': [29.5]}"
   ]
  },
  {
   "cell_type": "code",
   "execution_count": 9,
   "metadata": {
    "collapsed": true
   },
   "outputs": [],
   "source": [
    "specs = {'cells_in_series': 60, 'alpha_sc': 0.06,'beta_voc': - 0.37}"
   ]
  },
  {
   "cell_type": "code",
   "execution_count": 38,
   "metadata": {
    "collapsed": false
   },
   "outputs": [
    {
     "ename": "TypeError",
     "evalue": "'float' object is not subscriptable",
     "output_type": "error",
     "traceback": [
      "\u001b[0;31m---------------------------------------------------------------------------\u001b[0m",
      "\u001b[0;31mTypeError\u001b[0m                                 Traceback (most recent call last)",
      "\u001b[0;32m/tmp/ipykernel_30841/1507694126.py\u001b[0m in \u001b[0;36m<module>\u001b[0;34m\u001b[0m\n\u001b[0;32m----> 1\u001b[0;31m \u001b[0mpvlib\u001b[0m\u001b[0;34m.\u001b[0m\u001b[0mivtools\u001b[0m\u001b[0;34m.\u001b[0m\u001b[0msdm\u001b[0m\u001b[0;34m.\u001b[0m\u001b[0mfit_desoto_sandia\u001b[0m\u001b[0;34m(\u001b[0m\u001b[0mivcurves\u001b[0m\u001b[0;34m,\u001b[0m \u001b[0mspecs\u001b[0m\u001b[0;34m,\u001b[0m \u001b[0mconst\u001b[0m\u001b[0;34m=\u001b[0m\u001b[0;32mNone\u001b[0m\u001b[0;34m,\u001b[0m \u001b[0mmaxiter\u001b[0m\u001b[0;34m=\u001b[0m\u001b[0;36m5\u001b[0m\u001b[0;34m,\u001b[0m \u001b[0meps1\u001b[0m\u001b[0;34m=\u001b[0m\u001b[0;36m0.001\u001b[0m\u001b[0;34m)\u001b[0m\u001b[0;34m\u001b[0m\u001b[0;34m\u001b[0m\u001b[0m\n\u001b[0m",
      "\u001b[0;32m~/anaconda3/envs/sample/lib/python3.8/site-packages/pvlib/ivtools/sdm.py\u001b[0m in \u001b[0;36mfit_desoto_sandia\u001b[0;34m(ivcurves, specs, const, maxiter, eps1)\u001b[0m\n\u001b[1;32m    605\u001b[0m         \u001b[0;31m# [5] Step 3a; [6] Step 3a\u001b[0m\u001b[0;34m\u001b[0m\u001b[0;34m\u001b[0m\u001b[0;34m\u001b[0m\u001b[0m\n\u001b[1;32m    606\u001b[0m         _, _, _, rsh[j], _ = _fit_sandia_cocontent(\n\u001b[0;32m--> 607\u001b[0;31m             voltage, current, vth[j] * specs['cells_in_series'])\n\u001b[0m\u001b[1;32m    608\u001b[0m \u001b[0;34m\u001b[0m\u001b[0m\n\u001b[1;32m    609\u001b[0m     \u001b[0mn0\u001b[0m \u001b[0;34m=\u001b[0m \u001b[0m_fit_desoto_sandia_diode\u001b[0m\u001b[0;34m(\u001b[0m\u001b[0mee\u001b[0m\u001b[0;34m,\u001b[0m \u001b[0mvoc\u001b[0m\u001b[0;34m,\u001b[0m \u001b[0mvth\u001b[0m\u001b[0;34m,\u001b[0m \u001b[0mtc\u001b[0m\u001b[0;34m,\u001b[0m \u001b[0mspecs\u001b[0m\u001b[0;34m,\u001b[0m \u001b[0mconst\u001b[0m\u001b[0;34m)\u001b[0m\u001b[0;34m\u001b[0m\u001b[0;34m\u001b[0m\u001b[0m\n",
      "\u001b[0;31mTypeError\u001b[0m: 'float' object is not subscriptable"
     ]
    }
   ],
   "source": [
    "pvlib.ivtools.sdm.fit_desoto_sandia(ivcurves, specs, const=None, maxiter=5, eps1=0.001)"
   ]
  },
  {
   "cell_type": "markdown",
   "metadata": {},
   "source": [
    "# UNIGE"
   ]
  },
  {
   "cell_type": "markdown",
   "metadata": {},
   "source": [
    "##### parameters"
   ]
  },
  {
   "cell_type": "code",
   "execution_count": null,
   "metadata": {
    "collapsed": true
   },
   "outputs": [],
   "source": [
    "ivcurves (dict) –\n",
    "\n",
    "iarray\n",
    "One array element for each IV curve. The jth element is itself an array of current for jth IV curve (same length as v[j]) [A]\n",
    "\n",
    "varray\n",
    "One array element for each IV curve. The jth element is itself an array of voltage for jth IV curve (same length as i[j]) [V]\n",
    "\n",
    "eearray\n",
    "effective irradiance for each IV curve, i.e., POA broadband irradiance adjusted by solar spectrum modifier [W / m^2]\n",
    "\n",
    "tcarray\n",
    "cell temperature for each IV curve [C]\n",
    "\n",
    "i_scarray\n",
    "short circuit current for each IV curve [A]\n",
    "\n",
    "v_ocarray\n",
    "open circuit voltage for each IV curve [V]\n",
    "\n",
    "i_mparray\n",
    "current at max power point for each IV curve [A]\n",
    "\n",
    "v_mparray\n",
    "voltage at max power point for each IV curve [V]\n",
    "\n",
    "specs (dict) –\n",
    "\n",
    "cells_in_seriesint\n",
    "number of cells in series\n",
    "\n",
    "alpha_scfloat\n",
    "temperature coefficient of Isc [A/C]\n",
    "\n",
    "beta_vocfloat\n",
    "temperature coefficient of Voc [V/C]\n",
    "\n",
    "const (dict) –\n",
    "\n",
    "E0float\n",
    "effective irradiance at STC, default 1000 [W/m^2]\n",
    "\n",
    "T0float\n",
    "cell temperature at STC, default 25 [C]\n",
    "\n",
    "kfloat\n",
    "1.38066E-23 J/K (Boltzmann’s constant)\n",
    "\n",
    "qfloat\n",
    "1.60218E-19 Coulomb (elementary charge)\n",
    "\n",
    "maxiter (int, default 5) – input that sets the maximum number of iterations for the parameter updating part of the algorithm.\n",
    "\n",
    "eps1 (float, default 1e-3) – Tolerance for the IV curve fitting. The parameter updating stops when absolute values of the percent change in mean, max and standard deviation of Imp, Vmp and Pmp between iterations are all less than eps1, or when the number of iterations exceeds maxiter."
   ]
  },
  {
   "cell_type": "markdown",
   "metadata": {
    "collapsed": true
   },
   "source": [
    "### computing the generic 5 params and i-v characteristics points according to different (w,t) couples"
   ]
  },
  {
   "cell_type": "code",
   "execution_count": 106,
   "metadata": {
    "collapsed": false
   },
   "outputs": [],
   "source": [
    "nc=60                                #%number of cells in the panel\n",
    "ns=16                                #%number of strings in series\n",
    "np=21                                #%number of strings in parallel\n",
    "\n",
    "T = 25\n",
    "T = T+273.15                         #%[K] Panel Temperature \n",
    "G = 1000                             #%[W/m^2] Irradiance\n",
    "Voc = (36.81-(0.116)*(T-298.15))/nc  #%[V] Open Circuit Voltage\n",
    "Isc = 8.32+(5.425e-3)*(T-298.15)     #%[A] Short-Circuit current\n",
    "Iph = Isc*G/1000                     #%[A] Photocurrent\n",
    "I0 = 2.4*0.182e-6                    #%[A] Diode current\n",
    "Rs = 4.05e-04                        #%[Ohm] Series Resistance\n",
    "Rsh = 284*1000/G                     #%[Ohm] Shunt resistance\n",
    "n = 1.418                            #%[-] Ideality factor\n",
    "k_B = 1.38e-23                       #%[m2 kg s-2 K-1] Boltzmann Constant\n",
    "q=1.60e-19                           #%[C] elementary charge"
   ]
  },
  {
   "cell_type": "code",
   "execution_count": 107,
   "metadata": {
    "collapsed": false
   },
   "outputs": [
    {
     "data": {
      "image/png": "[encoded data removed]",
      "text/plain": [
       "<Figure size 432x288 with 1 Axes>"
      ]
     },
     "metadata": {
      "needs_background": "light"
     },
     "output_type": "display_data"
    },
    {
     "name": "stdout",
     "output_type": "stream",
     "text": [
      "       i_sc     v_oc      i_mp     v_mp       p_mp  Fill Factor\n",
      "0  8.319988  9.77733  7.745574  8.18702  63.413172     0.779537\n"
     ]
    },
    {
     "name": "stderr",
     "output_type": "stream",
     "text": [
      "/home/vieri/anaconda3/envs/sample/lib/python3.8/site-packages/IPython/core/pylabtools.py:137: UserWarning: Tight layout not applied. The left and right margins cannot be made large enough to accommodate all axes decorations. \n",
      "  fig.canvas.print_figure(bytes_io, **kw)\n"
     ]
    },
    {
     "data": {
      "image/png": "[encoded data removed]",
      "text/plain": [
       "<Figure size 432x288 with 1 Axes>"
      ]
     },
     "metadata": {
      "needs_background": "light"
     },
     "output_type": "display_data"
    }
   ],
   "source": [
    "from pvlib import pvsystem\n",
    "import pandas as pd\n",
    "import matplotlib.pyplot as plt\n",
    "\n",
    "# Example module parameters for the Canadian Solar CS5P-220M:\n",
    "parameters = {\n",
    "    'Name': 'PV1 Palazzina Delfino',\n",
    "    'I_sc_ref': Isc,\n",
    "    'V_oc_ref': Voc,\n",
    "    'alpha_sc': 0.06,\n",
    "    'a_ref': n*k_B*T*ns/q,\n",
    "    'I_L_ref': Iph,\n",
    "    'I_o_ref': I0,\n",
    "    'R_s': Rs,\n",
    "    'R_sh_ref': Rsh\n",
    "}\n",
    "\n",
    "cases = [\n",
    "    (1000, 25)\n",
    "#    (800, 43)\n",
    "#    (600, 25),\n",
    "#    (400, 25),\n",
    "#    (400, 40),\n",
    "#    (400, 55)\n",
    "]\n",
    "\n",
    "conditions = pd.DataFrame(cases, columns=['Geff', 'Tcell'])\n",
    "\n",
    "# adjust the reference parameters according to the operating\n",
    "# conditions using the De Soto model:\n",
    "IL, I0, Rs, Rsh, nNsVth = pvsystem.calcparams_desoto(\n",
    "    conditions['Geff'],\n",
    "    conditions['Tcell'],\n",
    "    alpha_sc=parameters['alpha_sc'],\n",
    "    a_ref=parameters['a_ref'],\n",
    "    I_L_ref=parameters['I_L_ref'],\n",
    "    I_o_ref=parameters['I_o_ref'],\n",
    "    R_sh_ref=parameters['R_sh_ref'],\n",
    "    R_s=parameters['R_s'],\n",
    "    EgRef=1.121,\n",
    "    dEgdT=-0.0002677\n",
    ")\n",
    "\n",
    "# plug the parameters into the SDE and solve for IV curves:\n",
    "curve_info = pvsystem.singlediode(\n",
    "    photocurrent=IL,\n",
    "    saturation_current=I0,\n",
    "    resistance_series=Rs,\n",
    "    resistance_shunt=Rsh,\n",
    "    nNsVth=nNsVth,\n",
    "    ivcurve_pnts=100,\n",
    "    method='lambertw'\n",
    ")\n",
    "\n",
    "# plot the calculated curves:\n",
    "plt.figure()\n",
    "for i, case in conditions.iterrows():\n",
    "    label = (\n",
    "        \"$G_{eff}$ \" + f\"{case['Geff']} $W/m^2$\\n\"\n",
    "        \"$T_{cell}$ \" + f\"{case['Tcell']} $C$\"\n",
    "    )\n",
    "    plt.plot(curve_info['v'][i], curve_info['i'][i], label=label)\n",
    "    v_mp = curve_info['v_mp'][i]\n",
    "    i_mp = curve_info['i_mp'][i]\n",
    "    # mark the MPP\n",
    "    plt.plot([v_mp], [i_mp], ls='', marker='o', c='k')\n",
    "\n",
    "plt.legend(loc=(1.0, 0))\n",
    "plt.xlabel('Module voltage [V]')\n",
    "plt.ylabel('Module current [A]')\n",
    "plt.title(parameters['Name'])\n",
    "plt.show()\n",
    "plt.gcf().set_tight_layout(True)\n",
    "\n",
    "\n",
    "# draw trend arrows\n",
    "def draw_arrow(ax, label, x0, y0, rotation, size, direction):\n",
    "    style = direction + 'arrow'\n",
    "    bbox_props = dict(boxstyle=style, fc=(0.8, 0.9, 0.9), ec=\"b\", lw=1)\n",
    "    t = ax.text(x0, y0, label, ha=\"left\", va=\"bottom\", rotation=rotation,\n",
    "                size=size, bbox=bbox_props, zorder=-1)\n",
    "\n",
    "    bb = t.get_bbox_patch()\n",
    "    bb.set_boxstyle(style, pad=0.6)\n",
    "\n",
    "\n",
    "ax = plt.gca()\n",
    "draw_arrow(ax, 'Irradiance', 20, 2.5, 90, 15, 'r')\n",
    "draw_arrow(ax, 'Temperature', 35, 1, 0, 15, 'l')\n",
    "\n",
    "print(pd.DataFrame({\n",
    "    'i_sc': curve_info['i_sc'],\n",
    "    'v_oc': curve_info['v_oc'],\n",
    "    'i_mp': curve_info['i_mp'],\n",
    "    'v_mp': curve_info['v_mp'],\n",
    "    'p_mp': curve_info['p_mp'],\n",
    "    'Fill Factor': (curve_info['i_mp']*curve_info['v_mp'])/(curve_info['i_sc']*curve_info['v_oc'])\n",
    "}))"
   ]
  },
  {
   "cell_type": "markdown",
   "metadata": {},
   "source": [
    "##### debug"
   ]
  },
  {
   "cell_type": "code",
   "execution_count": null,
   "metadata": {
    "collapsed": true
   },
   "outputs": [],
   "source": [
    "Vi=nc.*V.*ns\n",
    "P=Vi.*np.*y"
   ]
  },
  {
   "cell_type": "code",
   "execution_count": 112,
   "metadata": {
    "collapsed": false
   },
   "outputs": [],
   "source": [
    "curve_info['v'][0] = curve_info['v'][0]*nc*ns"
   ]
  },
  {
   "cell_type": "code",
   "execution_count": 113,
   "metadata": {
    "collapsed": true
   },
   "outputs": [],
   "source": [
    "curve_info['i'][0] = curve_info['i'][0]*np"
   ]
  },
  {
   "cell_type": "code",
   "execution_count": 141,
   "metadata": {
    "collapsed": true
   },
   "outputs": [],
   "source": [
    "power_array = curve_info['v'][0]*curve_info['i'][0]"
   ]
  },
  {
   "cell_type": "code",
   "execution_count": 142,
   "metadata": {
    "collapsed": false
   },
   "outputs": [
    {
     "data": {
      "text/plain": [
       "1278406.952263809"
      ]
     },
     "execution_count": 142,
     "metadata": {},
     "output_type": "execute_result"
    }
   ],
   "source": [
    "max(power_array)"
   ]
  },
  {
   "cell_type": "code",
   "execution_count": 129,
   "metadata": {
    "collapsed": false
   },
   "outputs": [],
   "source": [
    "mask = power_array == 1278406.952263809"
   ]
  },
  {
   "cell_type": "code",
   "execution_count": 133,
   "metadata": {
    "collapsed": false
   },
   "outputs": [
    {
     "data": {
      "text/plain": [
       "array([False, False, False, False, False, False, False, False, False,\n",
       "       False, False, False, False, False, False, False, False, False,\n",
       "       False, False, False, False, False, False, False, False, False,\n",
       "       False, False, False, False, False, False, False, False, False,\n",
       "       False, False, False, False, False, False, False, False, False,\n",
       "       False, False, False, False, False, False, False, False, False,\n",
       "       False, False, False, False, False, False, False, False, False,\n",
       "       False, False, False, False, False, False, False, False, False,\n",
       "       False, False, False, False, False, False, False, False, False,\n",
       "       False, False,  True, False, False, False, False, False, False,\n",
       "       False, False, False, False, False, False, False, False, False,\n",
       "       False])"
      ]
     },
     "execution_count": 133,
     "metadata": {},
     "output_type": "execute_result"
    }
   ],
   "source": [
    "power_array == 1278406.952263809"
   ]
  },
  {
   "cell_type": "code",
   "execution_count": 140,
   "metadata": {
    "collapsed": false
   },
   "outputs": [],
   "source": [
    "power_array = max(power_array)"
   ]
  },
  {
   "cell_type": "code",
   "execution_count": 138,
   "metadata": {
    "collapsed": false
   },
   "outputs": [
    {
     "ename": "AttributeError",
     "evalue": "'int' object has no attribute 'where'",
     "output_type": "error",
     "traceback": [
      "\u001b[0;31m---------------------------------------------------------------------------\u001b[0m",
      "\u001b[0;31mAttributeError\u001b[0m                            Traceback (most recent call last)",
      "\u001b[0;32m/tmp/ipykernel_32286/2431666470.py\u001b[0m in \u001b[0;36m<module>\u001b[0;34m\u001b[0m\n\u001b[0;32m----> 1\u001b[0;31m \u001b[0mnp\u001b[0m\u001b[0;34m.\u001b[0m\u001b[0mwhere\u001b[0m\u001b[0;34m(\u001b[0m\u001b[0mpower_array\u001b[0m \u001b[0;34m==\u001b[0m \u001b[0mmax\u001b[0m\u001b[0;34m(\u001b[0m\u001b[0mpower_array\u001b[0m\u001b[0;34m)\u001b[0m\u001b[0;34m)\u001b[0m\u001b[0;34m[\u001b[0m\u001b[0;36m0\u001b[0m\u001b[0;34m]\u001b[0m\u001b[0;34m\u001b[0m\u001b[0;34m\u001b[0m\u001b[0m\n\u001b[0m",
      "\u001b[0;31mAttributeError\u001b[0m: 'int' object has no attribute 'where'"
     ]
    }
   ],
   "source": [
    "np.where(power_array == max(power_array))[0]"
   ]
  },
  {
   "cell_type": "code",
   "execution_count": 122,
   "metadata": {
    "collapsed": false
   },
   "outputs": [
    {
     "data": {
      "text/plain": [
       "1278406.952263809"
      ]
     },
     "execution_count": 122,
     "metadata": {},
     "output_type": "execute_result"
    }
   ],
   "source": [
    "max(curve_info['v'][0]*curve_info['i'][0])"
   ]
  }
 ],
 "metadata": {
  "anaconda-cloud": {},
  "kernelspec": {
   "display_name": "Python [conda env:sample]",
   "language": "python",
   "name": "conda-env-sample-py"
  },
  "language_info": {
   "codemirror_mode": {
    "name": "ipython",
    "version": 3
   },
   "file_extension": ".py",
   "mimetype": "text/x-python",
   "name": "python",
   "nbconvert_exporter": "python",
   "pygments_lexer": "ipython3",
   "version": "3.8.5"
  }
 },
 "nbformat": 4,
 "nbformat_minor": 1
}
